{
 "cells": [
  {
   "cell_type": "markdown",
   "id": "bc975a04",
   "metadata": {},
   "source": [
    "## Fake News Detection - Part 2\n",
    "### Importing Libraries"
   ]
  },
  {
   "cell_type": "code",
   "execution_count": 1,
   "id": "0ceae338",
   "metadata": {},
   "outputs": [],
   "source": [
    "## Pandas Library is used to read data files  \n",
    "import pandas as pd\n",
    "## Numpy is library to create and handle arrays into machine\n",
    "import numpy as np\n",
    "# Matplotlib is used to create figures and plots \n",
    "import matplotlib.pyplot as plt\n",
    "# SKLearn library is used for all machine learning related tasks\n",
    "from sklearn.feature_extraction.text import CountVectorizer\n",
    "from sklearn.feature_extraction.text import TfidfTransformer\n",
    "from sklearn import feature_extraction, linear_model, model_selection, preprocessing\n",
    "from sklearn.metrics import accuracy_score\n",
    "from sklearn.model_selection import train_test_split\n",
    "from sklearn.pipeline import Pipeline\n",
    "# Time library is used to handle machine time\n",
    "import time"
   ]
  },
  {
   "cell_type": "markdown",
   "id": "1e8fefcb",
   "metadata": {},
   "source": [
    "# Read datasets"
   ]
  },
  {
   "cell_type": "code",
   "execution_count": 2,
   "id": "6c52b705",
   "metadata": {},
   "outputs": [],
   "source": [
    "## To Avoid Error casused by large file\n",
    "fake = pd.read_csv(\"../dataset_new/Fake.csv\",low_memory=False)\n",
    "true = pd.read_csv(\"../dataset_new/True.csv\",low_memory=False)"
   ]
  },
  {
   "cell_type": "code",
   "execution_count": 3,
   "id": "cfe77465",
   "metadata": {},
   "outputs": [
    {
     "data": {
      "text/plain": [
       "(22827, 4)"
      ]
     },
     "execution_count": 3,
     "metadata": {},
     "output_type": "execute_result"
    }
   ],
   "source": [
    "## Gettign No of obsrevation into rows and No of Feature into columns for Fake Class\n",
    "fake.shape"
   ]
  },
  {
   "cell_type": "code",
   "execution_count": 4,
   "id": "aa7f7c07",
   "metadata": {},
   "outputs": [
    {
     "data": {
      "text/plain": [
       "(21416, 4)"
      ]
     },
     "execution_count": 4,
     "metadata": {},
     "output_type": "execute_result"
    }
   ],
   "source": [
    "## Getting No of obsrevation into rows and No of Feature into columns for True Class\n",
    "true.shape"
   ]
  },
  {
   "cell_type": "markdown",
   "id": "207486be",
   "metadata": {},
   "source": [
    "# Data cleaning and preparation"
   ]
  },
  {
   "cell_type": "code",
   "execution_count": 5,
   "id": "5479fe31",
   "metadata": {},
   "outputs": [],
   "source": [
    "# Add flag to track fake and real\n",
    "fake['target'] = 'fake'\n",
    "true['target'] = 'true'"
   ]
  },
  {
   "cell_type": "code",
   "execution_count": 6,
   "id": "95f367e9",
   "metadata": {},
   "outputs": [
    {
     "data": {
      "text/plain": [
       "(44243, 5)"
      ]
     },
     "execution_count": 6,
     "metadata": {},
     "output_type": "execute_result"
    }
   ],
   "source": [
    "# Concatenate both dataframes into a single dataframe\n",
    "data = pd.concat([fake, true]).reset_index(drop = True)\n",
    "\n",
    "## Getting Matrix size for combined dataframe (Target/label is at last inedx, that's why it is converted from Mx4 to Mx5 now)\n",
    "data.shape"
   ]
  },
  {
   "cell_type": "code",
   "execution_count": 7,
   "id": "1af659dd",
   "metadata": {},
   "outputs": [],
   "source": [
    "# Shuffle the data\n",
    "from sklearn.utils import shuffle\n",
    "data = shuffle(data)\n",
    "data = data.reset_index(drop=True)"
   ]
  },
  {
   "cell_type": "code",
   "execution_count": 8,
   "id": "c6e1e68e",
   "metadata": {},
   "outputs": [
    {
     "data": {
      "text/html": [
       "<div>\n",
       "<style scoped>\n",
       "    .dataframe tbody tr th:only-of-type {\n",
       "        vertical-align: middle;\n",
       "    }\n",
       "\n",
       "    .dataframe tbody tr th {\n",
       "        vertical-align: top;\n",
       "    }\n",
       "\n",
       "    .dataframe thead th {\n",
       "        text-align: right;\n",
       "    }\n",
       "</style>\n",
       "<table border=\"1\" class=\"dataframe\">\n",
       "  <thead>\n",
       "    <tr style=\"text-align: right;\">\n",
       "      <th></th>\n",
       "      <th>title</th>\n",
       "      <th>text</th>\n",
       "      <th>subject</th>\n",
       "      <th>date</th>\n",
       "      <th>target</th>\n",
       "    </tr>\n",
       "  </thead>\n",
       "  <tbody>\n",
       "    <tr>\n",
       "      <th>0</th>\n",
       "      <td>Trump draws ire after urging Russia to find 'm...</td>\n",
       "      <td>MIAMI/WASHINGTON (Reuters) - Republican Donald...</td>\n",
       "      <td>Politics</td>\n",
       "      <td>July 27, 2016</td>\n",
       "      <td>true</td>\n",
       "    </tr>\n",
       "    <tr>\n",
       "      <th>1</th>\n",
       "      <td>Trump spends more time than predecessors in Wh...</td>\n",
       "      <td>WASHINGTON (Reuters) - In his first 100 days i...</td>\n",
       "      <td>Politics</td>\n",
       "      <td>May 3, 2017</td>\n",
       "      <td>true</td>\n",
       "    </tr>\n",
       "    <tr>\n",
       "      <th>2</th>\n",
       "      <td>JUST IN: CLOSE FRIEND of Hillary Clinton Who P...</td>\n",
       "      <td>Houston, Texas trial lawyer and Democrat mega-...</td>\n",
       "      <td>World News</td>\n",
       "      <td>Nov 19, 2017</td>\n",
       "      <td>fake</td>\n",
       "    </tr>\n",
       "    <tr>\n",
       "      <th>3</th>\n",
       "      <td>HYPOCRITE BILLY CRYSTAL INJECTS JAB At Trump I...</td>\n",
       "      <td>The bashing of Donald Trump is getting so old ...</td>\n",
       "      <td>World News</td>\n",
       "      <td>Jun 11, 2016</td>\n",
       "      <td>fake</td>\n",
       "    </tr>\n",
       "    <tr>\n",
       "      <th>4</th>\n",
       "      <td>Red States Think A Bag Of Weed Is More Danger...</td>\n",
       "      <td>Some red state Republican legislators are havi...</td>\n",
       "      <td>World News</td>\n",
       "      <td>March 21, 2016</td>\n",
       "      <td>fake</td>\n",
       "    </tr>\n",
       "  </tbody>\n",
       "</table>\n",
       "</div>"
      ],
      "text/plain": [
       "                                               title  \\\n",
       "0  Trump draws ire after urging Russia to find 'm...   \n",
       "1  Trump spends more time than predecessors in Wh...   \n",
       "2  JUST IN: CLOSE FRIEND of Hillary Clinton Who P...   \n",
       "3  HYPOCRITE BILLY CRYSTAL INJECTS JAB At Trump I...   \n",
       "4   Red States Think A Bag Of Weed Is More Danger...   \n",
       "\n",
       "                                                text     subject  \\\n",
       "0  MIAMI/WASHINGTON (Reuters) - Republican Donald...    Politics   \n",
       "1  WASHINGTON (Reuters) - In his first 100 days i...    Politics   \n",
       "2  Houston, Texas trial lawyer and Democrat mega-...  World News   \n",
       "3  The bashing of Donald Trump is getting so old ...  World News   \n",
       "4  Some red state Republican legislators are havi...  World News   \n",
       "\n",
       "             date target  \n",
       "0  July 27, 2016    true  \n",
       "1    May 3, 2017    true  \n",
       "2    Nov 19, 2017   fake  \n",
       "3    Jun 11, 2016   fake  \n",
       "4  March 21, 2016   fake  "
      ]
     },
     "execution_count": 8,
     "metadata": {},
     "output_type": "execute_result"
    }
   ],
   "source": [
    "# Displaying few of samples from the dataset\n",
    "data.head()"
   ]
  },
  {
   "cell_type": "code",
   "execution_count": 9,
   "id": "ac5e3df2",
   "metadata": {},
   "outputs": [
    {
     "data": {
      "text/html": [
       "<div>\n",
       "<style scoped>\n",
       "    .dataframe tbody tr th:only-of-type {\n",
       "        vertical-align: middle;\n",
       "    }\n",
       "\n",
       "    .dataframe tbody tr th {\n",
       "        vertical-align: top;\n",
       "    }\n",
       "\n",
       "    .dataframe thead th {\n",
       "        text-align: right;\n",
       "    }\n",
       "</style>\n",
       "<table border=\"1\" class=\"dataframe\">\n",
       "  <thead>\n",
       "    <tr style=\"text-align: right;\">\n",
       "      <th></th>\n",
       "      <th>title</th>\n",
       "      <th>text</th>\n",
       "      <th>subject</th>\n",
       "      <th>target</th>\n",
       "    </tr>\n",
       "  </thead>\n",
       "  <tbody>\n",
       "    <tr>\n",
       "      <th>0</th>\n",
       "      <td>Trump draws ire after urging Russia to find 'm...</td>\n",
       "      <td>MIAMI/WASHINGTON (Reuters) - Republican Donald...</td>\n",
       "      <td>Politics</td>\n",
       "      <td>true</td>\n",
       "    </tr>\n",
       "    <tr>\n",
       "      <th>1</th>\n",
       "      <td>Trump spends more time than predecessors in Wh...</td>\n",
       "      <td>WASHINGTON (Reuters) - In his first 100 days i...</td>\n",
       "      <td>Politics</td>\n",
       "      <td>true</td>\n",
       "    </tr>\n",
       "    <tr>\n",
       "      <th>2</th>\n",
       "      <td>JUST IN: CLOSE FRIEND of Hillary Clinton Who P...</td>\n",
       "      <td>Houston, Texas trial lawyer and Democrat mega-...</td>\n",
       "      <td>World News</td>\n",
       "      <td>fake</td>\n",
       "    </tr>\n",
       "    <tr>\n",
       "      <th>3</th>\n",
       "      <td>HYPOCRITE BILLY CRYSTAL INJECTS JAB At Trump I...</td>\n",
       "      <td>The bashing of Donald Trump is getting so old ...</td>\n",
       "      <td>World News</td>\n",
       "      <td>fake</td>\n",
       "    </tr>\n",
       "    <tr>\n",
       "      <th>4</th>\n",
       "      <td>Red States Think A Bag Of Weed Is More Danger...</td>\n",
       "      <td>Some red state Republican legislators are havi...</td>\n",
       "      <td>World News</td>\n",
       "      <td>fake</td>\n",
       "    </tr>\n",
       "  </tbody>\n",
       "</table>\n",
       "</div>"
      ],
      "text/plain": [
       "                                               title  \\\n",
       "0  Trump draws ire after urging Russia to find 'm...   \n",
       "1  Trump spends more time than predecessors in Wh...   \n",
       "2  JUST IN: CLOSE FRIEND of Hillary Clinton Who P...   \n",
       "3  HYPOCRITE BILLY CRYSTAL INJECTS JAB At Trump I...   \n",
       "4   Red States Think A Bag Of Weed Is More Danger...   \n",
       "\n",
       "                                                text     subject target  \n",
       "0  MIAMI/WASHINGTON (Reuters) - Republican Donald...    Politics   true  \n",
       "1  WASHINGTON (Reuters) - In his first 100 days i...    Politics   true  \n",
       "2  Houston, Texas trial lawyer and Democrat mega-...  World News   fake  \n",
       "3  The bashing of Donald Trump is getting so old ...  World News   fake  \n",
       "4  Some red state Republican legislators are havi...  World News   fake  "
      ]
     },
     "execution_count": 9,
     "metadata": {},
     "output_type": "execute_result"
    }
   ],
   "source": [
    "# Removing the date (we won't use it for the analysis)\n",
    "data.drop([\"date\"],axis=1,inplace=True)\n",
    "# Displaying few of samples from the dataset\n",
    "data.head()"
   ]
  },
  {
   "cell_type": "code",
   "execution_count": 10,
   "id": "0c2e38e0",
   "metadata": {},
   "outputs": [
    {
     "data": {
      "text/html": [
       "<div>\n",
       "<style scoped>\n",
       "    .dataframe tbody tr th:only-of-type {\n",
       "        vertical-align: middle;\n",
       "    }\n",
       "\n",
       "    .dataframe tbody tr th {\n",
       "        vertical-align: top;\n",
       "    }\n",
       "\n",
       "    .dataframe thead th {\n",
       "        text-align: right;\n",
       "    }\n",
       "</style>\n",
       "<table border=\"1\" class=\"dataframe\">\n",
       "  <thead>\n",
       "    <tr style=\"text-align: right;\">\n",
       "      <th></th>\n",
       "      <th>text</th>\n",
       "      <th>subject</th>\n",
       "      <th>target</th>\n",
       "    </tr>\n",
       "  </thead>\n",
       "  <tbody>\n",
       "    <tr>\n",
       "      <th>0</th>\n",
       "      <td>MIAMI/WASHINGTON (Reuters) - Republican Donald...</td>\n",
       "      <td>Politics</td>\n",
       "      <td>true</td>\n",
       "    </tr>\n",
       "    <tr>\n",
       "      <th>1</th>\n",
       "      <td>WASHINGTON (Reuters) - In his first 100 days i...</td>\n",
       "      <td>Politics</td>\n",
       "      <td>true</td>\n",
       "    </tr>\n",
       "    <tr>\n",
       "      <th>2</th>\n",
       "      <td>Houston, Texas trial lawyer and Democrat mega-...</td>\n",
       "      <td>World News</td>\n",
       "      <td>fake</td>\n",
       "    </tr>\n",
       "    <tr>\n",
       "      <th>3</th>\n",
       "      <td>The bashing of Donald Trump is getting so old ...</td>\n",
       "      <td>World News</td>\n",
       "      <td>fake</td>\n",
       "    </tr>\n",
       "    <tr>\n",
       "      <th>4</th>\n",
       "      <td>Some red state Republican legislators are havi...</td>\n",
       "      <td>World News</td>\n",
       "      <td>fake</td>\n",
       "    </tr>\n",
       "  </tbody>\n",
       "</table>\n",
       "</div>"
      ],
      "text/plain": [
       "                                                text     subject target\n",
       "0  MIAMI/WASHINGTON (Reuters) - Republican Donald...    Politics   true\n",
       "1  WASHINGTON (Reuters) - In his first 100 days i...    Politics   true\n",
       "2  Houston, Texas trial lawyer and Democrat mega-...  World News   fake\n",
       "3  The bashing of Donald Trump is getting so old ...  World News   fake\n",
       "4  Some red state Republican legislators are havi...  World News   fake"
      ]
     },
     "execution_count": 10,
     "metadata": {},
     "output_type": "execute_result"
    }
   ],
   "source": [
    "# Removing the title (we will only use the text)\n",
    "data.drop([\"title\"],axis=1,inplace=True)\n",
    "# Displaying few of samples from the dataset\n",
    "data.head()"
   ]
  },
  {
   "cell_type": "code",
   "execution_count": 11,
   "id": "25f19af0",
   "metadata": {},
   "outputs": [
    {
     "name": "stdout",
     "output_type": "stream",
     "text": [
      "0        MIAMI/WASHINGTON (Reuters) - Republican Donald...\n",
      "1        WASHINGTON (Reuters) - In his first 100 days i...\n",
      "2        Houston, Texas trial lawyer and Democrat mega-...\n",
      "3        The bashing of Donald Trump is getting so old ...\n",
      "4        Some red state Republican legislators are havi...\n",
      "                               ...                        \n",
      "44238    WASHINGTON (Reuters) - Democrats on the U.S. S...\n",
      "44239    MANCHESTER, England (Reuters) - British Prime ...\n",
      "44240     Are there any Trump donors on the team? GREAT...\n",
      "44241    Chicago doesn t tend to be one of the cities o...\n",
      "44242    BELFAST (Reuters) - The British government on ...\n",
      "Name: text, Length: 44243, dtype: object\n"
     ]
    },
    {
     "data": {
      "text/html": [
       "<div>\n",
       "<style scoped>\n",
       "    .dataframe tbody tr th:only-of-type {\n",
       "        vertical-align: middle;\n",
       "    }\n",
       "\n",
       "    .dataframe tbody tr th {\n",
       "        vertical-align: top;\n",
       "    }\n",
       "\n",
       "    .dataframe thead th {\n",
       "        text-align: right;\n",
       "    }\n",
       "</style>\n",
       "<table border=\"1\" class=\"dataframe\">\n",
       "  <thead>\n",
       "    <tr style=\"text-align: right;\">\n",
       "      <th></th>\n",
       "      <th>text</th>\n",
       "      <th>subject</th>\n",
       "      <th>target</th>\n",
       "    </tr>\n",
       "  </thead>\n",
       "  <tbody>\n",
       "    <tr>\n",
       "      <th>0</th>\n",
       "      <td>miami/washington (reuters) - republican donald...</td>\n",
       "      <td>Politics</td>\n",
       "      <td>true</td>\n",
       "    </tr>\n",
       "    <tr>\n",
       "      <th>1</th>\n",
       "      <td>washington (reuters) - in his first 100 days i...</td>\n",
       "      <td>Politics</td>\n",
       "      <td>true</td>\n",
       "    </tr>\n",
       "    <tr>\n",
       "      <th>2</th>\n",
       "      <td>houston, texas trial lawyer and democrat mega-...</td>\n",
       "      <td>World News</td>\n",
       "      <td>fake</td>\n",
       "    </tr>\n",
       "    <tr>\n",
       "      <th>3</th>\n",
       "      <td>the bashing of donald trump is getting so old ...</td>\n",
       "      <td>World News</td>\n",
       "      <td>fake</td>\n",
       "    </tr>\n",
       "    <tr>\n",
       "      <th>4</th>\n",
       "      <td>some red state republican legislators are havi...</td>\n",
       "      <td>World News</td>\n",
       "      <td>fake</td>\n",
       "    </tr>\n",
       "  </tbody>\n",
       "</table>\n",
       "</div>"
      ],
      "text/plain": [
       "                                                text     subject target\n",
       "0  miami/washington (reuters) - republican donald...    Politics   true\n",
       "1  washington (reuters) - in his first 100 days i...    Politics   true\n",
       "2  houston, texas trial lawyer and democrat mega-...  World News   fake\n",
       "3  the bashing of donald trump is getting so old ...  World News   fake\n",
       "4  some red state republican legislators are havi...  World News   fake"
      ]
     },
     "execution_count": 11,
     "metadata": {},
     "output_type": "execute_result"
    }
   ],
   "source": [
    "# Convert all the values from text column to lowercase\n",
    "print(data['text'])\n",
    "\n",
    "data['text'] = data['text'].apply(lambda x: x.lower())\n",
    "# Displaying few of samples from the dataset\n",
    "data.head()"
   ]
  },
  {
   "cell_type": "code",
   "execution_count": 12,
   "id": "d2b03b9e",
   "metadata": {},
   "outputs": [],
   "source": [
    "# Remove punctuations in text column if any \n",
    "\n",
    "import string\n",
    "\n",
    "def punctuation_removal(text):\n",
    "    all_list = [char for char in text if char not in string.punctuation]\n",
    "    clean_str = ''.join(all_list)\n",
    "    return clean_str\n",
    "\n",
    "data['text'] = data['text'].apply(punctuation_removal)"
   ]
  },
  {
   "cell_type": "code",
   "execution_count": 13,
   "id": "16c4c4db",
   "metadata": {},
   "outputs": [
    {
     "data": {
      "text/html": [
       "<div>\n",
       "<style scoped>\n",
       "    .dataframe tbody tr th:only-of-type {\n",
       "        vertical-align: middle;\n",
       "    }\n",
       "\n",
       "    .dataframe tbody tr th {\n",
       "        vertical-align: top;\n",
       "    }\n",
       "\n",
       "    .dataframe thead th {\n",
       "        text-align: right;\n",
       "    }\n",
       "</style>\n",
       "<table border=\"1\" class=\"dataframe\">\n",
       "  <thead>\n",
       "    <tr style=\"text-align: right;\">\n",
       "      <th></th>\n",
       "      <th>text</th>\n",
       "      <th>subject</th>\n",
       "      <th>target</th>\n",
       "    </tr>\n",
       "  </thead>\n",
       "  <tbody>\n",
       "    <tr>\n",
       "      <th>0</th>\n",
       "      <td>miamiwashington reuters  republican donald tru...</td>\n",
       "      <td>Politics</td>\n",
       "      <td>true</td>\n",
       "    </tr>\n",
       "    <tr>\n",
       "      <th>1</th>\n",
       "      <td>washington reuters  in his first 100 days in o...</td>\n",
       "      <td>Politics</td>\n",
       "      <td>true</td>\n",
       "    </tr>\n",
       "    <tr>\n",
       "      <th>2</th>\n",
       "      <td>houston texas trial lawyer and democrat megado...</td>\n",
       "      <td>World News</td>\n",
       "      <td>fake</td>\n",
       "    </tr>\n",
       "    <tr>\n",
       "      <th>3</th>\n",
       "      <td>the bashing of donald trump is getting so old ...</td>\n",
       "      <td>World News</td>\n",
       "      <td>fake</td>\n",
       "    </tr>\n",
       "    <tr>\n",
       "      <th>4</th>\n",
       "      <td>some red state republican legislators are havi...</td>\n",
       "      <td>World News</td>\n",
       "      <td>fake</td>\n",
       "    </tr>\n",
       "  </tbody>\n",
       "</table>\n",
       "</div>"
      ],
      "text/plain": [
       "                                                text     subject target\n",
       "0  miamiwashington reuters  republican donald tru...    Politics   true\n",
       "1  washington reuters  in his first 100 days in o...    Politics   true\n",
       "2  houston texas trial lawyer and democrat megado...  World News   fake\n",
       "3  the bashing of donald trump is getting so old ...  World News   fake\n",
       "4  some red state republican legislators are havi...  World News   fake"
      ]
     },
     "execution_count": 13,
     "metadata": {},
     "output_type": "execute_result"
    }
   ],
   "source": [
    "# Displaying few of samples from the dataset\n",
    "data.head()"
   ]
  },
  {
   "cell_type": "code",
   "execution_count": 14,
   "id": "bd7d4c45",
   "metadata": {},
   "outputs": [
    {
     "name": "stdout",
     "output_type": "stream",
     "text": [
      "File Already Exist :  C:\\Users\\\\Rashid Rao\\AppData\\Roaming\\nltk_data\\corpora\\stopwords.zip\n"
     ]
    }
   ],
   "source": [
    "# Removing stopwords\n",
    "# Mightbe it gives error in mac, if it gives error in mac, you can remove from line 3 to line 12 (else word) and keep only\n",
    "# keep this only ->  nltk.download('stopwords')\n",
    "# From line 3 to line 12, it is just checking whether the stopwords file is already downloaded or not\n",
    "import os\n",
    "base_dir = (r\"C:\\Users\\\\\")\n",
    "user = os.getlogin()\n",
    "filename =(r\"\\AppData\\Roaming\\nltk_data\\corpora\\stopwords.zip\")\n",
    "fullpath = (base_dir + user + filename)\n",
    "\n",
    "import nltk\n",
    "if fullpath:\n",
    "    print('File Already Exist : ',fullpath)\n",
    "else:\n",
    "    nltk.download('stopwords')\n",
    "\n",
    "from nltk.corpus import stopwords\n",
    "stop = stopwords.words('english')\n",
    "# Removing stop word in Text column\n",
    "data['text'] = data['text'].apply(lambda x: ' '.join([word for word in x.split() if word not in (stop)]))"
   ]
  },
  {
   "cell_type": "code",
   "execution_count": 15,
   "id": "6225515d",
   "metadata": {},
   "outputs": [
    {
     "data": {
      "text/html": [
       "<div>\n",
       "<style scoped>\n",
       "    .dataframe tbody tr th:only-of-type {\n",
       "        vertical-align: middle;\n",
       "    }\n",
       "\n",
       "    .dataframe tbody tr th {\n",
       "        vertical-align: top;\n",
       "    }\n",
       "\n",
       "    .dataframe thead th {\n",
       "        text-align: right;\n",
       "    }\n",
       "</style>\n",
       "<table border=\"1\" class=\"dataframe\">\n",
       "  <thead>\n",
       "    <tr style=\"text-align: right;\">\n",
       "      <th></th>\n",
       "      <th>text</th>\n",
       "      <th>subject</th>\n",
       "      <th>target</th>\n",
       "    </tr>\n",
       "  </thead>\n",
       "  <tbody>\n",
       "    <tr>\n",
       "      <th>0</th>\n",
       "      <td>miamiwashington reuters republican donald trum...</td>\n",
       "      <td>Politics</td>\n",
       "      <td>true</td>\n",
       "    </tr>\n",
       "    <tr>\n",
       "      <th>1</th>\n",
       "      <td>washington reuters first 100 days office donal...</td>\n",
       "      <td>Politics</td>\n",
       "      <td>true</td>\n",
       "    </tr>\n",
       "    <tr>\n",
       "      <th>2</th>\n",
       "      <td>houston texas trial lawyer democrat megadonor ...</td>\n",
       "      <td>World News</td>\n",
       "      <td>fake</td>\n",
       "    </tr>\n",
       "    <tr>\n",
       "      <th>3</th>\n",
       "      <td>bashing donald trump getting old tiresome peop...</td>\n",
       "      <td>World News</td>\n",
       "      <td>fake</td>\n",
       "    </tr>\n",
       "    <tr>\n",
       "      <th>4</th>\n",
       "      <td>red state republican legislators severe emotio...</td>\n",
       "      <td>World News</td>\n",
       "      <td>fake</td>\n",
       "    </tr>\n",
       "  </tbody>\n",
       "</table>\n",
       "</div>"
      ],
      "text/plain": [
       "                                                text     subject target\n",
       "0  miamiwashington reuters republican donald trum...    Politics   true\n",
       "1  washington reuters first 100 days office donal...    Politics   true\n",
       "2  houston texas trial lawyer democrat megadonor ...  World News   fake\n",
       "3  bashing donald trump getting old tiresome peop...  World News   fake\n",
       "4  red state republican legislators severe emotio...  World News   fake"
      ]
     },
     "execution_count": 15,
     "metadata": {},
     "output_type": "execute_result"
    }
   ],
   "source": [
    "# Displaying few of samples from the dataset\n",
    "data.head()"
   ]
  },
  {
   "cell_type": "code",
   "execution_count": 16,
   "id": "7df6b0b0",
   "metadata": {},
   "outputs": [
    {
     "data": {
      "text/plain": [
       "(44243, 3)"
      ]
     },
     "execution_count": 16,
     "metadata": {},
     "output_type": "execute_result"
    }
   ],
   "source": [
    "# Shape of Data \n",
    "data.shape"
   ]
  },
  {
   "cell_type": "markdown",
   "id": "163b16e2",
   "metadata": {},
   "source": [
    "# Splitting Data according to Subjects"
   ]
  },
  {
   "cell_type": "code",
   "execution_count": 17,
   "id": "3ad41a56",
   "metadata": {},
   "outputs": [
    {
     "data": {
      "text/html": [
       "<div>\n",
       "<style scoped>\n",
       "    .dataframe tbody tr th:only-of-type {\n",
       "        vertical-align: middle;\n",
       "    }\n",
       "\n",
       "    .dataframe tbody tr th {\n",
       "        vertical-align: top;\n",
       "    }\n",
       "\n",
       "    .dataframe thead th {\n",
       "        text-align: right;\n",
       "    }\n",
       "</style>\n",
       "<table border=\"1\" class=\"dataframe\">\n",
       "  <thead>\n",
       "    <tr style=\"text-align: right;\">\n",
       "      <th></th>\n",
       "      <th>text</th>\n",
       "      <th>subject</th>\n",
       "      <th>target</th>\n",
       "    </tr>\n",
       "  </thead>\n",
       "  <tbody>\n",
       "    <tr>\n",
       "      <th>0</th>\n",
       "      <td>miamiwashington reuters republican donald trum...</td>\n",
       "      <td>Politics</td>\n",
       "      <td>true</td>\n",
       "    </tr>\n",
       "    <tr>\n",
       "      <th>1</th>\n",
       "      <td>washington reuters first 100 days office donal...</td>\n",
       "      <td>Politics</td>\n",
       "      <td>true</td>\n",
       "    </tr>\n",
       "    <tr>\n",
       "      <th>5</th>\n",
       "      <td>reuters us senator chuck grassley asked depart...</td>\n",
       "      <td>Politics</td>\n",
       "      <td>true</td>\n",
       "    </tr>\n",
       "    <tr>\n",
       "      <th>6</th>\n",
       "      <td>washington reuters us presidentelect donald tr...</td>\n",
       "      <td>Politics</td>\n",
       "      <td>true</td>\n",
       "    </tr>\n",
       "    <tr>\n",
       "      <th>16</th>\n",
       "      <td>washington reuters president donald trump chie...</td>\n",
       "      <td>Politics</td>\n",
       "      <td>true</td>\n",
       "    </tr>\n",
       "  </tbody>\n",
       "</table>\n",
       "</div>"
      ],
      "text/plain": [
       "                                                 text   subject target\n",
       "0   miamiwashington reuters republican donald trum...  Politics   true\n",
       "1   washington reuters first 100 days office donal...  Politics   true\n",
       "5   reuters us senator chuck grassley asked depart...  Politics   true\n",
       "6   washington reuters us presidentelect donald tr...  Politics   true\n",
       "16  washington reuters president donald trump chie...  Politics   true"
      ]
     },
     "execution_count": 17,
     "metadata": {},
     "output_type": "execute_result"
    }
   ],
   "source": [
    "## Subject No 1 == Politics\n",
    "data_1 = data[data['subject'] == 'Politics']\n",
    "# Displaying few of samples from the dataset\n",
    "data_1.head()"
   ]
  },
  {
   "cell_type": "code",
   "execution_count": 18,
   "id": "757892a1",
   "metadata": {},
   "outputs": [
    {
     "data": {
      "text/plain": [
       "(17694, 3)"
      ]
     },
     "execution_count": 18,
     "metadata": {},
     "output_type": "execute_result"
    }
   ],
   "source": [
    "# Shape of Data After Selecting Subject 1\n",
    "data_1.shape"
   ]
  },
  {
   "cell_type": "code",
   "execution_count": 19,
   "id": "d13fb8b3",
   "metadata": {},
   "outputs": [
    {
     "data": {
      "text/html": [
       "<div>\n",
       "<style scoped>\n",
       "    .dataframe tbody tr th:only-of-type {\n",
       "        vertical-align: middle;\n",
       "    }\n",
       "\n",
       "    .dataframe tbody tr th {\n",
       "        vertical-align: top;\n",
       "    }\n",
       "\n",
       "    .dataframe thead th {\n",
       "        text-align: right;\n",
       "    }\n",
       "</style>\n",
       "<table border=\"1\" class=\"dataframe\">\n",
       "  <thead>\n",
       "    <tr style=\"text-align: right;\">\n",
       "      <th></th>\n",
       "      <th>text</th>\n",
       "      <th>subject</th>\n",
       "      <th>target</th>\n",
       "    </tr>\n",
       "  </thead>\n",
       "  <tbody>\n",
       "    <tr>\n",
       "      <th>2</th>\n",
       "      <td>houston texas trial lawyer democrat megadonor ...</td>\n",
       "      <td>World News</td>\n",
       "      <td>fake</td>\n",
       "    </tr>\n",
       "    <tr>\n",
       "      <th>3</th>\n",
       "      <td>bashing donald trump getting old tiresome peop...</td>\n",
       "      <td>World News</td>\n",
       "      <td>fake</td>\n",
       "    </tr>\n",
       "    <tr>\n",
       "      <th>4</th>\n",
       "      <td>red state republican legislators severe emotio...</td>\n",
       "      <td>World News</td>\n",
       "      <td>fake</td>\n",
       "    </tr>\n",
       "    <tr>\n",
       "      <th>7</th>\n",
       "      <td>nairobi reuters swearing alternative president...</td>\n",
       "      <td>World News</td>\n",
       "      <td>true</td>\n",
       "    </tr>\n",
       "    <tr>\n",
       "      <th>8</th>\n",
       "      <td>conservative reporter brave enough grab mic cl...</td>\n",
       "      <td>World News</td>\n",
       "      <td>fake</td>\n",
       "    </tr>\n",
       "  </tbody>\n",
       "</table>\n",
       "</div>"
      ],
      "text/plain": [
       "                                                text     subject target\n",
       "2  houston texas trial lawyer democrat megadonor ...  World News   fake\n",
       "3  bashing donald trump getting old tiresome peop...  World News   fake\n",
       "4  red state republican legislators severe emotio...  World News   fake\n",
       "7  nairobi reuters swearing alternative president...  World News   true\n",
       "8  conservative reporter brave enough grab mic cl...  World News   fake"
      ]
     },
     "execution_count": 19,
     "metadata": {},
     "output_type": "execute_result"
    }
   ],
   "source": [
    "## Subject No 2 == World News\n",
    "data_2 = data[data['subject'] == 'World News']\n",
    "# Displaying few of samples from the dataset\n",
    "data_2.head()"
   ]
  },
  {
   "cell_type": "code",
   "execution_count": 20,
   "id": "afc910f1",
   "metadata": {},
   "outputs": [
    {
     "data": {
      "text/plain": [
       "(26545, 3)"
      ]
     },
     "execution_count": 20,
     "metadata": {},
     "output_type": "execute_result"
    }
   ],
   "source": [
    "# Shape of Data After Selecting Subject 2\n",
    "data_2.shape"
   ]
  },
  {
   "cell_type": "markdown",
   "id": "9df44b1b",
   "metadata": {},
   "source": [
    "# Basic data exploration"
   ]
  },
  {
   "cell_type": "code",
   "execution_count": 21,
   "id": "c65082c5",
   "metadata": {},
   "outputs": [
    {
     "name": "stdout",
     "output_type": "stream",
     "text": [
      "target\n",
      "fake     6423\n",
      "true    11271\n",
      "Name: text, dtype: int64\n"
     ]
    },
    {
     "data": {
      "image/png": "[encoded data removed]",
      "text/plain": [
       "<Figure size 432x288 with 1 Axes>"
      ]
     },
     "metadata": {
      "needs_background": "light"
     },
     "output_type": "display_data"
    }
   ],
   "source": [
    "# How many fake and real articles in Subject 1?\n",
    "print(data_1.groupby(['target'])['text'].count())\n",
    "data_1.groupby(['target'])['text'].count().plot(kind=\"bar\",color=(0.1, 0.1, 0.1, 0.1),edgecolor='blue')\n",
    "plt.xticks(rotation=45)\n",
    "plt.show()"
   ]
  },
  {
   "cell_type": "code",
   "execution_count": 22,
   "id": "4ae19bea",
   "metadata": {},
   "outputs": [
    {
     "name": "stdout",
     "output_type": "stream",
     "text": [
      "target\n",
      "fake    16400\n",
      "true    10145\n",
      "Name: text, dtype: int64\n"
     ]
    },
    {
     "data": {
      "image/png": "[encoded data removed]",
      "text/plain": [
       "<Figure size 432x288 with 1 Axes>"
      ]
     },
     "metadata": {
      "needs_background": "light"
     },
     "output_type": "display_data"
    }
   ],
   "source": [
    "# How many fake and real articles in Subject 2?\n",
    "print(data_2.groupby(['target'])['text'].count())\n",
    "data_2.groupby(['target'])['text'].count().plot(kind=\"bar\",color=(0.1, 0.1, 0.1, 0.1),edgecolor='blue')\n",
    "plt.xticks(rotation=45)\n",
    "plt.show()"
   ]
  },
  {
   "cell_type": "code",
   "execution_count": 23,
   "id": "3b83e546",
   "metadata": {},
   "outputs": [
    {
     "data": {
      "image/png": "[encoded data removed]",
      "text/plain": [
       "<Figure size 360x432 with 1 Axes>"
      ]
     },
     "metadata": {},
     "output_type": "display_data"
    }
   ],
   "source": [
    "# Show Percentage of True and Fake News  for Subject 1\n",
    "\n",
    "import matplotlib.pyplot as plt\n",
    "classes=['True','Fake']\n",
    "\n",
    "# Pie chart, where the slices will be ordered and plotted counter-clockwise:\n",
    "labels = classes\n",
    "sizes =  data_1.groupby(['target'])['text'].count()\n",
    "\n",
    "fig1, ax1 = plt.subplots(figsize=(5, 6))\n",
    "ax1.pie(sizes, labels=labels, autopct='%1.2f%%',\n",
    "        shadow=True, startangle=90)\n",
    "ax1.axis('equal')  # Equal aspect ratio ensures that pie is drawn as a circle.\n",
    "plt.title('Pie Chart: Percentage of True and Fake News in Politics Subject')\n",
    "plt.show()"
   ]
  },
  {
   "cell_type": "code",
   "execution_count": 24,
   "id": "f1db3c68",
   "metadata": {},
   "outputs": [
    {
     "data": {
      "image/png": "[encoded data removed]",
      "text/plain": [
       "<Figure size 360x432 with 1 Axes>"
      ]
     },
     "metadata": {},
     "output_type": "display_data"
    }
   ],
   "source": [
    "## Show Percentage of True and Fake News  for Subject 2\n",
    "import matplotlib.pyplot as plt\n",
    "classes=['True','Fake']\n",
    "\n",
    "# Pie chart, where the slices will be ordered and plotted counter-clockwise:\n",
    "labels = classes\n",
    "sizes =  data_2.groupby(['target'])['text'].count()\n",
    "\n",
    "fig1, ax1 = plt.subplots(figsize=(5, 6))\n",
    "ax1.pie(sizes, labels=labels, autopct='%1.2f%%',\n",
    "        shadow=True, startangle=90)\n",
    "ax1.axis('equal')  # Equal aspect ratio ensures that pie is drawn as a circle.\n",
    "plt.title('Pie Chart: Percentage of True and Fake News in World News Subject')\n",
    "plt.show()"
   ]
  },
  {
   "cell_type": "markdown",
   "id": "029f22d2",
   "metadata": {},
   "source": [
    "# Modeling"
   ]
  },
  {
   "cell_type": "code",
   "execution_count": 25,
   "id": "f1e5a5d1",
   "metadata": {},
   "outputs": [],
   "source": [
    "# Function to plot the confusion matrix (code from https://scikit-learn.org/stable/auto_examples/model_selection/plot_confusion_matrix.html)\n",
    "from sklearn import metrics\n",
    "import itertools\n",
    "\n",
    "## User defined function to create Confusion Matrix\n",
    "def plot_confusion_matrix(cm, classes,\n",
    "                          normalize=False,\n",
    "                          title='Confusion matrix',\n",
    "                          cmap=plt.cm.Blues):\n",
    "    \n",
    "    plt.imshow(cm, interpolation='nearest', cmap=cmap)\n",
    "    plt.title(title)\n",
    "    plt.colorbar()\n",
    "    tick_marks = np.arange(len(classes))\n",
    "    plt.xticks(tick_marks, classes, rotation=45)\n",
    "    plt.yticks(tick_marks, classes)\n",
    "\n",
    "    if normalize:\n",
    "        cm = cm.astype('float') / cm.sum(axis=1)[:, np.newaxis]\n",
    "        print(\"Normalized confusion matrix\")\n",
    "    else:\n",
    "        print('Confusion matrix, without normalization')\n",
    "\n",
    "    thresh = cm.max() / 2.\n",
    "    for i, j in itertools.product(range(cm.shape[0]), range(cm.shape[1])):\n",
    "        plt.text(j, i, cm[i, j],\n",
    "                 horizontalalignment=\"center\",\n",
    "                 color=\"white\" if cm[i, j] > thresh else \"black\")\n",
    "\n",
    "    plt.tight_layout()\n",
    "    plt.ylabel('True label')\n",
    "    plt.xlabel('Predicted label')"
   ]
  },
  {
   "cell_type": "markdown",
   "id": "2bf571d4",
   "metadata": {},
   "source": [
    "# Peparing the data"
   ]
  },
  {
   "cell_type": "code",
   "execution_count": 26,
   "id": "fe20354c",
   "metadata": {},
   "outputs": [],
   "source": [
    "# Split the data for Subject 1\n",
    "# test size = 0.2 means it will split 80% data for training and rest 20% for the testing\n",
    "X_train_1,X_test_1,y_train_1,y_test_1 = train_test_split(data_1['text'], data_1.target, test_size=0.2, random_state=42)"
   ]
  },
  {
   "cell_type": "code",
   "execution_count": 27,
   "id": "8646f1ac",
   "metadata": {},
   "outputs": [],
   "source": [
    "# Split the data for Subject 2\n",
    "# test size = 0.2 means it will split 80% data for training and rest 20% for the testing\n",
    "X_train_2,X_test_2,y_train_2,y_test_2 = train_test_split(data_2['text'], data_2.target, test_size=0.2, random_state=42)"
   ]
  },
  {
   "cell_type": "code",
   "execution_count": 28,
   "id": "2a48ff46",
   "metadata": {},
   "outputs": [],
   "source": [
    "## Creating Dictionaries to Store Results\n",
    "dct_1 = dict()\n",
    "dct_time_1 = dict()\n",
    "dct_2 = dict()\n",
    "dct_time_2 = dict()"
   ]
  },
  {
   "cell_type": "markdown",
   "id": "e9d2731d",
   "metadata": {},
   "source": [
    "# Naive Bayes"
   ]
  },
  {
   "cell_type": "code",
   "execution_count": 29,
   "id": "18fe41c6",
   "metadata": {},
   "outputs": [],
   "source": [
    "# Importing functions from SKLearn Library\n",
    "from sklearn.naive_bayes import MultinomialNB\n",
    "\n",
    "NB_classifier = MultinomialNB()\n",
    "pipe = Pipeline([('vect', CountVectorizer()),\n",
    "                 ('tfidf', TfidfTransformer()),\n",
    "                 ('model', NB_classifier)])"
   ]
  },
  {
   "cell_type": "code",
   "execution_count": 30,
   "id": "96fea925",
   "metadata": {},
   "outputs": [
    {
     "name": "stdout",
     "output_type": "stream",
     "text": [
      "Training time for Naive Bayes: 3.08s\n",
      "accuracy: 79.8%\n"
     ]
    }
   ],
   "source": [
    "# For Subject 1\n",
    "## Getting machine time to evaluate how much time will algorithm take to train \n",
    "start = time.time()\n",
    "# Training the model\n",
    "model = pipe.fit(X_train_1, y_train_1)\n",
    "stop = time.time()\n",
    "# Showing Training Time taken\n",
    "print(f\"Training time for Naive Bayes: {round((stop - start),2)}s\")\n",
    "# Predicting Labels from Test Set by Trained Model\n",
    "prediction = model.predict(X_test_1)\n",
    "# Showing Test Accuracy by Trained Classifier\n",
    "print(\"accuracy: {}%\".format(round(accuracy_score(y_test_1, prediction)*100,2)))\n",
    "## Storing Test Accuracy and Training Time in the data dictionaries for Plotting at the end\n",
    "dct_1['Naive Bayes'] = round(accuracy_score(y_test_1, prediction)*100,2)\n",
    "dct_time_1['Naive Bayes'] = round((stop - start),2)"
   ]
  },
  {
   "cell_type": "code",
   "execution_count": 31,
   "id": "07b2b6da",
   "metadata": {},
   "outputs": [
    {
     "name": "stdout",
     "output_type": "stream",
     "text": [
      "Confusion matrix, without normalization\n"
     ]
    },
    {
     "data": {
      "image/png": "[encoded data removed]",
      "text/plain": [
       "<Figure size 432x288 with 2 Axes>"
      ]
     },
     "metadata": {
      "needs_background": "light"
     },
     "output_type": "display_data"
    }
   ],
   "source": [
    "## CONFUSION MATRIX FOR SUBJECT 1\n",
    "cm = metrics.confusion_matrix(y_test_1, prediction)\n",
    "plot_confusion_matrix(cm, classes=['Fake', 'Real'])"
   ]
  },
  {
   "cell_type": "code",
   "execution_count": 32,
   "id": "f6780502",
   "metadata": {},
   "outputs": [
    {
     "name": "stdout",
     "output_type": "stream",
     "text": [
      "Training time for Naive Bayes: 4.68s\n",
      "accuracy: 97.21%\n"
     ]
    }
   ],
   "source": [
    "## For Subject 2\n",
    "start = time.time()\n",
    "# Training the model\n",
    "model = pipe.fit(X_train_2, y_train_2)\n",
    "## Getting machine time to evaluate how much time will algorithm take to train \n",
    "stop = time.time()\n",
    "# Showing Training Time taken\n",
    "print(f\"Training time for Naive Bayes: {round((stop - start),2)}s\")\n",
    "# Predicting Labels from Test Set by Trained Model\n",
    "prediction = model.predict(X_test_2)\n",
    "print(\"accuracy: {}%\".format(round(accuracy_score(y_test_2, prediction)*100,2)))\n",
    "## Storing Test Accuracy and Training Time in the data dictionaries for Plotting at the end\n",
    "dct_2['Naive Bayes'] = round(accuracy_score(y_test_2, prediction)*100,2)\n",
    "dct_time_2['Naive Bayes'] = round((stop - start),2)"
   ]
  },
  {
   "cell_type": "code",
   "execution_count": 33,
   "id": "6a559deb",
   "metadata": {},
   "outputs": [
    {
     "name": "stdout",
     "output_type": "stream",
     "text": [
      "Confusion matrix, without normalization\n"
     ]
    },
    {
     "data": {
      "image/png": "[encoded data removed]",
      "text/plain": [
       "<Figure size 432x288 with 2 Axes>"
      ]
     },
     "metadata": {
      "needs_background": "light"
     },
     "output_type": "display_data"
    }
   ],
   "source": [
    "## CONFUSION MATRIX FOR SUBJECT 2\n",
    "cm = metrics.confusion_matrix(y_test_2, prediction)\n",
    "plot_confusion_matrix(cm, classes=['Fake', 'Real'])"
   ]
  },
  {
   "cell_type": "markdown",
   "id": "7f1b1021",
   "metadata": {},
   "source": [
    "# Logistic regression"
   ]
  },
  {
   "cell_type": "code",
   "execution_count": 34,
   "id": "61c1aec3",
   "metadata": {},
   "outputs": [],
   "source": [
    "# Vectorizing and applying TF-IDF\n",
    "# Importing functions from SKLearn Library\n",
    "from sklearn.linear_model import LogisticRegression\n",
    "\n",
    "pipe = Pipeline([('vect', CountVectorizer()),\n",
    "                 ('tfidf', TfidfTransformer()),\n",
    "                 ('model', LogisticRegression())])"
   ]
  },
  {
   "cell_type": "code",
   "execution_count": 35,
   "id": "9b873c3e",
   "metadata": {},
   "outputs": [
    {
     "name": "stdout",
     "output_type": "stream",
     "text": [
      "Training time for Logistic Regression: 4.73s\n",
      "accuracy: 97.6%\n"
     ]
    }
   ],
   "source": [
    "## For Subject 1\n",
    "## Getting machine time to evaluate how much time will algorithm take to train \n",
    "start = time.time()\n",
    "# Training the model\n",
    "model = pipe.fit(X_train_1, y_train_1)\n",
    "## Getting machine time to evaluate how much time will algorithm take to train \n",
    "stop = time.time()\n",
    "# Showing Training Time taken\n",
    "print(f\"Training time for Logistic Regression: {round((stop - start),2)}s\")\n",
    "# Predicting Labels from Test Set by Trained Model\n",
    "prediction = model.predict(X_test_1)\n",
    "print(\"accuracy: {}%\".format(round(accuracy_score(y_test_1, prediction)*100,2)))\n",
    "\n",
    "## Storing Test Accuracy and Training Time in the data dictionaries for Plotting at the end\n",
    "dct_1['Logistic Regression'] = round(accuracy_score(y_test_1, prediction)*100,2)\n",
    "dct_time_1['Logistic Regression'] = round((stop - start),2)\n"
   ]
  },
  {
   "cell_type": "code",
   "execution_count": 36,
   "id": "25986f8d",
   "metadata": {},
   "outputs": [
    {
     "name": "stdout",
     "output_type": "stream",
     "text": [
      "Confusion matrix, without normalization\n"
     ]
    },
    {
     "data": {
      "image/png": "[encoded data removed]",
      "text/plain": [
       "<Figure size 432x288 with 2 Axes>"
      ]
     },
     "metadata": {
      "needs_background": "light"
     },
     "output_type": "display_data"
    }
   ],
   "source": [
    "## CONFUSION MATRIX FOR SUBJECT 1\n",
    "cm = metrics.confusion_matrix(y_test_1, prediction)\n",
    "plot_confusion_matrix(cm, classes=['Fake', 'Real'])"
   ]
  },
  {
   "cell_type": "code",
   "execution_count": 37,
   "id": "cf484174",
   "metadata": {},
   "outputs": [
    {
     "name": "stdout",
     "output_type": "stream",
     "text": [
      "Training time for Logistic Regression: 5.78s\n",
      "accuracy: 99.15%\n"
     ]
    }
   ],
   "source": [
    "## For Subject 2\n",
    "## Getting machine time to evaluate how much time will algorithm take to train \n",
    "start = time.time()\n",
    "\n",
    "# Training the model\n",
    "model = pipe.fit(X_train_2, y_train_2)\n",
    "## Getting machine time to evaluate how much time will algorithm take to train \n",
    "stop = time.time()\n",
    "# Showing Training Time taken\n",
    "print(f\"Training time for Logistic Regression: {round((stop - start),2)}s\")\n",
    "# Predicting Labels from Test Set by Trained Model\n",
    "prediction = model.predict(X_test_2)\n",
    "print(\"accuracy: {}%\".format(round(accuracy_score(y_test_2, prediction)*100,2)))\n",
    "## Storing Test Accuracy and Training Time in the data dictionaries for Plotting at the end\n",
    "dct_2['Logistic Regression'] = round(accuracy_score(y_test_2, prediction)*100,2)\n",
    "dct_time_2['Logistic Regression'] = round((stop - start),2)"
   ]
  },
  {
   "cell_type": "code",
   "execution_count": 38,
   "id": "644faef1",
   "metadata": {},
   "outputs": [
    {
     "name": "stdout",
     "output_type": "stream",
     "text": [
      "Confusion matrix, without normalization\n"
     ]
    },
    {
     "data": {
      "image/png": "[encoded data removed]",
      "text/plain": [
       "<Figure size 432x288 with 2 Axes>"
      ]
     },
     "metadata": {
      "needs_background": "light"
     },
     "output_type": "display_data"
    }
   ],
   "source": [
    "## CONFUSION MATRIX FOR SUBJECT 2\n",
    "cm = metrics.confusion_matrix(y_test_2, prediction)\n",
    "plot_confusion_matrix(cm, classes=['Fake', 'Real'])"
   ]
  },
  {
   "cell_type": "markdown",
   "id": "71973619",
   "metadata": {},
   "source": [
    "# Decision Tree"
   ]
  },
  {
   "cell_type": "code",
   "execution_count": 39,
   "id": "7ffc0ebd",
   "metadata": {},
   "outputs": [],
   "source": [
    "# Importing functions from SKLearn Library\n",
    "from sklearn.tree import DecisionTreeClassifier\n",
    "\n",
    "# Vectorizing and applying TF-IDF\n",
    "pipe = Pipeline([('vect', CountVectorizer()),\n",
    "                 ('tfidf', TfidfTransformer()),\n",
    "                 ('model', DecisionTreeClassifier(criterion= 'entropy',\n",
    "                                           max_depth = 20, \n",
    "                                           splitter='best', \n",
    "                                           random_state=42))])"
   ]
  },
  {
   "cell_type": "code",
   "execution_count": 40,
   "id": "4992255b",
   "metadata": {},
   "outputs": [
    {
     "name": "stdout",
     "output_type": "stream",
     "text": [
      "Training time for Decision Tree : 6.19s\n",
      "accuracy: 99.38%\n"
     ]
    }
   ],
   "source": [
    "## Training for Subject 1\n",
    "## Getting machine time to evaluate how much time will algorithm take to train \n",
    "start = time.time()\n",
    "# Training the model\n",
    "model = pipe.fit(X_train_1, y_train_1)\n",
    "## Getting machine time to evaluate how much time will algorithm take to train \n",
    "stop = time.time()\n",
    "print(f\"Training time for Decision Tree : {round((stop - start),2)}s\")\n",
    "\n",
    "# Predicting Labels from Test Set by Trained Model\n",
    "prediction = model.predict(X_test_1)\n",
    "print(\"accuracy: {}%\".format(round(accuracy_score(y_test_1, prediction)*100,2)))\n",
    "## Storing Test Accuracy and Training Time in the data dictionaries for Plotting at the end\n",
    "dct_1['Decision Tree'] = round(accuracy_score(y_test_1, prediction)*100,2)\n",
    "dct_time_1['Decision Tree'] = round((stop - start),2)"
   ]
  },
  {
   "cell_type": "code",
   "execution_count": 41,
   "id": "fc4da5a3",
   "metadata": {},
   "outputs": [
    {
     "name": "stdout",
     "output_type": "stream",
     "text": [
      "Confusion matrix, without normalization\n"
     ]
    },
    {
     "data": {
      "image/png": "[encoded data removed]",
      "text/plain": [
       "<Figure size 432x288 with 2 Axes>"
      ]
     },
     "metadata": {
      "needs_background": "light"
     },
     "output_type": "display_data"
    }
   ],
   "source": [
    "## CONFUSION MATRIX FOR SUBJECT 1\n",
    "cm = metrics.confusion_matrix(y_test_1, prediction)\n",
    "plot_confusion_matrix(cm, classes=['Fake', 'Real'])"
   ]
  },
  {
   "cell_type": "code",
   "execution_count": 42,
   "id": "9a9ef62e",
   "metadata": {},
   "outputs": [
    {
     "name": "stdout",
     "output_type": "stream",
     "text": [
      "Training time for Decision Tree : 8.06s\n",
      "accuracy: 99.68%\n"
     ]
    }
   ],
   "source": [
    "## Training for Subject 2\n",
    "## Getting machine time to evaluate how much time will algorithm take to train \n",
    "start = time.time()\n",
    "# Training the model\n",
    "model = pipe.fit(X_train_2, y_train_2)\n",
    "## Getting machine time to evaluate how much time will algorithm take to train \n",
    "stop = time.time()\n",
    "print(f\"Training time for Decision Tree : {round((stop - start),2)}s\")\n",
    "\n",
    "# Predicting Labels from Test Set by Trained Model\n",
    "prediction = model.predict(X_test_2)\n",
    "print(\"accuracy: {}%\".format(round(accuracy_score(y_test_2, prediction)*100,2)))\n",
    "## Storing Test Accuracy and Training Time in the data dictionaries for Plotting at the end\n",
    "dct_2['Decision Tree'] = round(accuracy_score(y_test_2, prediction)*100,2)\n",
    "dct_time_2['Decision Tree'] = round((stop - start),2)"
   ]
  },
  {
   "cell_type": "code",
   "execution_count": 43,
   "id": "6573abf2",
   "metadata": {},
   "outputs": [
    {
     "name": "stdout",
     "output_type": "stream",
     "text": [
      "Confusion matrix, without normalization\n"
     ]
    },
    {
     "data": {
      "image/png": "[encoded data removed]",
      "text/plain": [
       "<Figure size 432x288 with 2 Axes>"
      ]
     },
     "metadata": {
      "needs_background": "light"
     },
     "output_type": "display_data"
    }
   ],
   "source": [
    "## CONFUSION MATRIX FOR SUBJECT 2\n",
    "cm = metrics.confusion_matrix(y_test_2, prediction)\n",
    "plot_confusion_matrix(cm, classes=['Fake', 'Real'])"
   ]
  },
  {
   "cell_type": "markdown",
   "id": "4386398c",
   "metadata": {},
   "source": [
    "# Random Forest"
   ]
  },
  {
   "cell_type": "code",
   "execution_count": 44,
   "id": "012f4e62",
   "metadata": {},
   "outputs": [],
   "source": [
    "# Importing functions from SKLearn Library\n",
    "from sklearn.ensemble import RandomForestClassifier\n",
    "\n",
    "pipe = Pipeline([('vect', CountVectorizer()),\n",
    "                 ('tfidf', TfidfTransformer()),\n",
    "                 ('model', RandomForestClassifier(n_estimators=50, criterion=\"entropy\"))])\n"
   ]
  },
  {
   "cell_type": "code",
   "execution_count": 45,
   "id": "4fb7e28f",
   "metadata": {},
   "outputs": [
    {
     "name": "stdout",
     "output_type": "stream",
     "text": [
      "Training time for Random Forest : 10.76s\n",
      "accuracy: 96.98%\n"
     ]
    }
   ],
   "source": [
    "## Training for Subject 1\n",
    "## Getting machine time to evaluate how much time will algorithm take to train \n",
    "start = time.time()\n",
    "# Training the model\n",
    "model = pipe.fit(X_train_1, y_train_1)\n",
    "## Getting machine time to evaluate how much time will algorithm take to train \n",
    "stop = time.time()\n",
    "print(f\"Training time for Random Forest : {round((stop - start),2)}s\")\n",
    "# Predicting Labels from Test Set by Trained Model\n",
    "prediction = model.predict(X_test_1)\n",
    "print(\"accuracy: {}%\".format(round(accuracy_score(y_test_1, prediction)*100,2)))\n",
    "## Storing Test Accuracy and Training Time in the data dictionaries for Plotting at the end\n",
    "dct_1['Random Forest'] = round(accuracy_score(y_test_1, prediction)*100,2)\n",
    "dct_time_1['Random Forest'] = round((stop - start),2)"
   ]
  },
  {
   "cell_type": "code",
   "execution_count": 46,
   "id": "9e944761",
   "metadata": {},
   "outputs": [
    {
     "name": "stdout",
     "output_type": "stream",
     "text": [
      "Confusion matrix, without normalization\n"
     ]
    },
    {
     "data": {
      "image/png": "[encoded data removed]",
      "text/plain": [
       "<Figure size 432x288 with 2 Axes>"
      ]
     },
     "metadata": {
      "needs_background": "light"
     },
     "output_type": "display_data"
    }
   ],
   "source": [
    "## CONFUSION MATRIX FOR SUBJECT 1\n",
    "cm = metrics.confusion_matrix(y_test_1, prediction)\n",
    "plot_confusion_matrix(cm, classes=['Fake', 'Real'])"
   ]
  },
  {
   "cell_type": "code",
   "execution_count": 47,
   "id": "67977a4a",
   "metadata": {},
   "outputs": [
    {
     "name": "stdout",
     "output_type": "stream",
     "text": [
      "Training time for Random Forest : 17.79s\n",
      "accuracy: 99.02%\n"
     ]
    }
   ],
   "source": [
    "## Training for Subject 2\n",
    "## Getting machine time to evaluate how much time will algorithm take to train \n",
    "start = time.time()\n",
    "# Training the model\n",
    "model = pipe.fit(X_train_2, y_train_2)\n",
    "## Getting machine time to evaluate how much time will algorithm take to train \n",
    "stop = time.time()\n",
    "print(f\"Training time for Random Forest : {round((stop - start),2)}s\")\n",
    "# Predicting Labels from Test Set by Trained Model\n",
    "prediction = model.predict(X_test_2)\n",
    "print(\"accuracy: {}%\".format(round(accuracy_score(y_test_2, prediction)*100,2)))\n",
    "## Storing Test Accuracy and Training Time in the data dictionaries for Plotting at the end\n",
    "dct_2['Random Forest'] = round(accuracy_score(y_test_2, prediction)*100,2)\n",
    "dct_time_2['Random Forest'] = round((stop - start),2)"
   ]
  },
  {
   "cell_type": "code",
   "execution_count": 48,
   "id": "167a8e8d",
   "metadata": {},
   "outputs": [
    {
     "name": "stdout",
     "output_type": "stream",
     "text": [
      "Confusion matrix, without normalization\n"
     ]
    },
    {
     "data": {
      "image/png": "[encoded data removed]",
      "text/plain": [
       "<Figure size 432x288 with 2 Axes>"
      ]
     },
     "metadata": {
      "needs_background": "light"
     },
     "output_type": "display_data"
    }
   ],
   "source": [
    "## CONFUSION MATRIX FOR SUBJECT 2\n",
    "cm = metrics.confusion_matrix(y_test_2, prediction)\n",
    "plot_confusion_matrix(cm, classes=['Fake', 'Real'])"
   ]
  },
  {
   "cell_type": "markdown",
   "id": "22420785",
   "metadata": {},
   "source": [
    "# SVM"
   ]
  },
  {
   "cell_type": "code",
   "execution_count": 49,
   "id": "95859f59",
   "metadata": {},
   "outputs": [],
   "source": [
    "# Importing functions from SKLearn Library\n",
    "from sklearn import svm\n",
    "\n",
    "#Create a svm Classifier\n",
    "clf = svm.SVC(kernel='linear') # Linear Kernel\n",
    "\n",
    "pipe = Pipeline([('vect', CountVectorizer()),\n",
    "                 ('tfidf', TfidfTransformer()),\n",
    "                 ('model', clf)])\n"
   ]
  },
  {
   "cell_type": "code",
   "execution_count": 50,
   "id": "12cd4c0f",
   "metadata": {},
   "outputs": [
    {
     "name": "stdout",
     "output_type": "stream",
     "text": [
      "Training time for SVM : 60.76s\n",
      "accuracy: 98.67%\n"
     ]
    }
   ],
   "source": [
    "## Training for Subject 1\n",
    "## Getting machine time to evaluate how much time will algorithm take to train \n",
    "start = time.time()\n",
    "# Training the model\n",
    "model = pipe.fit(X_train_1, y_train_1)\n",
    "## Getting machine time to evaluate how much time will algorithm take to train \n",
    "stop = time.time()\n",
    "print(f\"Training time for SVM : {round((stop - start),2)}s\")\n",
    "# Predicting Labels from Test Set by Trained Model\n",
    "prediction = model.predict(X_test_1)\n",
    "print(\"accuracy: {}%\".format(round(accuracy_score(y_test_1, prediction)*100,2)))\n",
    "## Storing Test Accuracy and Training Time in the data dictionaries for Plotting at the end\n",
    "dct_1['SVM'] = round(accuracy_score(y_test_1, prediction)*100,2)\n",
    "dct_time_1['SVM'] = round((stop - start),2)"
   ]
  },
  {
   "cell_type": "code",
   "execution_count": 51,
   "id": "aa0c391e",
   "metadata": {},
   "outputs": [
    {
     "name": "stdout",
     "output_type": "stream",
     "text": [
      "Confusion matrix, without normalization\n"
     ]
    },
    {
     "data": {
      "image/png": "[encoded data removed]",
      "text/plain": [
       "<Figure size 432x288 with 2 Axes>"
      ]
     },
     "metadata": {
      "needs_background": "light"
     },
     "output_type": "display_data"
    }
   ],
   "source": [
    "## CONFUSION MATRIX FOR SUBJECT 1\n",
    "cm = metrics.confusion_matrix(y_test_1, prediction)\n",
    "plot_confusion_matrix(cm, classes=['Fake', 'Real'])"
   ]
  },
  {
   "cell_type": "code",
   "execution_count": 52,
   "id": "f4b44fde",
   "metadata": {},
   "outputs": [
    {
     "name": "stdout",
     "output_type": "stream",
     "text": [
      "Training time for SVM : 135.13s\n",
      "accuracy: 99.68%\n"
     ]
    }
   ],
   "source": [
    "## Training for Subject 2\n",
    "## Getting machine time to evaluate how much time will algorithm take to train \n",
    "start = time.time()\n",
    "# Training the model\n",
    "model = pipe.fit(X_train_2, y_train_2)\n",
    "## Getting machine time to evaluate how much time will algorithm take to train \n",
    "stop = time.time()\n",
    "print(f\"Training time for SVM : {round((stop - start),2)}s\")\n",
    "# Predicting Labels from Test Set by Trained Model\n",
    "prediction = model.predict(X_test_2)\n",
    "print(\"accuracy: {}%\".format(round(accuracy_score(y_test_2, prediction)*100,2)))\n",
    "## Storing Test Accuracy and Training Time in the data dictionaries for Plotting at the end\n",
    "dct_2['SVM'] = round(accuracy_score(y_test_2, prediction)*100,2)\n",
    "dct_time_2['SVM'] = round((stop - start),2)"
   ]
  },
  {
   "cell_type": "code",
   "execution_count": 53,
   "id": "83565e61",
   "metadata": {},
   "outputs": [
    {
     "name": "stdout",
     "output_type": "stream",
     "text": [
      "Confusion matrix, without normalization\n"
     ]
    },
    {
     "data": {
      "image/png": "[encoded data removed]",
      "text/plain": [
       "<Figure size 432x288 with 2 Axes>"
      ]
     },
     "metadata": {
      "needs_background": "light"
     },
     "output_type": "display_data"
    }
   ],
   "source": [
    "## CONFUSION MATRIX FOR SUBJECT 2\n",
    "cm = metrics.confusion_matrix(y_test_2, prediction)\n",
    "plot_confusion_matrix(cm, classes=['Fake', 'Real'])"
   ]
  },
  {
   "cell_type": "markdown",
   "id": "c0f04814",
   "metadata": {},
   "source": [
    "# KNN"
   ]
  },
  {
   "cell_type": "code",
   "execution_count": 54,
   "id": "11b24cef",
   "metadata": {},
   "outputs": [],
   "source": [
    "# Importing functions from SKLearn Library\n",
    "from sklearn.neighbors import KNeighborsClassifier\n",
    "clf = KNeighborsClassifier(n_neighbors=3)\n",
    "\n",
    "pipe = Pipeline([('vect', CountVectorizer()),\n",
    "                 ('tfidf', TfidfTransformer()),\n",
    "                 ('model', clf)])\n",
    "\n"
   ]
  },
  {
   "cell_type": "code",
   "execution_count": 55,
   "id": "f22c4069",
   "metadata": {},
   "outputs": [
    {
     "name": "stdout",
     "output_type": "stream",
     "text": [
      "Training time for KNN : 2.82s\n",
      "accuracy: 86.8%\n"
     ]
    }
   ],
   "source": [
    "## Training for Subject 1\n",
    "## Getting machine time to evaluate how much time will algorithm take to train \n",
    "start = time.time()\n",
    "# Training the model\n",
    "model = pipe.fit(X_train_1, y_train_1)\n",
    "## Getting machine time to evaluate how much time will algorithm take to train \n",
    "stop = time.time()\n",
    "print(f\"Training time for KNN : {round((stop - start),2)}s\")\n",
    "# Predicting Labels from Test Set by Trained Model\n",
    "prediction = model.predict(X_test_1)\n",
    "print(\"accuracy: {}%\".format(round(accuracy_score(y_test_1, prediction)*100,2)))\n",
    "## Storing Test Accuracy and Training Time in the data dictionaries for Plotting at the end\n",
    "dct_1['KNN'] = round(accuracy_score(y_test_1, prediction)*100,2)\n",
    "dct_time_1['KNN'] = round((stop - start),2)"
   ]
  },
  {
   "cell_type": "code",
   "execution_count": 56,
   "id": "547dc31d",
   "metadata": {},
   "outputs": [
    {
     "name": "stdout",
     "output_type": "stream",
     "text": [
      "Confusion matrix, without normalization\n"
     ]
    },
    {
     "data": {
      "image/png": "[encoded data removed]",
      "text/plain": [
       "<Figure size 432x288 with 2 Axes>"
      ]
     },
     "metadata": {
      "needs_background": "light"
     },
     "output_type": "display_data"
    }
   ],
   "source": [
    "## CONFUSION MATRIX FOR SUBJECT 1\n",
    "cm = metrics.confusion_matrix(y_test_1, prediction)\n",
    "plot_confusion_matrix(cm, classes=['Fake', 'Real'])"
   ]
  },
  {
   "cell_type": "code",
   "execution_count": 57,
   "id": "eb0126cd",
   "metadata": {},
   "outputs": [
    {
     "name": "stdout",
     "output_type": "stream",
     "text": [
      "Training time for KNN : 4.58s\n",
      "accuracy: 77.02%\n"
     ]
    }
   ],
   "source": [
    "## Training for Subject 2\n",
    "## Getting machine time to evaluate how much time will algorithm take to train \n",
    "start = time.time()\n",
    "# Training the model\n",
    "model = pipe.fit(X_train_2, y_train_2)\n",
    "## Getting machine time to evaluate how much time will algorithm take to train \n",
    "stop = time.time()\n",
    "print(f\"Training time for KNN : {round((stop - start),2)}s\")\n",
    "# Predicting Labels from Test Set by Trained Model\n",
    "prediction = model.predict(X_test_2)\n",
    "print(\"accuracy: {}%\".format(round(accuracy_score(y_test_2, prediction)*100,2)))\n",
    "## Storing Test Accuracy and Training Time in the data dictionaries for Plotting at the end\n",
    "dct_2['KNN'] = round(accuracy_score(y_test_2, prediction)*100,2)\n",
    "dct_time_2['KNN'] = round((stop - start),2)"
   ]
  },
  {
   "cell_type": "code",
   "execution_count": 58,
   "id": "8d8f8fd5",
   "metadata": {},
   "outputs": [
    {
     "name": "stdout",
     "output_type": "stream",
     "text": [
      "Confusion matrix, without normalization\n"
     ]
    },
    {
     "data": {
      "image/png": "[encoded data removed]",
      "text/plain": [
       "<Figure size 432x288 with 2 Axes>"
      ]
     },
     "metadata": {
      "needs_background": "light"
     },
     "output_type": "display_data"
    }
   ],
   "source": [
    "## CONFUSION MATRIX FOR SUBJECT 2\n",
    "cm = metrics.confusion_matrix(y_test_2, prediction)\n",
    "plot_confusion_matrix(cm, classes=['Fake', 'Real'])"
   ]
  },
  {
   "cell_type": "markdown",
   "id": "5b64c781",
   "metadata": {},
   "source": [
    "# Passive Aggressive Classifier"
   ]
  },
  {
   "cell_type": "code",
   "execution_count": 59,
   "id": "bc786ab6",
   "metadata": {},
   "outputs": [],
   "source": [
    "# Importing functions from SKLearn Library\n",
    "from sklearn.linear_model import PassiveAggressiveClassifier\n",
    "\n",
    "clf = PassiveAggressiveClassifier(max_iter=1000, random_state=0, tol=1e-3)\n",
    "pipe = Pipeline([('vect', CountVectorizer()),\n",
    "                 ('tfidf', TfidfTransformer()),\n",
    "                 ('model', clf)])"
   ]
  },
  {
   "cell_type": "code",
   "execution_count": 60,
   "id": "56854485",
   "metadata": {},
   "outputs": [
    {
     "name": "stdout",
     "output_type": "stream",
     "text": [
      "Training time for KNN : 3.04s\n",
      "accuracy: 98.78%\n"
     ]
    }
   ],
   "source": [
    "## Training for Subject 1\n",
    "## Getting machine time to evaluate how much time will algorithm take to train \n",
    "start = time.time()\n",
    "# Training the model\n",
    "model = pipe.fit(X_train_1, y_train_1)\n",
    "## Getting machine time to evaluate how much time will algorithm take to train \n",
    "stop = time.time()\n",
    "print(f\"Training time for KNN : {round((stop - start),2)}s\")\n",
    "# Predicting Labels from Test Set by Trained Model\n",
    "prediction = model.predict(X_test_1)\n",
    "print(\"accuracy: {}%\".format(round(accuracy_score(y_test_1, prediction)*100,2)))\n",
    "## Storing Test Accuracy and Training Time in the data dictionaries for Plotting at the end\n",
    "dct_1['Passive Aggressive'] = round(accuracy_score(y_test_1, prediction)*100,2)\n",
    "dct_time_1['Passive Aggressive'] = round((stop - start),2)"
   ]
  },
  {
   "cell_type": "code",
   "execution_count": 61,
   "id": "e79065a5",
   "metadata": {},
   "outputs": [
    {
     "name": "stdout",
     "output_type": "stream",
     "text": [
      "Confusion matrix, without normalization\n"
     ]
    },
    {
     "data": {
      "image/png": "[encoded data removed]",
      "text/plain": [
       "<Figure size 432x288 with 2 Axes>"
      ]
     },
     "metadata": {
      "needs_background": "light"
     },
     "output_type": "display_data"
    }
   ],
   "source": [
    "## CONFUSION MATRIX FOR SUBJECT 1\n",
    "cm = metrics.confusion_matrix(y_test_1, prediction)\n",
    "plot_confusion_matrix(cm, classes=['Fake', 'Real'])"
   ]
  },
  {
   "cell_type": "code",
   "execution_count": 62,
   "id": "7ed18153",
   "metadata": {},
   "outputs": [
    {
     "name": "stdout",
     "output_type": "stream",
     "text": [
      "Training time for KNN : 4.45s\n",
      "accuracy: 99.74%\n"
     ]
    }
   ],
   "source": [
    "## Training for Subject 2\n",
    "## Getting machine time to evaluate how much time will algorithm take to train \n",
    "start = time.time()\n",
    "# Training the model\n",
    "model = pipe.fit(X_train_2, y_train_2)\n",
    "## Getting machine time to evaluate how much time will algorithm take to train \n",
    "stop = time.time()\n",
    "print(f\"Training time for KNN : {round((stop - start),2)}s\")\n",
    "# Predicting Labels from Test Set by Trained Model\n",
    "prediction = model.predict(X_test_2)\n",
    "print(\"accuracy: {}%\".format(round(accuracy_score(y_test_2, prediction)*100,2)))\n",
    "## Storing Test Accuracy and Training Time in the data dictionaries for Plotting at the end\n",
    "dct_2['Passive Aggressive'] = round(accuracy_score(y_test_2, prediction)*100,2)\n",
    "dct_time_2['Passive Aggressive'] = round((stop - start),2)"
   ]
  },
  {
   "cell_type": "code",
   "execution_count": 63,
   "id": "18679566",
   "metadata": {},
   "outputs": [
    {
     "name": "stdout",
     "output_type": "stream",
     "text": [
      "Confusion matrix, without normalization\n"
     ]
    },
    {
     "data": {
      "image/png": "[encoded data removed]",
      "text/plain": [
       "<Figure size 432x288 with 2 Axes>"
      ]
     },
     "metadata": {
      "needs_background": "light"
     },
     "output_type": "display_data"
    }
   ],
   "source": [
    "## CONFUSION MATRIX FOR SUBJECT 2\n",
    "cm = metrics.confusion_matrix(y_test_2, prediction)\n",
    "plot_confusion_matrix(cm, classes=['Fake', 'Real'])"
   ]
  },
  {
   "cell_type": "markdown",
   "id": "19d802d3",
   "metadata": {},
   "source": [
    "# Comparing Different Models for Subject 1"
   ]
  },
  {
   "cell_type": "code",
   "execution_count": 64,
   "id": "4a2baff3",
   "metadata": {},
   "outputs": [
    {
     "data": {
      "text/plain": [
       "([0, 1, 2, 3, 4, 5, 6], <a list of 7 Text xticklabel objects>)"
      ]
     },
     "execution_count": 64,
     "metadata": {},
     "output_type": "execute_result"
    },
    {
     "data": {
      "image/png": "[encoded data removed]",
      "text/plain": [
       "<Figure size 576x504 with 1 Axes>"
      ]
     },
     "metadata": {
      "needs_background": "light"
     },
     "output_type": "display_data"
    }
   ],
   "source": [
    "# Importing matplotlib for creating plots\n",
    "import matplotlib.pyplot as plt\n",
    "# importing maths library for mathematical function (floor)\n",
    "import math\n",
    "plt.figure(figsize=(8,7))\n",
    "# Show Bars equal to number of Classifiers\n",
    "# In below line, .keys are showing the names in data dictionary and .keys is showing the values in that index\n",
    "plt.bar(list(dct_1.keys()),list(dct_1.values()), color=['firebrick', 'green', 'blue', 'black', 'red','navy','gray'])\n",
    "# Defining user defined function to show text on the top of each bar \n",
    "def addtext(x,y):\n",
    "    for i in range(len(x)):\n",
    "        plt.text(i,1.0008*y[i],y[i],ha = 'center',rotation=0)\n",
    "# Calling user defined function to show text on the top of each bar           \n",
    "addtext(list(dct_1.keys()),list(dct_1.values()))\n",
    "## Setting High and low limit of y labels   \n",
    "max_value_dct = math.floor(max(dct_1.values()))\n",
    "min_value_dct = math.floor(min(dct_1.values()))\n",
    "plt.ylabel('Testing Accuracy')\n",
    "plt.title('Comparing Different Models According to Subject 1  - Politics')\n",
    "plt.ylim(min_value_dct-2,max_value_dct+3)\n",
    "\n",
    "# plt.yticks((91, 92, 93, 94, 95, 96, 97, 98, 99, 100))\n",
    "plt.xticks(rotation=45)"
   ]
  },
  {
   "cell_type": "markdown",
   "id": "1b886829",
   "metadata": {},
   "source": [
    "# Comparing Different Models for Subject 2"
   ]
  },
  {
   "cell_type": "code",
   "execution_count": 65,
   "id": "96aa7b93",
   "metadata": {},
   "outputs": [
    {
     "data": {
      "text/plain": [
       "([0, 1, 2, 3, 4, 5, 6], <a list of 7 Text xticklabel objects>)"
      ]
     },
     "execution_count": 65,
     "metadata": {},
     "output_type": "execute_result"
    },
    {
     "data": {
      "image/png": "[encoded data removed]",
      "text/plain": [
       "<Figure size 576x504 with 1 Axes>"
      ]
     },
     "metadata": {
      "needs_background": "light"
     },
     "output_type": "display_data"
    }
   ],
   "source": [
    "# Importing matplotlib for creating plots\n",
    "import matplotlib.pyplot as plt\n",
    "# importing maths library for mathematical function (floor)\n",
    "import math\n",
    "plt.figure(figsize=(8,7))\n",
    "# Change color of each bar\n",
    "# Show Bars equal to number of Classifiers\n",
    "# In below line, .keys are showing the names in data dictionary and .keys is showing the values in that index\n",
    "\n",
    "plt.bar(list(dct_2.keys()),list(dct_2.values()), color=['firebrick', 'green', 'blue', 'black', 'red','navy','gray'])\n",
    "# Defining user defined function to show text on the top of each bar \n",
    "def addtext(x,y):\n",
    "    for i in range(len(x)):\n",
    "        plt.text(i,1.0008*y[i],y[i],ha = 'center',rotation=0)\n",
    "# Calling user defined function to show text on the top of each bar           \n",
    "addtext(list(dct_2.keys()),list(dct_2.values()))\n",
    "## Setting High and low limit of y labels   \n",
    "max_value_dct = math.floor(max(dct_2.values()))\n",
    "min_value_dct = math.floor(min(dct_2.values()))\n",
    "plt.ylabel('Testing Accuracy')\n",
    "\n",
    "plt.title('Comparing Different Models According to Subject 2  - World News')\n",
    "plt.ylim(min_value_dct-2,max_value_dct+3)\n",
    "\n",
    "# plt.yticks((91, 92, 93, 94, 95, 96, 97, 98, 99, 100))\n",
    "plt.xticks(rotation=45)"
   ]
  },
  {
   "cell_type": "code",
   "execution_count": 66,
   "id": "0c3f4481",
   "metadata": {},
   "outputs": [
    {
     "data": {
      "text/plain": [
       "([0, 1, 2, 3, 4, 5, 6], <a list of 7 Text xticklabel objects>)"
      ]
     },
     "execution_count": 66,
     "metadata": {},
     "output_type": "execute_result"
    },
    {
     "data": {
      "image/png": "[encoded data removed]",
      "text/plain": [
       "<Figure size 576x504 with 1 Axes>"
      ]
     },
     "metadata": {
      "needs_background": "light"
     },
     "output_type": "display_data"
    }
   ],
   "source": [
    "# Importing matplotlib for creating plots\n",
    "import matplotlib.pyplot as plt\n",
    "# importing maths library for mathematical function (floor)\n",
    "import math\n",
    "\n",
    "plt.figure(figsize=(8,7))\n",
    "# Show Bars equal to number of Classifiers\n",
    "# In below line, .keys are showing the names in data dictionary and .keys is showing the values in that index\n",
    "plt.bar(list(dct_time_1.keys()),list(dct_time_1.values()), color=['firebrick', 'green', 'blue', 'black', 'red','orange','gray'])\n",
    "# Defining user defined function to show text on the top of each bar \n",
    "def addtext(x,y):\n",
    "    for i in range(len(x)):\n",
    "        plt.text(i,1.0016*y[i],y[i],ha = 'center',rotation=0)\n",
    "## Setting High and low limit of y labels       \n",
    "max_value_dct_time = math.floor(max(dct_time_1.values()))\n",
    "min_value_dct_time = math.floor(min(dct_time_1.values()))\n",
    "# Calling user defined function to show text on the top of each bar                          \n",
    "addtext(list(dct_time_1.keys()),list(dct_time_1.values()))\n",
    "\n",
    "plt.title('Training Time for Different Models According to Subject 1  - Politics')\n",
    "plt.ylim(min_value_dct_time-10,max_value_dct_time+20)\n",
    "plt.ylabel('Time in Seconds')\n",
    "\n",
    "# plt.yticks((91, 92, 93, 94, 95, 96, 97, 98, 99, 100))\n",
    "plt.xticks(rotation=45)"
   ]
  },
  {
   "cell_type": "markdown",
   "id": "b9598ac7",
   "metadata": {},
   "source": [
    "# Comparing Time Taken by Different Models for Subject 2"
   ]
  },
  {
   "cell_type": "code",
   "execution_count": 67,
   "id": "75553dfd",
   "metadata": {},
   "outputs": [
    {
     "data": {
      "text/plain": [
       "([0, 1, 2, 3, 4, 5, 6], <a list of 7 Text xticklabel objects>)"
      ]
     },
     "execution_count": 67,
     "metadata": {},
     "output_type": "execute_result"
    },
    {
     "data": {
      "image/png": "[encoded data removed]",
      "text/plain": [
       "<Figure size 576x504 with 1 Axes>"
      ]
     },
     "metadata": {
      "needs_background": "light"
     },
     "output_type": "display_data"
    }
   ],
   "source": [
    "# Importing matplotlib for creating plots\n",
    "import matplotlib.pyplot as plt\n",
    "# importing maths library for mathematical function (floor)\n",
    "import math\n",
    "\n",
    "plt.figure(figsize=(8,7))\n",
    "# Show Bars equal to number of Classifiers\n",
    "# In below line, .keys are showing the names in data dictionary and .keys is showing the values in that index\n",
    "plt.bar(list(dct_time_2.keys()),list(dct_time_2.values()), color=['firebrick', 'green', 'blue', 'black', 'red','orange','gray'])\n",
    "# Defining user defined function to show text on the top of each bar \n",
    "def addtext(x,y):\n",
    "    for i in range(len(x)):\n",
    "        plt.text(i,1.0016*y[i],y[i],ha = 'center',rotation=0)\n",
    "## Setting High and low limit of y labels       \n",
    "max_value_dct_time = math.floor(max(dct_time_2.values()))\n",
    "min_value_dct_time = math.floor(min(dct_time_2.values()))\n",
    " # Calling user defined function to show text on the top of each bar                         \n",
    "addtext(list(dct_time_1.keys()),list(dct_time_2.values()))\n",
    "\n",
    "plt.title('Training Time for Different Models According to Subject 2  - World News')\n",
    "plt.ylim(min_value_dct_time-10,max_value_dct_time+20)\n",
    "plt.ylabel('Time in Seconds')\n",
    "\n",
    "# plt.yticks((91, 92, 93, 94, 95, 96, 97, 98, 99, 100))\n",
    "plt.xticks(rotation=45)"
   ]
  },
  {
   "cell_type": "markdown",
   "id": "b7748426",
   "metadata": {},
   "source": [
    "# Testing Accuracy Comparison"
   ]
  },
  {
   "cell_type": "code",
   "execution_count": 68,
   "id": "15346369",
   "metadata": {},
   "outputs": [
    {
     "name": "stdout",
     "output_type": "stream",
     "text": [
      "[0 1 2 3 4 5 6]\n",
      "[79.8, 97.6, 99.38, 96.98, 98.67, 86.8, 98.78]\n",
      "[97.21, 99.15, 99.68, 99.02, 99.68, 77.02, 99.74]\n"
     ]
    },
    {
     "data": {
      "image/png": "[encoded data removed]",
      "text/plain": [
       "<Figure size 576x504 with 1 Axes>"
      ]
     },
     "metadata": {
      "needs_background": "light"
     },
     "output_type": "display_data"
    }
   ],
   "source": [
    "# Importing matplotlib for creating plots\n",
    "import matplotlib.pyplot as plt\n",
    "# importing maths library for mathematical function (floor)\n",
    "import math\n",
    "plt.figure(figsize=(8,7))\n",
    "\n",
    "x_axis = np.arange(len(dct_1))\n",
    "\n",
    "# Change color of each bar\n",
    "# Show Bars equal to number of Classifiers\n",
    "# In below line, .keys are showing the names in data dictionary and .keys is showing the values in that index\n",
    "\n",
    "plt.bar(x_axis -0.2,list(dct_1.values()),\n",
    "           label = 'Politics',width=0.4)\n",
    "plt.bar(x_axis +0.2,list(dct_2.values()),\n",
    "           label = 'World News',width=0.4)\n",
    "\n",
    "\n",
    "print(x_axis)\n",
    "# Defining user defined function to show text on the top of each bar \n",
    "def addtext1(x,y):\n",
    "    print(y)\n",
    "    for i in range(len(x)):\n",
    "        plt.text(i,1.010*y[i],y[i],ha = 'right',rotation=0)\n",
    "\n",
    "def addtext2(x,y):\n",
    "    print(y)\n",
    "    for i in range(len(x)):\n",
    "        plt.text(i,1.010*y[i],y[i],ha = 'left',rotation=0)\n",
    "\n",
    "plt.ylabel('Testing Accuracy')\n",
    "plt.title('Comparing Different Models for Both Subjects')\n",
    "# plt.ylim(min_value_dct-2,max_value_dct+2)\n",
    "\n",
    "plt.xticks(x_axis, list(dct_1.keys()))\n",
    "# Calling user defined function to show text on the top of each bar   \n",
    "addtext1(list(dct_1.keys()),list(dct_1.values()))\n",
    "addtext2(list(dct_2.keys()),list(dct_2.values()))\n",
    "\n",
    "# plt.yticks((91, 92, 93, 94, 95, 96, 97, 98, 99, 100))\n",
    "plt.xticks(rotation=45)\n",
    "plt.legend()\n",
    "plt.show()\n",
    "\n",
    "# print(list(dct_full.keys()))"
   ]
  },
  {
   "cell_type": "markdown",
   "id": "70e896e4",
   "metadata": {},
   "source": [
    "# Training Time Comparison"
   ]
  },
  {
   "cell_type": "code",
   "execution_count": 69,
   "id": "7c8ecdf6",
   "metadata": {},
   "outputs": [
    {
     "name": "stdout",
     "output_type": "stream",
     "text": [
      "[0 1 2 3 4 5 6]\n",
      "[3.08, 4.73, 6.19, 10.76, 60.76, 2.82, 3.04]\n",
      "[4.68, 5.78, 8.06, 17.79, 135.13, 4.58, 4.45]\n"
     ]
    },
    {
     "data": {
      "image/png": "[encoded data removed]",
      "text/plain": [
       "<Figure size 576x504 with 1 Axes>"
      ]
     },
     "metadata": {
      "needs_background": "light"
     },
     "output_type": "display_data"
    }
   ],
   "source": [
    "# Importing matplotlib for creating plots\n",
    "import matplotlib.pyplot as plt\n",
    "# importing maths library for mathematical function (floor)\n",
    "import math\n",
    "plt.figure(figsize=(8,7))\n",
    "\n",
    "x_axis = np.arange(len(dct_time_1))\n",
    "\n",
    "# Change color of each bar\n",
    "# Show Bars equal to number of Classifiers\n",
    "# In below line, .keys are showing the names in data dictionary and .keys is showing the values in that index\n",
    "\n",
    "plt.bar(x_axis -0.2,list(dct_time_1.values()),\n",
    "           label = 'Politics',width=0.4)\n",
    "plt.bar(x_axis +0.2,list(dct_time_2.values()),\n",
    "           label = 'World News',width=0.4)\n",
    "\n",
    "\n",
    "print(x_axis)\n",
    "# Defining user defined function to show text on the top of each bar \n",
    "def addtext1(x,y):\n",
    "    print(y)\n",
    "    for i in range(len(x)):\n",
    "        plt.text(i,1.010*y[i],y[i],ha = 'right',rotation=0)\n",
    "\n",
    "def addtext2(x,y):\n",
    "    print(y)\n",
    "    for i in range(len(x)):\n",
    "        plt.text(i,1.010*y[i],y[i],ha = 'left',rotation=0)\n",
    "\n",
    "plt.ylabel('Testing Accuracy')\n",
    "plt.title('Comparing Models for Training Time for Both Subjects')\n",
    "# plt.ylim(min_value_dct-2,max_value_dct+2)\n",
    "\n",
    "plt.xticks(x_axis, list(dct_time_1.keys()))\n",
    "# Calling user defined function to show text on the top of each bar   \n",
    "addtext1(list(dct_time_1.keys()),list(dct_time_1.values()))\n",
    "addtext2(list(dct_time_2.keys()),list(dct_time_2.values()))\n",
    "\n",
    "# plt.yticks((91, 92, 93, 94, 95, 96, 97, 98, 99, 100))\n",
    "plt.xticks(rotation=45)\n",
    "plt.legend()\n",
    "plt.show()\n",
    "\n",
    "# print(list(dct_full.keys()))"
   ]
  }
 ],
 "metadata": {
  "kernelspec": {
   "display_name": "Python 3",
   "language": "python",
   "name": "python3"
  },
  "language_info": {
   "codemirror_mode": {
    "name": "ipython",
    "version": 3
   },
   "file_extension": ".py",
   "mimetype": "text/x-python",
   "name": "python",
   "nbconvert_exporter": "python",
   "pygments_lexer": "ipython3",
   "version": "3.6.5"
  }
 },
 "nbformat": 4,
 "nbformat_minor": 5
}
