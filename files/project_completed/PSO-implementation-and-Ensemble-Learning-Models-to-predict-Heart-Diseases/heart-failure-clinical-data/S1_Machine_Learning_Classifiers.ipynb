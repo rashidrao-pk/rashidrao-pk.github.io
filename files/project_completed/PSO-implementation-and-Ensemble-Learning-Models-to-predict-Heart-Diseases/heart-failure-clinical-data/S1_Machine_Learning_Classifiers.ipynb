{
 "cells": [
  {
   "cell_type": "markdown",
   "id": "fdd08907",
   "metadata": {},
   "source": [
    "# Training Module for Machine Learning Classifiers (Ensembled)"
   ]
  },
  {
   "cell_type": "markdown",
   "id": "d32d9759",
   "metadata": {},
   "source": [
    "# Import Libraries"
   ]
  },
  {
   "cell_type": "code",
   "execution_count": 1,
   "id": "a9d362c0",
   "metadata": {},
   "outputs": [],
   "source": [
    "# Import essential libraries\n",
    "import os\n",
    "import json\n",
    "import csv\n",
    "import math\n",
    "import numpy as np\n",
    "import matplotlib.pyplot as plt\n",
    "from sklearn.preprocessing import StandardScaler\n",
    "from plib.data import get_data,minmax_norm,data_split\n",
    "from plib.feature_selection import out_features\n",
    "from plib.p_metric import main_perf_metrics_calc\n",
    "from sklearn.metrics import accuracy_score\n",
    "#BaggingClassifier\n",
    "from sklearn.ensemble import BaggingClassifier\n",
    "#GradientBoostingClassifier\n",
    "from sklearn.ensemble import GradientBoostingClassifier\n",
    "#stacking & Voting Classifiers\n",
    "from sklearn.ensemble import StackingClassifier, RandomForestClassifier,VotingClassifier  # import ensemble classifier\n",
    "from sklearn.pipeline import make_pipeline\n",
    "from sklearn.svm import LinearSVC\n",
    "#WAE\n",
    "# evaluate a weighted average ensemble for classification\n",
    "from sklearn.linear_model import LogisticRegression\n",
    "from sklearn.tree import DecisionTreeClassifier\n",
    "from sklearn.naive_bayes import GaussianNB"
   ]
  },
  {
   "cell_type": "markdown",
   "id": "f5dc91ba",
   "metadata": {},
   "source": [
    "# Read and Process Dataset"
   ]
  },
  {
   "cell_type": "code",
   "execution_count": 2,
   "id": "0190d4aa",
   "metadata": {},
   "outputs": [
    {
     "name": "stdout",
     "output_type": "stream",
     "text": [
      "Number of rows: 299;  Number of columns: 13; No of missing values 0\n",
      "Shape of X_train: (299, 12)\n",
      "Shape of y_train: (299,)\n"
     ]
    },
    {
     "data": {
      "text/html": [
       "<div>\n",
       "<style scoped>\n",
       "    .dataframe tbody tr th:only-of-type {\n",
       "        vertical-align: middle;\n",
       "    }\n",
       "\n",
       "    .dataframe tbody tr th {\n",
       "        vertical-align: top;\n",
       "    }\n",
       "\n",
       "    .dataframe thead th {\n",
       "        text-align: right;\n",
       "    }\n",
       "</style>\n",
       "<table border=\"1\" class=\"dataframe\">\n",
       "  <thead>\n",
       "    <tr style=\"text-align: right;\">\n",
       "      <th></th>\n",
       "      <th>age</th>\n",
       "      <th>anaemia</th>\n",
       "      <th>creatinine_phosphokinase</th>\n",
       "      <th>diabetes</th>\n",
       "      <th>ejection_fraction</th>\n",
       "      <th>high_blood_pressure</th>\n",
       "      <th>platelets</th>\n",
       "      <th>serum_creatinine</th>\n",
       "      <th>serum_sodium</th>\n",
       "      <th>sex</th>\n",
       "      <th>smoking</th>\n",
       "      <th>time</th>\n",
       "      <th>DEATH_EVENT</th>\n",
       "    </tr>\n",
       "  </thead>\n",
       "  <tbody>\n",
       "    <tr>\n",
       "      <th>count</th>\n",
       "      <td>299.000000</td>\n",
       "      <td>299.000000</td>\n",
       "      <td>299.000000</td>\n",
       "      <td>299.000000</td>\n",
       "      <td>299.000000</td>\n",
       "      <td>299.000000</td>\n",
       "      <td>299.000000</td>\n",
       "      <td>299.000000</td>\n",
       "      <td>299.000000</td>\n",
       "      <td>299.000000</td>\n",
       "      <td>299.000000</td>\n",
       "      <td>299.000000</td>\n",
       "      <td>299.000000</td>\n",
       "    </tr>\n",
       "    <tr>\n",
       "      <th>mean</th>\n",
       "      <td>60.833893</td>\n",
       "      <td>0.431438</td>\n",
       "      <td>581.839465</td>\n",
       "      <td>0.418060</td>\n",
       "      <td>38.083612</td>\n",
       "      <td>0.351171</td>\n",
       "      <td>263358.029264</td>\n",
       "      <td>1.393880</td>\n",
       "      <td>136.625418</td>\n",
       "      <td>0.648829</td>\n",
       "      <td>0.321070</td>\n",
       "      <td>130.260870</td>\n",
       "      <td>0.321070</td>\n",
       "    </tr>\n",
       "    <tr>\n",
       "      <th>std</th>\n",
       "      <td>11.894809</td>\n",
       "      <td>0.496107</td>\n",
       "      <td>970.287881</td>\n",
       "      <td>0.494067</td>\n",
       "      <td>11.834841</td>\n",
       "      <td>0.478136</td>\n",
       "      <td>97804.236869</td>\n",
       "      <td>1.034510</td>\n",
       "      <td>4.412477</td>\n",
       "      <td>0.478136</td>\n",
       "      <td>0.467670</td>\n",
       "      <td>77.614208</td>\n",
       "      <td>0.467670</td>\n",
       "    </tr>\n",
       "    <tr>\n",
       "      <th>min</th>\n",
       "      <td>40.000000</td>\n",
       "      <td>0.000000</td>\n",
       "      <td>23.000000</td>\n",
       "      <td>0.000000</td>\n",
       "      <td>14.000000</td>\n",
       "      <td>0.000000</td>\n",
       "      <td>25100.000000</td>\n",
       "      <td>0.500000</td>\n",
       "      <td>113.000000</td>\n",
       "      <td>0.000000</td>\n",
       "      <td>0.000000</td>\n",
       "      <td>4.000000</td>\n",
       "      <td>0.000000</td>\n",
       "    </tr>\n",
       "    <tr>\n",
       "      <th>25%</th>\n",
       "      <td>51.000000</td>\n",
       "      <td>0.000000</td>\n",
       "      <td>116.500000</td>\n",
       "      <td>0.000000</td>\n",
       "      <td>30.000000</td>\n",
       "      <td>0.000000</td>\n",
       "      <td>212500.000000</td>\n",
       "      <td>0.900000</td>\n",
       "      <td>134.000000</td>\n",
       "      <td>0.000000</td>\n",
       "      <td>0.000000</td>\n",
       "      <td>73.000000</td>\n",
       "      <td>0.000000</td>\n",
       "    </tr>\n",
       "    <tr>\n",
       "      <th>50%</th>\n",
       "      <td>60.000000</td>\n",
       "      <td>0.000000</td>\n",
       "      <td>250.000000</td>\n",
       "      <td>0.000000</td>\n",
       "      <td>38.000000</td>\n",
       "      <td>0.000000</td>\n",
       "      <td>262000.000000</td>\n",
       "      <td>1.100000</td>\n",
       "      <td>137.000000</td>\n",
       "      <td>1.000000</td>\n",
       "      <td>0.000000</td>\n",
       "      <td>115.000000</td>\n",
       "      <td>0.000000</td>\n",
       "    </tr>\n",
       "    <tr>\n",
       "      <th>75%</th>\n",
       "      <td>70.000000</td>\n",
       "      <td>1.000000</td>\n",
       "      <td>582.000000</td>\n",
       "      <td>1.000000</td>\n",
       "      <td>45.000000</td>\n",
       "      <td>1.000000</td>\n",
       "      <td>303500.000000</td>\n",
       "      <td>1.400000</td>\n",
       "      <td>140.000000</td>\n",
       "      <td>1.000000</td>\n",
       "      <td>1.000000</td>\n",
       "      <td>203.000000</td>\n",
       "      <td>1.000000</td>\n",
       "    </tr>\n",
       "    <tr>\n",
       "      <th>max</th>\n",
       "      <td>95.000000</td>\n",
       "      <td>1.000000</td>\n",
       "      <td>7861.000000</td>\n",
       "      <td>1.000000</td>\n",
       "      <td>80.000000</td>\n",
       "      <td>1.000000</td>\n",
       "      <td>850000.000000</td>\n",
       "      <td>9.400000</td>\n",
       "      <td>148.000000</td>\n",
       "      <td>1.000000</td>\n",
       "      <td>1.000000</td>\n",
       "      <td>285.000000</td>\n",
       "      <td>1.000000</td>\n",
       "    </tr>\n",
       "  </tbody>\n",
       "</table>\n",
       "</div>"
      ],
      "text/plain": [
       "             age    anaemia  creatinine_phosphokinase   diabetes  \\\n",
       "count 299.000000 299.000000                299.000000 299.000000   \n",
       "mean   60.833893   0.431438                581.839465   0.418060   \n",
       "std    11.894809   0.496107                970.287881   0.494067   \n",
       "min    40.000000   0.000000                 23.000000   0.000000   \n",
       "25%    51.000000   0.000000                116.500000   0.000000   \n",
       "50%    60.000000   0.000000                250.000000   0.000000   \n",
       "75%    70.000000   1.000000                582.000000   1.000000   \n",
       "max    95.000000   1.000000               7861.000000   1.000000   \n",
       "\n",
       "       ejection_fraction  high_blood_pressure     platelets  serum_creatinine  \\\n",
       "count         299.000000           299.000000    299.000000        299.000000   \n",
       "mean           38.083612             0.351171 263358.029264          1.393880   \n",
       "std            11.834841             0.478136  97804.236869          1.034510   \n",
       "min            14.000000             0.000000  25100.000000          0.500000   \n",
       "25%            30.000000             0.000000 212500.000000          0.900000   \n",
       "50%            38.000000             0.000000 262000.000000          1.100000   \n",
       "75%            45.000000             1.000000 303500.000000          1.400000   \n",
       "max            80.000000             1.000000 850000.000000          9.400000   \n",
       "\n",
       "       serum_sodium        sex    smoking       time  DEATH_EVENT  \n",
       "count    299.000000 299.000000 299.000000 299.000000   299.000000  \n",
       "mean     136.625418   0.648829   0.321070 130.260870     0.321070  \n",
       "std        4.412477   0.478136   0.467670  77.614208     0.467670  \n",
       "min      113.000000   0.000000   0.000000   4.000000     0.000000  \n",
       "25%      134.000000   0.000000   0.000000  73.000000     0.000000  \n",
       "50%      137.000000   1.000000   0.000000 115.000000     0.000000  \n",
       "75%      140.000000   1.000000   1.000000 203.000000     1.000000  \n",
       "max      148.000000   1.000000   1.000000 285.000000     1.000000  "
      ]
     },
     "execution_count": 2,
     "metadata": {},
     "output_type": "execute_result"
    }
   ],
   "source": [
    "X_train ,Y_train,train_df =get_data('./plib/dataset/heart_failure_clinical_records_dataset.csv')\n",
    "print(\"Shape of X_train:\", X_train.shape)\n",
    "print(\"Shape of y_train:\", Y_train.shape)\n",
    "train_df.describe()"
   ]
  },
  {
   "cell_type": "markdown",
   "id": "d350df62",
   "metadata": {},
   "source": [
    "# Data Normalization"
   ]
  },
  {
   "cell_type": "code",
   "execution_count": 3,
   "id": "3892d135",
   "metadata": {},
   "outputs": [
    {
     "name": "stdout",
     "output_type": "stream",
     "text": [
      "Shape of X_train: (299, 12)\n",
      "Shape of y_train: (299,)\n",
      "Classes:  2\n"
     ]
    }
   ],
   "source": [
    "X_train=minmax_norm(X_train)\n",
    "print(\"Shape of X_train:\", X_train.shape)\n",
    "print(\"Shape of y_train:\", Y_train.shape)\n",
    "classes=len(np.unique(Y_train))\n",
    "print(\"Classes: \",classes)"
   ]
  },
  {
   "cell_type": "markdown",
   "id": "54ecbc83",
   "metadata": {},
   "source": [
    "# Split Data for Train and Test"
   ]
  },
  {
   "cell_type": "code",
   "execution_count": 4,
   "id": "56a4f39d",
   "metadata": {},
   "outputs": [
    {
     "name": "stdout",
     "output_type": "stream",
     "text": [
      "Shape of X_train: (239, 12)\n",
      "Shape of y_train: (239,)\n",
      "Shape of X_test: (60, 12)\n",
      "Shape of y_test: (60,)\n"
     ]
    }
   ],
   "source": [
    "xtrain, xvalid, ytrain, yvalid,fold=data_split(X_train,Y_train,test_size=0.2)\n",
    "print(\"Shape of X_train:\", xtrain.shape)\n",
    "print(\"Shape of y_train:\", ytrain.shape)\n",
    "print(\"Shape of X_test:\", xvalid.shape)\n",
    "print(\"Shape of y_test:\", yvalid.shape)\n"
   ]
  },
  {
   "cell_type": "markdown",
   "id": "7f9e7732",
   "metadata": {},
   "source": [
    "# Feature Selection"
   ]
  },
  {
   "cell_type": "code",
   "execution_count": 5,
   "id": "2efd316f",
   "metadata": {},
   "outputs": [
    {
     "name": "stdout",
     "output_type": "stream",
     "text": [
      "Iteration: 1\n",
      "Best (PSO): 0.25751215968420293\n",
      "Iteration: 2\n",
      "Best (PSO): 0.25539636609358657\n",
      "Iteration: 3\n",
      "Best (PSO): 0.25440554056451486\n",
      "Iteration: 4\n",
      "Best (PSO): 0.25440554056451486\n",
      "Run Time --- 0.63736891746521 seconds ---\n",
      "Number of Best Features:  6\n",
      "6 7\n",
      "Seleted Feature Composition:  (239, 7) (60, 7)\n",
      "You choosed worse features too.\n",
      "Shape of X_train: (239, 7)\n",
      "Shape of y_train: (239,)\n",
      "Shape of X_test: (60, 7)\n",
      "Shape of y_test: (60,)\n"
     ]
    }
   ],
   "source": [
    "opts = {'k':5, 'fold':fold, 'N':X_train.shape[0], 'T':7, 'w':0.7, 'c1':2, 'c2':2}\n",
    "x_train, x_test, y_train, y_test,b_feat= out_features(X_train,Y_train,opts,xtrain, xvalid, ytrain, yvalid)\n",
    "print (\"Number of Best Features: \",b_feat)\n",
    "\n",
    "sel_feat_ratio=60\n",
    "w=round(x_train.shape[1]*sel_feat_ratio/100)\n",
    "print(b_feat,w)\n",
    "if w > b_feat:\n",
    "    x_train=x_train[:,0:  w]\n",
    "    x_test=x_test[:,0:w]\n",
    "    print(\"Seleted Feature Composition: \",x_train.shape,x_test.shape)\n",
    "    print('You choosed worse features too.')\n",
    "else:\n",
    "    x_train=x_train[:,0:  w]\n",
    "    x_test=x_test[:,0:w]\n",
    "    print(\"Seleted Feature Composition: \",x_train.shape,x_test.shape)\n",
    "    \n",
    "print(\"Shape of X_train:\", x_train.shape)\n",
    "print(\"Shape of y_train:\", y_train.shape)\n",
    "print(\"Shape of X_test:\", x_test.shape)\n",
    "print(\"Shape of y_test:\", y_test.shape)"
   ]
  },
  {
   "cell_type": "markdown",
   "id": "ad9d19f9",
   "metadata": {},
   "source": [
    "# Defining Performance Evaluation Functions"
   ]
  },
  {
   "cell_type": "code",
   "execution_count": 6,
   "id": "8179b094",
   "metadata": {},
   "outputs": [],
   "source": [
    "## Creating Dictionaries to Store Results\n",
    "accuracy_table = dict()\n",
    "sensitivity_table = dict()\n",
    "specificity_table= dict()\n",
    "Precision_table= dict()\n",
    "F1Score_table= dict()\n",
    "measures_table=dict()"
   ]
  },
  {
   "cell_type": "markdown",
   "id": "ce6b124a",
   "metadata": {},
   "source": [
    "# BaggingClassifier"
   ]
  },
  {
   "cell_type": "code",
   "execution_count": 7,
   "id": "f0f220a7",
   "metadata": {},
   "outputs": [
    {
     "name": "stdout",
     "output_type": "stream",
     "text": [
      "Performanc Measures --> BaggingClassifier\n"
     ]
    },
    {
     "data": {
      "image/png": "[encoded data removed]",
      "text/plain": [
       "<Figure size 432x288 with 2 Axes>"
      ]
     },
     "metadata": {
      "needs_background": "light"
     },
     "output_type": "display_data"
    },
    {
     "name": "stdout",
     "output_type": "stream",
     "text": [
      "Accuracy, sensitivity, specificity, Precision, F1-score\n",
      "(0.9344262295081968, 0.95, 0.9047619047619048, 0.95, 0.9500000000000001)\n"
     ]
    }
   ],
   "source": [
    "#BaggingClassifier\n",
    "estimator = BaggingClassifier()\n",
    "estimator.fit(x_train, y_train)\n",
    "y_pred = estimator.predict(x_test)\n",
    "ac_s = accuracy_score(y_test, y_pred)\n",
    "\n",
    "print('Performanc Measures --> BaggingClassifier')\n",
    "measures =main_perf_metrics_calc(y_test, y_pred.round(),classes)\n",
    "print(measures)\n",
    "measures_table['Bagging'] = measures\n",
    "\n",
    "## Accuracy, sensitivity, specificity, Precision, Recall, F1-score\n",
    "accuracy_table['Bagging'] = round(measures[0] *100,2)\n",
    "sensitivity_table['Bagging'] = measures[1]\n",
    "specificity_table['Bagging'] = measures[2]\n",
    "Precision_table['Bagging'] = measures[3]\n",
    "F1Score_table['Bagging'] = measures[4]"
   ]
  },
  {
   "cell_type": "markdown",
   "id": "f1cd0e79",
   "metadata": {},
   "source": [
    "# GradientBoostingClassifier"
   ]
  },
  {
   "cell_type": "code",
   "execution_count": null,
   "id": "97d5bea9",
   "metadata": {},
   "outputs": [],
   "source": [
    "#GradientBoostingClassifier\n",
    "estimator = GradientBoostingClassifier()\n",
    "estimator.fit(x_train, y_train)\n",
    "y_pred = estimator.predict(x_test)\n",
    "ac_s = accuracy_score(y_test, y_pred)\n",
    "print('Performanc Measures --> GradientBoostingClassifier')\n",
    "measures =main_perf_metrics_calc(y_test, y_pred.round(),classes)\n",
    "print(measures)\n",
    "measures_table['GradientBoosting'] = measures\n",
    "\n",
    "## Accuracy, sensitivity, specificity, Precision, Recall, F1-score\n",
    "accuracy_table['GradientBoosting'] = round(measures[0] *100,2)\n",
    "sensitivity_table['GradientBoosting'] = measures[1]\n",
    "specificity_table['GradientBoosting'] = measures[2]\n",
    "Precision_table['GradientBoosting'] = measures[3]\n",
    "F1Score_table['GradientBoosting'] = measures[4]"
   ]
  },
  {
   "cell_type": "markdown",
   "id": "ccade098",
   "metadata": {},
   "source": [
    "# Stacking"
   ]
  },
  {
   "cell_type": "code",
   "execution_count": 9,
   "id": "f535348a",
   "metadata": {},
   "outputs": [
    {
     "name": "stdout",
     "output_type": "stream",
     "text": [
      "Performanc Measures --> stacking\n"
     ]
    },
    {
     "data": {
      "image/png": "[encoded data removed]",
      "text/plain": [
       "<Figure size 432x288 with 2 Axes>"
      ]
     },
     "metadata": {
      "needs_background": "light"
     },
     "output_type": "display_data"
    },
    {
     "name": "stdout",
     "output_type": "stream",
     "text": [
      "Accuracy, sensitivity, specificity, Precision, F1-score\n",
      "(0.9130434782608695, 0.9333333333333333, 0.875, 0.9333333333333333, 0.9333333333333333)\n"
     ]
    }
   ],
   "source": [
    "#stacking\n",
    "estimators = [('rf', RandomForestClassifier(n_estimators=10, random_state=42)),\n",
    "              ('svr', make_pipeline(StandardScaler(),\n",
    "                                    LinearSVC(random_state=42)))]\n",
    "estimator = StackingClassifier(estimators=estimators)\n",
    "estimator.fit(x_train, y_train)\n",
    "y_pred = estimator.predict(x_test)\n",
    "ac_s = accuracy_score(y_test, y_pred)\n",
    "print('Performanc Measures --> stacking')\n",
    "measures =main_perf_metrics_calc(y_test, y_pred.round(),classes)\n",
    "print(measures)\n",
    "measures_table['stacking'] = measures\n",
    "accuracy_table['stacking'] = round(measures[0] *100,2)\n",
    "sensitivity_table['stacking'] = measures[1]\n",
    "specificity_table['stacking'] = measures[2]\n",
    "Precision_table['stacking'] = measures[3]\n",
    "F1Score_table['stacking'] = measures[4]"
   ]
  },
  {
   "cell_type": "markdown",
   "id": "adcf94e2",
   "metadata": {},
   "source": [
    "# VotingClassifier"
   ]
  },
  {
   "cell_type": "code",
   "execution_count": 10,
   "id": "f0cd4903",
   "metadata": {},
   "outputs": [
    {
     "name": "stdout",
     "output_type": "stream",
     "text": [
      "Performanc Measures --> VotingClassifier\n"
     ]
    },
    {
     "data": {
      "image/png": "[encoded data removed]",
      "text/plain": [
       "<Figure size 432x288 with 2 Axes>"
      ]
     },
     "metadata": {
      "needs_background": "light"
     },
     "output_type": "display_data"
    },
    {
     "name": "stdout",
     "output_type": "stream",
     "text": [
      "Accuracy, sensitivity, specificity, Precision, F1-score\n",
      "(0.9344262295081968, 0.95, 0.9047619047619048, 0.95, 0.9500000000000001)\n"
     ]
    }
   ],
   "source": [
    "#VotingClassifier\n",
    "estimators = [('rf', RandomForestClassifier(n_estimators=10, random_state=42)),\n",
    "              ('svr', make_pipeline(StandardScaler(),\n",
    "                                    LinearSVC(random_state=42)))]\n",
    "estimator = VotingClassifier(estimators=estimators)\n",
    "estimator.fit(x_train, y_train)\n",
    "y_pred = estimator.predict(x_test)\n",
    "ac_s = accuracy_score(y_test, y_pred)\n",
    "\n",
    "print('Performanc Measures --> VotingClassifier')\n",
    "measures =main_perf_metrics_calc(y_test, y_pred.round(),classes)\n",
    "print(measures)\n",
    "measures_table['Voting'] = measures\n",
    "\n",
    "## Accuracy, sensitivity, specificity, Precision, Recall, F1-score\n",
    "accuracy_table['Voting'] = round(measures[0] *100,2)\n",
    "sensitivity_table['Voting'] = measures[1]\n",
    "specificity_table['Voting'] = measures[2]\n",
    "Precision_table['Voting'] = measures[3]\n",
    "F1Score_table['Voting'] = measures[4]"
   ]
  },
  {
   "cell_type": "markdown",
   "id": "cdc2b39f",
   "metadata": {},
   "source": [
    "# WAE"
   ]
  },
  {
   "cell_type": "code",
   "execution_count": 11,
   "id": "95611d3a",
   "metadata": {},
   "outputs": [
    {
     "name": "stdout",
     "output_type": "stream",
     "text": [
      "[0.95, 0.6833333333333333, 0.8]\n",
      "Performanc Measures --> Weighted Average Ensemble\n"
     ]
    },
    {
     "data": {
      "image/png": "[encoded data removed]",
      "text/plain": [
       "<Figure size 432x288 with 2 Axes>"
      ]
     },
     "metadata": {
      "needs_background": "light"
     },
     "output_type": "display_data"
    },
    {
     "name": "stdout",
     "output_type": "stream",
     "text": [
      "Accuracy, sensitivity, specificity, Precision, F1-score\n",
      "(0.7894736842105263, 0.8333333333333334, 0.7142857142857143, 0.8333333333333334, 0.8333333333333334)\n"
     ]
    }
   ],
   "source": [
    "#WAE\n",
    "# get a list of base models\n",
    "def get_models():\n",
    "    models = list()\n",
    "    models.append(('lr', LogisticRegression()))\n",
    "    models.append(('cart', DecisionTreeClassifier()))\n",
    "    models.append(('bayes', GaussianNB()))\n",
    "    return models\n",
    "\n",
    "\n",
    "# evaluate each base model\n",
    "def evaluate_models(models, X_train, X_val, y_train, y_val):\n",
    "    # fit and evaluate the models\n",
    "    scores = list()\n",
    "    for name, model in models:\n",
    "        # fit the model\n",
    "        model.fit(X_train, y_train)\n",
    "        # evaluate the model\n",
    "        yhat = model.predict(X_val)\n",
    "        acc = accuracy_score(y_val, yhat)\n",
    "        # store the performance\n",
    "        scores.append(acc)\n",
    "    # report model performance\n",
    "    return scores\n",
    "\n",
    "# create the base models\n",
    "models = get_models()\n",
    "# fit and evaluate each model\n",
    "scores = evaluate_models(models, x_train, x_test, y_train, y_test)\n",
    "print(scores)\n",
    "# create the ensemble\n",
    "ensemble = VotingClassifier(estimators=models, voting='soft', weights=scores)\n",
    "# fit the ensemble on the training dataset\n",
    "ensemble.fit(x_train, y_train)\n",
    "# make predictions on test set\n",
    "y_pred=ensemble.predict(x_test)\n",
    "\n",
    "print('Performanc Measures --> Weighted Average Ensemble')\n",
    "measures =main_perf_metrics_calc(y_test, y_pred.round(),classes)\n",
    "print(measures)\n",
    "\n",
    "measures_table['WAE'] = measures\n",
    "\n",
    "\n",
    "accuracy_table['WAE'] = round(measures[0] *100,2)\n",
    "sensitivity_table['WAE'] = measures[1]\n",
    "specificity_table['WAE'] = measures[2]\n",
    "Precision_table['WAE'] = measures[3]\n",
    "F1Score_table['WAE'] = measures[4]"
   ]
  },
  {
   "cell_type": "markdown",
   "id": "fe821b0f",
   "metadata": {},
   "source": [
    "# Plotting Accuracy for all Classifiers\n"
   ]
  },
  {
   "cell_type": "code",
   "execution_count": 12,
   "id": "087b2e1e",
   "metadata": {},
   "outputs": [
    {
     "data": {
      "text/plain": [
       "([0, 1, 2, 3],\n",
       " [Text(0, 0, ''), Text(0, 0, ''), Text(0, 0, ''), Text(0, 0, '')])"
      ]
     },
     "execution_count": 12,
     "metadata": {},
     "output_type": "execute_result"
    },
    {
     "data": {
      "image/png": "[encoded data removed]",
      "text/plain": [
       "<Figure size 576x504 with 1 Axes>"
      ]
     },
     "metadata": {
      "needs_background": "light"
     },
     "output_type": "display_data"
    }
   ],
   "source": [
    "plt.figure(figsize=(8,7))\n",
    "# Change color of each bar\n",
    "plt.bar(list(accuracy_table.keys()),list(accuracy_table.values()), color=['firebrick', 'green', 'blue', 'black', 'red','orange','gray'])\n",
    "\n",
    "def addtext(x,y):\n",
    "    for i in range(len(x)):\n",
    "        plt.text(i,1.0016*y[i],y[i],ha = 'center',rotation=0)\n",
    "    \n",
    "max_value_dct_time = math.floor(max(accuracy_table.values()))\n",
    "min_value_dct_time = math.floor(min(accuracy_table.values()))\n",
    "                       \n",
    "addtext(list(accuracy_table.keys()),list(accuracy_table.values()))\n",
    "\n",
    "plt.title('Testing Accuracy for All Classifiers')\n",
    "plt.ylim(min_value_dct_time-1,max_value_dct_time+1)\n",
    "plt.ylabel('Accuracy %')\n",
    "\n",
    "# plt.yticks((91, 92, 93, 94, 95, 96, 97, 98, 99, 100))\n",
    "plt.xticks(rotation=45)"
   ]
  },
  {
   "cell_type": "markdown",
   "id": "e44efe0f",
   "metadata": {},
   "source": [
    "# Showing All Results in a Single Plot\n"
   ]
  },
  {
   "cell_type": "code",
   "execution_count": 13,
   "id": "c8f033ad",
   "metadata": {},
   "outputs": [
    {
     "name": "stdout",
     "output_type": "stream",
     "text": [
      "[0 1 2 3]\n"
     ]
    },
    {
     "data": {
      "image/png": "[encoded data removed]",
      "text/plain": [
       "<Figure size 576x504 with 1 Axes>"
      ]
     },
     "metadata": {
      "needs_background": "light"
     },
     "output_type": "display_data"
    }
   ],
   "source": [
    "plt.figure(figsize=(8,7))\n",
    "\n",
    "x_axis = np.arange(len(accuracy_table))\n",
    "\n",
    "# Change color of each bar\n",
    "#plt.bar(x_axis -0.2,list(accuracy_table.values()),\n",
    "#           label = 'Accuracy',width=0.4)\n",
    "\n",
    "plt.bar(x_axis-0.4,list(sensitivity_table.values()),\n",
    "           label = 'Sensitivity',width=0.15)\n",
    "\n",
    "plt.bar(x_axis-0.2,list(specificity_table.values()),\n",
    "           label = 'Specificity',width=0.15)\n",
    "\n",
    "plt.bar(x_axis,list(Precision_table.values()),\n",
    "           label = 'Precision',width=0.15)\n",
    "\n",
    "plt.bar(x_axis+0.4,list(F1Score_table.values()),\n",
    "           label = 'F1 Score',width=0.15)\n",
    "\n",
    "print(x_axis)\n",
    "\n",
    "def addtext1(x,y):\n",
    "    for i in range(len(x)):\n",
    "        plt.text(i,1.010*y[i],y[i],rotation=90)\n",
    "\n",
    "def addtext2(x,y):\n",
    "    for i in range(len(x)):\n",
    "        plt.text(i,1.010*y[i],y[i],ha = 'left',rotation=0)\n",
    "\n",
    "plt.ylabel('Sensitivity, Specificity, Precision, Recall, F1-Score')\n",
    "plt.title('All Performance Measures for all Classifiers')\n",
    "# plt.ylim(min_value_dct-2,max_value_dct+2)\n",
    "plt.xticks(x_axis, list(accuracy_table.keys()))\n",
    "#addtext1(list(sensitivity_table.keys()),list(sensitivity_table.values()))\n",
    "\n",
    "plt.yticks((0, 0.1, 0.2, 0.3, 0.4, 0.5, 0.6,0.7, 0.8, 0.9, 1.0))\n",
    "plt.xticks(rotation=45)\n",
    "plt.legend()\n",
    "plt.show()\n"
   ]
  },
  {
   "cell_type": "markdown",
   "id": "4631da87",
   "metadata": {},
   "source": [
    "# Showing  Complete Table"
   ]
  },
  {
   "cell_type": "code",
   "execution_count": 14,
   "id": "6d08b55c",
   "metadata": {},
   "outputs": [
    {
     "name": "stdout",
     "output_type": "stream",
     "text": [
      "------------------------------------------------------------------------------------------\n",
      "Classifier | Accuracy %  | Sensitivity | Specificity | Precision  | F1-Score  \n",
      "Bagging    | 93.443      | 0.95        | 0.905       | 0.95       | 0.95       \n",
      "stacking   | 91.304      | 0.933       | 0.875       | 0.933      | 0.933      \n",
      "Voting     | 93.443      | 0.95        | 0.905       | 0.95       | 0.95       \n",
      "WAE        | 78.947      | 0.833       | 0.714       | 0.833      | 0.833      \n",
      "------------------------------------------------------------------------------------------\n"
     ]
    }
   ],
   "source": [
    "def header():\n",
    "    for x in range(90):\n",
    "        print ('-',end = '')\n",
    "    print('')\n",
    "    \n",
    "header()\n",
    "print (\"{:<10} | {:<11} | {:<11} | {:<11} | {:<10} | {:<10}\".format('Classifier','Accuracy %', 'Sensitivity', 'Specificity','Precision','F1-Score'))\n",
    " \n",
    "# print each data item.\n",
    "for key, value in measures_table.items():\n",
    "    Acc,Sen,Spec,Prec,F1 = value\n",
    "#    header()\n",
    "    if key == 'GradientBoosting':\n",
    "        key ='Gradient'\n",
    "    print (\"{:<10} | {:<11} | {:<11} | {:<11} | {:<10} | {:<10} \".format(key,round(Acc*100,3),round(Sen,3),round(Spec,3),round(Prec,3),round(F1,3)))\n",
    "header()"
   ]
  },
  {
   "cell_type": "markdown",
   "id": "9d7856fe",
   "metadata": {},
   "source": [
    "# Saving Results to File"
   ]
  },
  {
   "cell_type": "code",
   "execution_count": 15,
   "id": "a07c403a",
   "metadata": {},
   "outputs": [],
   "source": [
    "# Create Folder for Results if not exist\n",
    "if not os.path.exists('Results'):\n",
    "    os.makedirs('Results')"
   ]
  },
  {
   "cell_type": "code",
   "execution_count": 16,
   "id": "567b8280",
   "metadata": {},
   "outputs": [],
   "source": [
    "#####################################################\n",
    "                ## Using Pickle\n",
    "################################################        \n",
    "#import pickle\n",
    "# Open a file and use dump()\n",
    "#with open('results/ML.pkl', 'wb') as file:\n",
    "    # A new file will be created\n",
    "#    pickle.dump(measures_table, file)    "
   ]
  },
  {
   "cell_type": "code",
   "execution_count": 17,
   "id": "a2f30c09",
   "metadata": {},
   "outputs": [],
   "source": [
    "#####################################################\n",
    "                ## Using CSV\n",
    "################################################\n",
    "# import csv\n",
    "#w = csv.writer(open(\"Results/output.csv\", \"wb\"))\n",
    "\n",
    "# loop over dictionary keys and values\n",
    "#for key, val in measures_table.items():\n",
    "#    print(key,val)\n",
    "    # write every key and value to file\n",
    "#    w.writerow([key, val])"
   ]
  },
  {
   "cell_type": "code",
   "execution_count": 18,
   "id": "d8437a96",
   "metadata": {},
   "outputs": [],
   "source": [
    "#####################################################\n",
    "                ## Using JSON\n",
    "################################################\n",
    "# load json module\n",
    "\n",
    "# python dictionary with key value pairs\n",
    "\n",
    "# create json object from dictionary\n",
    "json = json.dumps(measures_table)\n",
    "\n",
    "# open file for writing, \"w\" \n",
    "f = open(\"Results/ML.json\",\"w\")\n",
    "\n",
    "# write json object to file\n",
    "f.write(json)\n",
    "\n",
    "# close file\n",
    "f.close()"
   ]
  },
  {
   "cell_type": "code",
   "execution_count": null,
   "id": "8306f1cd",
   "metadata": {},
   "outputs": [],
   "source": []
  }
 ],
 "metadata": {
  "kernelspec": {
   "display_name": "Python 3 (ipykernel)",
   "language": "python",
   "name": "python3"
  },
  "language_info": {
   "codemirror_mode": {
    "name": "ipython",
    "version": 3
   },
   "file_extension": ".py",
   "mimetype": "text/x-python",
   "name": "python",
   "nbconvert_exporter": "python",
   "pygments_lexer": "ipython3",
   "version": "3.7.5"
  }
 },
 "nbformat": 4,
 "nbformat_minor": 5
}
