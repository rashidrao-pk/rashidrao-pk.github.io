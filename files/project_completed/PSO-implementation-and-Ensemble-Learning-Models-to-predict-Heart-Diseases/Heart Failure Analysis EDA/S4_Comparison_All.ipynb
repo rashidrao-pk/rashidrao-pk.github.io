{
 "cells": [
  {
   "cell_type": "markdown",
   "id": "ce6b0ba8",
   "metadata": {},
   "source": [
    "# Compare All Results"
   ]
  },
  {
   "cell_type": "code",
   "execution_count": 1,
   "id": "d92113a2",
   "metadata": {},
   "outputs": [],
   "source": [
    "import json"
   ]
  },
  {
   "cell_type": "markdown",
   "id": "66c6aae6",
   "metadata": {},
   "source": [
    "# Loading results for ML Classifiers"
   ]
  },
  {
   "cell_type": "code",
   "execution_count": 2,
   "id": "526432e6",
   "metadata": {},
   "outputs": [
    {
     "name": "stdout",
     "output_type": "stream",
     "text": [
      "Reading ML JSON file\n",
      "Starting to convert json decoding\n",
      "Decoded JSON Data From File\n",
      "Done reading json file\n"
     ]
    },
    {
     "data": {
      "text/plain": [
       "' for key, value in ML_Results.items():\\n        print(key, \":\", value)'"
      ]
     },
     "execution_count": 2,
     "metadata": {},
     "output_type": "execute_result"
    }
   ],
   "source": [
    "print(\"Reading ML JSON file\")\n",
    "with open(\"Results/ML.json\", \"r\") as read_file:\n",
    "    print(\"Starting to convert json decoding\")\n",
    "    ML_Results = json.load(read_file)\n",
    "\n",
    "    print(\"Decoded JSON Data From File\")\n",
    "    print(\"Done reading json file\")\n",
    "''' for key, value in ML_Results.items():\n",
    "        print(key, \":\", value)'''\n",
    "    "
   ]
  },
  {
   "cell_type": "markdown",
   "id": "1aa49137",
   "metadata": {},
   "source": [
    "# Loading Results for NN Classifiers"
   ]
  },
  {
   "cell_type": "code",
   "execution_count": 3,
   "id": "588fb874",
   "metadata": {},
   "outputs": [
    {
     "name": "stdout",
     "output_type": "stream",
     "text": [
      "Reading NN JSON file\n",
      "Starting to convert json decoding\n",
      "Decoded JSON Data From File\n",
      "DNFN : [0.9344262295081968, 0.95, 0.9047619047619048, 0.95, 0.9500000000000001]\n",
      "NN : [0.4449760765550239, 0.5166666666666667, 0.34831460674157305, 0.5166666666666667, 0.5166666666666667]\n",
      "Ride NN : [0.46153846153846156, 0.5333333333333333, 0.36363636363636365, 0.5333333333333333, 0.5333333333333333]\n",
      "Done reading json file\n"
     ]
    }
   ],
   "source": [
    "print(\"Reading NN JSON file\")\n",
    "with open(\"Results/NN.json\", \"r\") as read_file:\n",
    "    print(\"Starting to convert json decoding\")\n",
    "    NN_Results = json.load(read_file)\n",
    "\n",
    "    print(\"Decoded JSON Data From File\")\n",
    "    for key, value in NN_Results.items():\n",
    "        print(key, \":\", value)\n",
    "    print(\"Done reading json file\")\n"
   ]
  },
  {
   "cell_type": "markdown",
   "id": "6544ddbf",
   "metadata": {},
   "source": [
    "# Loading Results for Proposed Classifier"
   ]
  },
  {
   "cell_type": "code",
   "execution_count": 6,
   "id": "16f9ebce",
   "metadata": {},
   "outputs": [
    {
     "name": "stdout",
     "output_type": "stream",
     "text": [
      "Reading Ensemble_Training JSON file\n",
      "Starting to convert json decoding\n",
      "Decoded JSON Data From File\n",
      "Ensemble_Train : [0.9344262295081968, 0.95, 0.9047619047619048, 0.95, 0.9500000000000001]\n",
      "Done reading json file\n"
     ]
    }
   ],
   "source": [
    "print(\"Reading Ensemble_Training JSON file\")\n",
    "with open(\"Results/Proposed_Training.json\", \"r\") as read_file:\n",
    "    print(\"Starting to convert json decoding\")\n",
    "    Ensemble_Train_Results = json.load(read_file)\n",
    "\n",
    "    print(\"Decoded JSON Data From File\")\n",
    "    for key, value in Ensemble_Train_Results.items():\n",
    "        print(key, \":\", value)\n",
    "    print(\"Done reading json file\")\n",
    "Ensemble_Train_Results.update()"
   ]
  },
  {
   "cell_type": "code",
   "execution_count": 7,
   "id": "e7b9c2fd",
   "metadata": {},
   "outputs": [
    {
     "name": "stdout",
     "output_type": "stream",
     "text": [
      "------------------------------------------------------------------------------------------\n",
      "Classifier         | Accuracy %  | Sensitivity | Specificity | Precision  | F1-Score  \n",
      "Bagging            | 78.947      | 0.833       | 0.714       | 0.833      | 0.833      \n",
      "GradientBoosting   | 93.443      | 0.95        | 0.905       | 0.95       | 0.95       \n",
      "stacking           | 91.304      | 0.933       | 0.875       | 0.933      | 0.933      \n",
      "Voting             | 93.443      | 0.95        | 0.905       | 0.95       | 0.95       \n",
      "WAE                | 82.979      | 0.867       | 0.765       | 0.867      | 0.867      \n",
      "DNFN               | 93.443      | 0.95        | 0.905       | 0.95       | 0.95       \n",
      "NN                 | 44.498      | 0.517       | 0.348       | 0.517      | 0.517      \n",
      "Ride NN            | 46.154      | 0.533       | 0.364       | 0.533      | 0.533      \n",
      "Ensemble_Train     | 93.443      | 0.95        | 0.905       | 0.95       | 0.95       \n",
      "------------------------------------------------------------------------------------------\n"
     ]
    }
   ],
   "source": [
    "def Add(x, y):\n",
    "    z = x.copy()   \n",
    "    z.update(y)   \n",
    "    return z\n",
    "measures_table=Add(ML_Results,NN_Results)\n",
    "measures_table=Add(measures_table,Ensemble_Train_Results)\n",
    "def header():\n",
    "    for x in range(90):\n",
    "        print ('-',end = '')\n",
    "    print('')\n",
    "    \n",
    "header()\n",
    "print (\"{:<18} | {:<11} | {:<11} | {:<11} | {:<10} | {:<10}\".format('Classifier','Accuracy %', 'Sensitivity', 'Specificity','Precision','F1-Score'))\n",
    " \n",
    "# print each data item.\n",
    "for key, value in measures_table.items():\n",
    "    Acc,Sen,Spec,Prec,F1 = value\n",
    "    print (\"{:<18} | {:<11} | {:<11} | {:<11} | {:<10} | {:<10} \".format(key,round(Acc*100,3),round(Sen,3),round(Spec,3),round(Prec,3),round(F1,3)))\n",
    "header()"
   ]
  },
  {
   "cell_type": "code",
   "execution_count": 8,
   "id": "ea8ff937",
   "metadata": {},
   "outputs": [
    {
     "name": "stdout",
     "output_type": "stream",
     "text": [
      "------------------------------------------------------------------------------------------\n",
      "Classifier         | Accuracy %  |\n",
      "Bagging            | 78.947      |\n",
      "GradientBoosting   | 93.443      |\n",
      "stacking           | 91.304      |\n",
      "Voting             | 93.443      |\n",
      "WAE                | 82.979      |\n",
      "DNFN               | 93.443      |\n",
      "NN                 | 44.498      |\n",
      "Ride NN            | 46.154      |\n",
      "Ensemble_Train     | 93.443      |\n",
      "------------------------------------------------------------------------------------------\n"
     ]
    }
   ],
   "source": [
    "import math\n",
    "def header():\n",
    "    for x in range(90):\n",
    "        print ('-',end = '')\n",
    "    print('')\n",
    "    \n",
    "header()\n",
    "print (\"{:<18} | {:<11} |\".format('Classifier','Accuracy %'))\n",
    " \n",
    "for key, value in measures_table.items():\n",
    "    Acc,_,_,_,_ = value\n",
    "    print (\"{:<18} | {:<11} |\".format(key,round(Acc*100,3)))\n",
    "header()"
   ]
  },
  {
   "cell_type": "code",
   "execution_count": null,
   "id": "6020ac60",
   "metadata": {},
   "outputs": [],
   "source": []
  }
 ],
 "metadata": {
  "kernelspec": {
   "display_name": "Python 3 (ipykernel)",
   "language": "python",
   "name": "python3"
  },
  "language_info": {
   "codemirror_mode": {
    "name": "ipython",
    "version": 3
   },
   "file_extension": ".py",
   "mimetype": "text/x-python",
   "name": "python",
   "nbconvert_exporter": "python",
   "pygments_lexer": "ipython3",
   "version": "3.7.5"
  }
 },
 "nbformat": 4,
 "nbformat_minor": 5
}
