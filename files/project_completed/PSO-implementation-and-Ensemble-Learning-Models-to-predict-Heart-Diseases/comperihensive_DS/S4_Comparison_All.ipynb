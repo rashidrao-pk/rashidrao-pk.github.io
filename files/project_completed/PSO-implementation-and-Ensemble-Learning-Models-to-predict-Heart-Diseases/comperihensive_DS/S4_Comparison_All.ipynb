{
 "cells": [
  {
   "cell_type": "markdown",
   "id": "ce6b0ba8",
   "metadata": {},
   "source": [
    "# Compare All Results"
   ]
  },
  {
   "cell_type": "code",
   "execution_count": 1,
   "id": "d92113a2",
   "metadata": {},
   "outputs": [],
   "source": [
    "import json"
   ]
  },
  {
   "cell_type": "markdown",
   "id": "66c6aae6",
   "metadata": {},
   "source": [
    "# Loading results for ML Classifiers"
   ]
  },
  {
   "cell_type": "code",
   "execution_count": 2,
   "id": "526432e6",
   "metadata": {},
   "outputs": [
    {
     "name": "stdout",
     "output_type": "stream",
     "text": [
      "Reading ML JSON file\n",
      "Starting to convert json decoding\n",
      "Decoded JSON Data From File\n",
      "Done reading json file\n"
     ]
    },
    {
     "data": {
      "text/plain": [
       "' for key, value in ML_Results.items():\\n        print(key, \":\", value)'"
      ]
     },
     "execution_count": 2,
     "metadata": {},
     "output_type": "execute_result"
    }
   ],
   "source": [
    "print(\"Reading ML JSON file\")\n",
    "with open(\"Results/ML.json\", \"r\") as read_file:\n",
    "    print(\"Starting to convert json decoding\")\n",
    "    ML_Results = json.load(read_file)\n",
    "\n",
    "    print(\"Decoded JSON Data From File\")\n",
    "    print(\"Done reading json file\")\n",
    "''' for key, value in ML_Results.items():\n",
    "        print(key, \":\", value)'''\n",
    "    "
   ]
  },
  {
   "cell_type": "markdown",
   "id": "1aa49137",
   "metadata": {},
   "source": [
    "# Loading Results for NN Classifiers"
   ]
  },
  {
   "cell_type": "code",
   "execution_count": 3,
   "id": "588fb874",
   "metadata": {},
   "outputs": [
    {
     "name": "stdout",
     "output_type": "stream",
     "text": [
      "Reading NN JSON file\n",
      "Starting to convert json decoding\n",
      "Decoded JSON Data From File\n",
      "DNFN : [0.5129151291512916, 0.5840336134453782, 0.4124629080118694, 0.5840336134453782, 0.5840336134453782]\n",
      "NN : [0.4326923076923077, 0.5042016806722689, 0.33707865168539325, 0.5042016806722689, 0.5042016806722689]\n",
      "Ride NN : [0.4534461910519952, 0.5252100840336135, 0.3561253561253561, 0.5252100840336135, 0.5252100840336135]\n",
      "Done reading json file\n"
     ]
    }
   ],
   "source": [
    "print(\"Reading NN JSON file\")\n",
    "with open(\"Results/NN.json\", \"r\") as read_file:\n",
    "    print(\"Starting to convert json decoding\")\n",
    "    NN_Results = json.load(read_file)\n",
    "\n",
    "    print(\"Decoded JSON Data From File\")\n",
    "    for key, value in NN_Results.items():\n",
    "        print(key, \":\", value)\n",
    "    print(\"Done reading json file\")\n"
   ]
  },
  {
   "cell_type": "markdown",
   "id": "6544ddbf",
   "metadata": {},
   "source": [
    "# Loading Results for Proposed Classifier"
   ]
  },
  {
   "cell_type": "code",
   "execution_count": 4,
   "id": "16f9ebce",
   "metadata": {},
   "outputs": [
    {
     "name": "stdout",
     "output_type": "stream",
     "text": [
      "Reading Ensemble_Training JSON file\n",
      "Starting to convert json decoding\n",
      "Decoded JSON Data From File\n",
      "Ensemble_Train : [0.7727873183619551, 0.819327731092437, 0.693950177935943, 0.819327731092437, 0.819327731092437]\n",
      "Done reading json file\n"
     ]
    }
   ],
   "source": [
    "print(\"Reading Ensemble_Training JSON file\")\n",
    "with open(\"Results/Proposed_Training.json\", \"r\") as read_file:\n",
    "    print(\"Starting to convert json decoding\")\n",
    "    Ensemble_Train_Results = json.load(read_file)\n",
    "\n",
    "    print(\"Decoded JSON Data From File\")\n",
    "    for key, value in Ensemble_Train_Results.items():\n",
    "        print(key, \":\", value)\n",
    "    print(\"Done reading json file\")\n",
    "Ensemble_Train_Results.update()"
   ]
  },
  {
   "cell_type": "code",
   "execution_count": 6,
   "id": "e7b9c2fd",
   "metadata": {},
   "outputs": [
    {
     "name": "stdout",
     "output_type": "stream",
     "text": [
      "------------------------------------------------------------------------------------------\n",
      "Classifier         | Accuracy %  | Sensitivity | Specificity | Precision  | F1-Score  \n",
      "Bagging            | 93.388      | 0.95        | 0.904       | 0.95       | 0.95       \n",
      "GradientBoosting   | 87.517      | 0.903       | 0.824       | 0.903      | 0.903      \n",
      "stacking           | 90.164      | 0.924       | 0.859       | 0.924      | 0.924      \n",
      "Voting             | 83.356      | 0.87        | 0.77        | 0.87       | 0.87       \n",
      "WAE                | 96.117      | 0.971       | 0.943       | 0.971      | 0.971      \n",
      "DNFN               | 51.292      | 0.584       | 0.412       | 0.584      | 0.584      \n",
      "NN                 | 43.269      | 0.504       | 0.337       | 0.504      | 0.504      \n",
      "Ride NN            | 45.345      | 0.525       | 0.356       | 0.525      | 0.525      \n",
      "Ensemble_Train     | 77.279      | 0.819       | 0.694       | 0.819      | 0.819      \n",
      "------------------------------------------------------------------------------------------\n"
     ]
    }
   ],
   "source": [
    "def Add(x, y):\n",
    "    z = x.copy()   \n",
    "    z.update(y)   \n",
    "    return z\n",
    "measures_table=Add(ML_Results,NN_Results)\n",
    "measures_table=Add(measures_table,Ensemble_Train_Results)\n",
    "def header():\n",
    "    for x in range(90):\n",
    "        print ('-',end = '')\n",
    "    print('')\n",
    "    \n",
    "header()\n",
    "print (\"{:<18} | {:<11} | {:<11} | {:<11} | {:<10} | {:<10}\".format('Classifier','Accuracy %', 'Sensitivity', 'Specificity','Precision','F1-Score'))\n",
    " \n",
    "# print each data item.\n",
    "for key, value in measures_table.items():\n",
    "    Acc,Sen,Spec,Prec,F1 = value\n",
    "    print (\"{:<18} | {:<11} | {:<11} | {:<11} | {:<10} | {:<10} \".format(key,round(Acc*100,3),round(Sen,3),round(Spec,3),round(Prec,3),round(F1,3)))\n",
    "header()"
   ]
  },
  {
   "cell_type": "code",
   "execution_count": 7,
   "id": "ea8ff937",
   "metadata": {},
   "outputs": [
    {
     "name": "stdout",
     "output_type": "stream",
     "text": [
      "------------------------------------------------------------------------------------------\n",
      "Classifier         | Accuracy %  |\n",
      "Bagging            | 93.388      |\n",
      "GradientBoosting   | 87.517      |\n",
      "stacking           | 90.164      |\n",
      "Voting             | 83.356      |\n",
      "WAE                | 96.117      |\n",
      "DNFN               | 51.292      |\n",
      "NN                 | 43.269      |\n",
      "Ride NN            | 45.345      |\n",
      "Ensemble_Train     | 77.279      |\n",
      "------------------------------------------------------------------------------------------\n"
     ]
    }
   ],
   "source": [
    "import math\n",
    "def header():\n",
    "    for x in range(90):\n",
    "        print ('-',end = '')\n",
    "    print('')\n",
    "    \n",
    "header()\n",
    "print (\"{:<18} | {:<11} |\".format('Classifier','Accuracy %'))\n",
    " \n",
    "for key, value in measures_table.items():\n",
    "    Acc,_,_,_,_ = value\n",
    "    print (\"{:<18} | {:<11} |\".format(key,round(Acc*100,3)))\n",
    "header()"
   ]
  },
  {
   "cell_type": "code",
   "execution_count": null,
   "id": "6020ac60",
   "metadata": {},
   "outputs": [],
   "source": []
  }
 ],
 "metadata": {
  "kernelspec": {
   "display_name": "Python 3 (ipykernel)",
   "language": "python",
   "name": "python3"
  },
  "language_info": {
   "codemirror_mode": {
    "name": "ipython",
    "version": 3
   },
   "file_extension": ".py",
   "mimetype": "text/x-python",
   "name": "python",
   "nbconvert_exporter": "python",
   "pygments_lexer": "ipython3",
   "version": "3.7.5"
  }
 },
 "nbformat": 4,
 "nbformat_minor": 5
}
