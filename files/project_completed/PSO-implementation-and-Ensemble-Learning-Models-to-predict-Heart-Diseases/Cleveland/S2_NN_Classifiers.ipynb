{
 "cells": [
  {
   "cell_type": "markdown",
   "id": "2667377d",
   "metadata": {},
   "source": [
    "# Training Module for Neural Network Model"
   ]
  },
  {
   "cell_type": "markdown",
   "id": "0a79317e",
   "metadata": {},
   "source": [
    "# Import Libraries"
   ]
  },
  {
   "cell_type": "code",
   "execution_count": 1,
   "id": "64af0b02",
   "metadata": {},
   "outputs": [],
   "source": [
    "# Import essential libraries\n",
    "import os\n",
    "import json\n",
    "import csv\n",
    "import numpy as np\n",
    "import matplotlib.pyplot as plt\n",
    "from sklearn.preprocessing import LabelEncoder\n",
    "from keras.utils import np_utils\n",
    "\n",
    "from plib.data import get_data,minmax_norm,data_split\n",
    "from plib.feature_selection import out_features\n",
    "from plib.p_metric import main_perf_metrics_calc\n",
    "\n",
    "\n",
    "#NN\n",
    "from numpy import random, dot, tanh\n",
    "from ACSO_Ensemble import rider\n",
    "\n",
    "#DNFN & Keras modules and its important APIs\n",
    "import tensorflow as tf\n",
    "from keras.utils.vis_utils import plot_model\n",
    "import keras\n",
    "from tensorflow.keras.preprocessing.image import ImageDataGenerator\n",
    "from tensorflow.keras.regularizers import l2\n",
    "from tensorflow.keras.models import Model\n",
    "from tensorflow.keras.layers import Dense,Activation, Flatten,BatchNormalization\n",
    "from tensorflow.keras.layers import Conv2D, AveragePooling2D, Input\n",
    "from tensorflow.keras.models import Sequential\n",
    "from tensorflow.keras.optimizers import Adam as opti\n",
    "\n",
    "#from ACSO_Ensemble.FuzzyLayer import FuzzyLayer\n",
    "from ACSO_Ensemble.DefuzzyLayer import DefuzzyLayer\n",
    "\n"
   ]
  },
  {
   "cell_type": "markdown",
   "id": "f120cb47",
   "metadata": {},
   "source": [
    "# Read and Process Dataset"
   ]
  },
  {
   "cell_type": "code",
   "execution_count": 2,
   "id": "0190d4aa",
   "metadata": {},
   "outputs": [
    {
     "name": "stdout",
     "output_type": "stream",
     "text": [
      "Number of rows: 302;  Number of columns: 14; No of missing values 6\n",
      "Shape of X_train: (302, 13)\n",
      "Shape of y_train: (302,)\n"
     ]
    },
    {
     "data": {
      "text/html": [
       "<div>\n",
       "<style scoped>\n",
       "    .dataframe tbody tr th:only-of-type {\n",
       "        vertical-align: middle;\n",
       "    }\n",
       "\n",
       "    .dataframe tbody tr th {\n",
       "        vertical-align: top;\n",
       "    }\n",
       "\n",
       "    .dataframe thead th {\n",
       "        text-align: right;\n",
       "    }\n",
       "</style>\n",
       "<table border=\"1\" class=\"dataframe\">\n",
       "  <thead>\n",
       "    <tr style=\"text-align: right;\">\n",
       "      <th></th>\n",
       "      <th>63</th>\n",
       "      <th>1</th>\n",
       "      <th>1.1</th>\n",
       "      <th>145</th>\n",
       "      <th>233</th>\n",
       "      <th>1.2</th>\n",
       "      <th>2</th>\n",
       "      <th>150</th>\n",
       "      <th>0</th>\n",
       "      <th>2.3</th>\n",
       "      <th>3</th>\n",
       "      <th>0.2</th>\n",
       "    </tr>\n",
       "  </thead>\n",
       "  <tbody>\n",
       "    <tr>\n",
       "      <th>count</th>\n",
       "      <td>302.000000</td>\n",
       "      <td>302.000000</td>\n",
       "      <td>302.000000</td>\n",
       "      <td>302.000000</td>\n",
       "      <td>302.000000</td>\n",
       "      <td>302.000000</td>\n",
       "      <td>302.000000</td>\n",
       "      <td>302.000000</td>\n",
       "      <td>302.000000</td>\n",
       "      <td>302.000000</td>\n",
       "      <td>302.000000</td>\n",
       "      <td>302.000000</td>\n",
       "    </tr>\n",
       "    <tr>\n",
       "      <th>mean</th>\n",
       "      <td>54.410596</td>\n",
       "      <td>0.678808</td>\n",
       "      <td>3.165563</td>\n",
       "      <td>131.645695</td>\n",
       "      <td>246.738411</td>\n",
       "      <td>0.145695</td>\n",
       "      <td>0.986755</td>\n",
       "      <td>149.605960</td>\n",
       "      <td>0.327815</td>\n",
       "      <td>1.035430</td>\n",
       "      <td>1.596026</td>\n",
       "      <td>0.940397</td>\n",
       "    </tr>\n",
       "    <tr>\n",
       "      <th>std</th>\n",
       "      <td>9.040163</td>\n",
       "      <td>0.467709</td>\n",
       "      <td>0.953612</td>\n",
       "      <td>17.612202</td>\n",
       "      <td>51.856829</td>\n",
       "      <td>0.353386</td>\n",
       "      <td>0.994916</td>\n",
       "      <td>22.912959</td>\n",
       "      <td>0.470196</td>\n",
       "      <td>1.160723</td>\n",
       "      <td>0.611939</td>\n",
       "      <td>1.229384</td>\n",
       "    </tr>\n",
       "    <tr>\n",
       "      <th>min</th>\n",
       "      <td>29.000000</td>\n",
       "      <td>0.000000</td>\n",
       "      <td>1.000000</td>\n",
       "      <td>94.000000</td>\n",
       "      <td>126.000000</td>\n",
       "      <td>0.000000</td>\n",
       "      <td>0.000000</td>\n",
       "      <td>71.000000</td>\n",
       "      <td>0.000000</td>\n",
       "      <td>0.000000</td>\n",
       "      <td>1.000000</td>\n",
       "      <td>0.000000</td>\n",
       "    </tr>\n",
       "    <tr>\n",
       "      <th>25%</th>\n",
       "      <td>48.000000</td>\n",
       "      <td>0.000000</td>\n",
       "      <td>3.000000</td>\n",
       "      <td>120.000000</td>\n",
       "      <td>211.000000</td>\n",
       "      <td>0.000000</td>\n",
       "      <td>0.000000</td>\n",
       "      <td>133.250000</td>\n",
       "      <td>0.000000</td>\n",
       "      <td>0.000000</td>\n",
       "      <td>1.000000</td>\n",
       "      <td>0.000000</td>\n",
       "    </tr>\n",
       "    <tr>\n",
       "      <th>50%</th>\n",
       "      <td>55.500000</td>\n",
       "      <td>1.000000</td>\n",
       "      <td>3.000000</td>\n",
       "      <td>130.000000</td>\n",
       "      <td>241.500000</td>\n",
       "      <td>0.000000</td>\n",
       "      <td>0.500000</td>\n",
       "      <td>153.000000</td>\n",
       "      <td>0.000000</td>\n",
       "      <td>0.800000</td>\n",
       "      <td>2.000000</td>\n",
       "      <td>0.000000</td>\n",
       "    </tr>\n",
       "    <tr>\n",
       "      <th>75%</th>\n",
       "      <td>61.000000</td>\n",
       "      <td>1.000000</td>\n",
       "      <td>4.000000</td>\n",
       "      <td>140.000000</td>\n",
       "      <td>275.000000</td>\n",
       "      <td>0.000000</td>\n",
       "      <td>2.000000</td>\n",
       "      <td>166.000000</td>\n",
       "      <td>1.000000</td>\n",
       "      <td>1.600000</td>\n",
       "      <td>2.000000</td>\n",
       "      <td>2.000000</td>\n",
       "    </tr>\n",
       "    <tr>\n",
       "      <th>max</th>\n",
       "      <td>77.000000</td>\n",
       "      <td>1.000000</td>\n",
       "      <td>4.000000</td>\n",
       "      <td>200.000000</td>\n",
       "      <td>564.000000</td>\n",
       "      <td>1.000000</td>\n",
       "      <td>2.000000</td>\n",
       "      <td>202.000000</td>\n",
       "      <td>1.000000</td>\n",
       "      <td>6.200000</td>\n",
       "      <td>3.000000</td>\n",
       "      <td>4.000000</td>\n",
       "    </tr>\n",
       "  </tbody>\n",
       "</table>\n",
       "</div>"
      ],
      "text/plain": [
       "              63          1        1.1        145        233        1.2  \\\n",
       "count 302.000000 302.000000 302.000000 302.000000 302.000000 302.000000   \n",
       "mean   54.410596   0.678808   3.165563 131.645695 246.738411   0.145695   \n",
       "std     9.040163   0.467709   0.953612  17.612202  51.856829   0.353386   \n",
       "min    29.000000   0.000000   1.000000  94.000000 126.000000   0.000000   \n",
       "25%    48.000000   0.000000   3.000000 120.000000 211.000000   0.000000   \n",
       "50%    55.500000   1.000000   3.000000 130.000000 241.500000   0.000000   \n",
       "75%    61.000000   1.000000   4.000000 140.000000 275.000000   0.000000   \n",
       "max    77.000000   1.000000   4.000000 200.000000 564.000000   1.000000   \n",
       "\n",
       "               2        150          0        2.3          3        0.2  \n",
       "count 302.000000 302.000000 302.000000 302.000000 302.000000 302.000000  \n",
       "mean    0.986755 149.605960   0.327815   1.035430   1.596026   0.940397  \n",
       "std     0.994916  22.912959   0.470196   1.160723   0.611939   1.229384  \n",
       "min     0.000000  71.000000   0.000000   0.000000   1.000000   0.000000  \n",
       "25%     0.000000 133.250000   0.000000   0.000000   1.000000   0.000000  \n",
       "50%     0.500000 153.000000   0.000000   0.800000   2.000000   0.000000  \n",
       "75%     2.000000 166.000000   1.000000   1.600000   2.000000   2.000000  \n",
       "max     2.000000 202.000000   1.000000   6.200000   3.000000   4.000000  "
      ]
     },
     "execution_count": 2,
     "metadata": {},
     "output_type": "execute_result"
    }
   ],
   "source": [
    "X_train ,Y_train,train_df =get_data('./plib/dataset/Cleveland.csv')\n",
    "print(\"Shape of X_train:\", X_train.shape)\n",
    "print(\"Shape of y_train:\", Y_train.shape)\n",
    "train_df.describe()"
   ]
  },
  {
   "cell_type": "markdown",
   "id": "d7f9114f",
   "metadata": {},
   "source": [
    "# Data Normalization"
   ]
  },
  {
   "cell_type": "code",
   "execution_count": 3,
   "id": "63089031",
   "metadata": {},
   "outputs": [
    {
     "name": "stdout",
     "output_type": "stream",
     "text": [
      "Shape of X_train: (302, 13)\n",
      "Shape of y_train: (302,)\n",
      "Classes:  5\n"
     ]
    }
   ],
   "source": [
    "X_train=minmax_norm(X_train)\n",
    "print(\"Shape of X_train:\", X_train.shape)\n",
    "print(\"Shape of y_train:\", Y_train.shape)\n",
    "classes=len(np.unique(Y_train))\n",
    "print(\"Classes: \",classes)"
   ]
  },
  {
   "cell_type": "markdown",
   "id": "0b79365a",
   "metadata": {},
   "source": [
    "# Split Data for Train and Test"
   ]
  },
  {
   "cell_type": "code",
   "execution_count": 4,
   "id": "56a4f39d",
   "metadata": {},
   "outputs": [
    {
     "name": "stdout",
     "output_type": "stream",
     "text": [
      "Shape of X_train: (241, 13)\n",
      "Shape of y_train: (241,)\n",
      "Shape of X_test: (61, 13)\n",
      "Shape of y_test: (61,)\n"
     ]
    }
   ],
   "source": [
    "xtrain, xvalid, ytrain, yvalid,fold=data_split(X_train,Y_train,test_size=0.2)\n",
    "print(\"Shape of X_train:\", xtrain.shape)\n",
    "print(\"Shape of y_train:\", ytrain.shape)\n",
    "print(\"Shape of X_test:\", xvalid.shape)\n",
    "print(\"Shape of y_test:\", yvalid.shape)\n"
   ]
  },
  {
   "cell_type": "markdown",
   "id": "3bd898f1",
   "metadata": {},
   "source": [
    "# Feature Selection"
   ]
  },
  {
   "cell_type": "code",
   "execution_count": 5,
   "id": "04f62e71",
   "metadata": {},
   "outputs": [
    {
     "name": "stdout",
     "output_type": "stream",
     "text": [
      "Iteration: 1\n",
      "Best (PSO): 0.7575091046729733\n",
      "Iteration: 2\n",
      "Best (PSO): 0.7484338457520073\n",
      "Iteration: 3\n",
      "Best (PSO): 0.746342028347726\n",
      "Iteration: 4\n",
      "Best (PSO): 0.7456133072314338\n",
      "Iteration: 5\n",
      "Best (PSO): 0.7456133072314338\n",
      "Run Time --- 0.8224070072174072 seconds ---\n",
      "Number of Best Features:  5\n",
      "5 8\n",
      "Seleted Feature Composition:  (241, 8) (61, 8)\n",
      "You choosed worse features too.\n",
      "Shape of X_train: (241, 8)\n",
      "Shape of y_train: (241, 5)\n",
      "Shape of X_test: (61, 8)\n",
      "Shape of y_test: (61, 5)\n"
     ]
    }
   ],
   "source": [
    "opts = {'k':5, 'fold':fold, 'N':X_train.shape[0], 'T':7, 'w':0.7, 'c1':2, 'c2':2}\n",
    "x_train, x_test, y_train, y_test,b_feat= out_features(X_train,Y_train,opts,xtrain, xvalid, ytrain, yvalid)\n",
    "print (\"Number of Best Features: \",b_feat)\n",
    "\n",
    "sel_feat_ratio=60\n",
    "w=round(x_train.shape[1]*sel_feat_ratio/100)\n",
    "print(b_feat,w)\n",
    "if w > b_feat:\n",
    "    x_train=x_train[:,0:  w]\n",
    "    x_test=x_test[:,0:w]\n",
    "    print(\"Seleted Feature Composition: \",x_train.shape,x_test.shape)\n",
    "    print('You choosed worse features too.')\n",
    "else:\n",
    "    x_train=x_train[:,0:  w]\n",
    "    x_test=x_test[:,0:w]\n",
    "    print(\"Seleted Feature Composition: \",x_train.shape,x_test.shape)\n",
    "encoder = LabelEncoder()\n",
    "y_train=encoder.fit_transform(y_train.reshape(-1, 1))\n",
    "y_test=encoder.fit_transform(y_test.reshape(-1, 1))\n",
    "y_train = np_utils.to_categorical(y_train)\n",
    "y_test = np_utils.to_categorical(y_test)\n",
    "  \n",
    "print(\"Shape of X_train:\", x_train.shape)\n",
    "print(\"Shape of y_train:\", y_train.shape)\n",
    "print(\"Shape of X_test:\", x_test.shape)\n",
    "print(\"Shape of y_test:\", y_test.shape)"
   ]
  },
  {
   "cell_type": "markdown",
   "id": "a30eb1d1",
   "metadata": {},
   "source": [
    "# Defining Performance Evaluation Functions"
   ]
  },
  {
   "cell_type": "code",
   "execution_count": 6,
   "id": "9002eee7",
   "metadata": {},
   "outputs": [],
   "source": [
    "measures_table=dict()"
   ]
  },
  {
   "cell_type": "code",
   "execution_count": 7,
   "id": "7da30bb8",
   "metadata": {},
   "outputs": [
    {
     "name": "stdout",
     "output_type": "stream",
     "text": [
      "(241, 8) (241, 5)\n",
      "[[0.19057715 0.00568887 0.00568887 ... 0.00284444 0.01137774 0.45510962]\n",
      " [0.22578128 0.01010961 0.00673974 ... 0.00336987 0.01347948 0.40438438]\n",
      " [0.10873796 0.01175546 0.00881659 ... 0.00293886 0.00881659 0.38205231]\n",
      " ...\n",
      " [0.11673514 0.         0.00277941 ... 0.00277941 0.00555882 0.33352898]\n",
      " [0.13485821 0.         0.00328922 ... 0.00328922 0.00657845 0.3618147 ]\n",
      " [0.11045797 0.         0.0026941  ... 0.         0.00538819 0.33945621]]\n"
     ]
    }
   ],
   "source": [
    "len(x_train[0])\n",
    "print(x_train.shape,y_train.shape)\n",
    "print(x_train)"
   ]
  },
  {
   "cell_type": "markdown",
   "id": "432731cd",
   "metadata": {},
   "source": [
    "# DNFN"
   ]
  },
  {
   "cell_type": "code",
   "execution_count": 8,
   "id": "11806bbd",
   "metadata": {},
   "outputs": [
    {
     "name": "stdout",
     "output_type": "stream",
     "text": [
      "Model: \"sequential\"\n",
      "_________________________________________________________________\n",
      " Layer (type)                Output Shape              Param #   \n",
      "=================================================================\n",
      " dense (Dense)               (None, 64)                576       \n",
      "                                                                 \n",
      " dense_1 (Dense)             (None, 32)                2080      \n",
      "                                                                 \n",
      " dense_2 (Dense)             (None, 32)                1056      \n",
      "                                                                 \n",
      " dense_3 (Dense)             (None, 32)                1056      \n",
      "                                                                 \n",
      " dense_4 (Dense)             (None, 32)                1056      \n",
      "                                                                 \n",
      " dense_5 (Dense)             (None, 32)                1056      \n",
      "                                                                 \n",
      " dense_6 (Dense)             (None, 16)                528       \n",
      "                                                                 \n",
      " dense_7 (Dense)             (None, 5)                 85        \n",
      "                                                                 \n",
      "=================================================================\n",
      "Total params: 7,493\n",
      "Trainable params: 7,493\n",
      "Non-trainable params: 0\n",
      "_________________________________________________________________\n",
      "Epoch 1/10\n",
      "5/5 [==============================] - 0s 4ms/step - loss: 1.6081 - accuracy: 0.3610\n",
      "Epoch 2/10\n",
      "5/5 [==============================] - 0s 2ms/step - loss: 1.5947 - accuracy: 0.5560\n",
      "Epoch 3/10\n",
      "5/5 [==============================] - 0s 2ms/step - loss: 1.5774 - accuracy: 0.5560\n",
      "Epoch 4/10\n",
      "5/5 [==============================] - 0s 2ms/step - loss: 1.5513 - accuracy: 0.5560\n",
      "Epoch 5/10\n",
      "5/5 [==============================] - 0s 2ms/step - loss: 1.5076 - accuracy: 0.5560\n",
      "Epoch 6/10\n",
      "5/5 [==============================] - 0s 2ms/step - loss: 1.4543 - accuracy: 0.5560\n",
      "Epoch 7/10\n",
      "5/5 [==============================] - 0s 2ms/step - loss: 1.3786 - accuracy: 0.5560\n",
      "Epoch 8/10\n",
      "5/5 [==============================] - 0s 2ms/step - loss: 1.3102 - accuracy: 0.5560\n",
      "Epoch 9/10\n",
      "5/5 [==============================] - 0s 2ms/step - loss: 1.2904 - accuracy: 0.5560\n",
      "Epoch 10/10\n",
      "5/5 [==============================] - 0s 2ms/step - loss: 1.2870 - accuracy: 0.5560\n",
      "You must install pydot (`pip install pydot`) and install graphviz (see instructions at https://graphviz.gitlab.io/download/) for plot_model/model_to_dot to work.\n",
      "2/2 [==============================] - 0s 1ms/step\n",
      "2/2 [==============================] - 0s 0s/step - loss: 1.3992 - accuracy: 0.4754\n"
     ]
    },
    {
     "data": {
      "image/png": "[encoded data removed]",
      "text/plain": [
       "<Figure size 432x288 with 2 Axes>"
      ]
     },
     "metadata": {
      "needs_background": "light"
     },
     "output_type": "display_data"
    },
    {
     "name": "stdout",
     "output_type": "stream",
     "text": [
      "Accuracy, sensitivity, specificity, Precision, F1-score\n",
      "(0.5273264401772526, 0.47540983606557374, 0.5698924731182795, 0.47540983606557374, 0.47540983606557374)\n"
     ]
    }
   ],
   "source": [
    "#DNFN\n",
    "os.environ['TF_GPU_THREAD_MODE']='gpu_private'\n",
    "os.environ['TF_GPU_THREAD_COUNT']='1'\n",
    "os.environ['TF_ENABLE_ONEDNN_OPTS'] = '1'\n",
    "os.environ['TF_CPP_MIN_LOG_LEVEL'] = '2'\n",
    "\n",
    "model = tf.keras.models.Sequential()\n",
    "def classify(x_train, x_test, y_train):\n",
    "\n",
    "    model.add(Dense(64, input_dim=x_train.shape[1]))\n",
    "    model.add(Dense(32, activation='relu'))\n",
    "    model.add(Dense(32, activation='relu'))\n",
    "    model.add(Dense(32, activation='relu'))\n",
    "    model.add(Dense(32, activation='relu'))\n",
    "    model.add(Dense(32, activation='relu'))\n",
    "    model.add(Dense(16, activation='relu'))\n",
    "    model.add(Dense(classes,activation='softmax'))\n",
    "    model.compile(metrics=['accuracy'], optimizer=opti(), loss=tf.keras.losses.categorical_crossentropy)\n",
    "    model.summary()\n",
    "    model.fit(x_train, y_train, batch_size=50, epochs=10, verbose=1)\n",
    "    plot_model(model, to_file='model_DNFN1.jpg', show_shapes=True, dpi=400)\n",
    "    \n",
    "    return model\n",
    "\n",
    "y_pred=classify(x_train, x_test, y_train).predict(x_test)\n",
    "score=model.evaluate(x_test, y_test)\n",
    "measures =main_perf_metrics_calc(np.argmax(y_test,axis=1), np.argmax(y_pred,axis=1),classes)\n",
    "print(measures)\n",
    "measures_table['DNFN'] = measures"
   ]
  },
  {
   "cell_type": "code",
   "execution_count": 9,
   "id": "0560155c",
   "metadata": {},
   "outputs": [
    {
     "data": {
      "text/plain": [
       "array([0, 0, 0, 0, 0, 0, 0, 0, 0, 0, 0, 0, 0, 0, 0, 0, 0, 0, 0, 0, 0, 0,\n",
       "       0, 0, 0, 0, 0, 0, 0, 0, 0, 0, 0, 0, 0, 0, 0, 0, 0, 0, 0, 0, 0, 0,\n",
       "       0, 0, 0, 0, 0, 0, 0, 0, 0, 0, 0, 0, 0, 0, 0, 0, 0], dtype=int64)"
      ]
     },
     "execution_count": 9,
     "metadata": {},
     "output_type": "execute_result"
    }
   ],
   "source": [
    " np.argmax(y_pred,axis=1)"
   ]
  },
  {
   "cell_type": "code",
   "execution_count": 10,
   "id": "400ee4e3",
   "metadata": {},
   "outputs": [
    {
     "data": {
      "text/plain": [
       "array([0, 2, 0, 2, 2, 1, 3, 0, 0, 1, 0, 0, 0, 0, 0, 0, 0, 1, 0, 3, 0, 0,\n",
       "       4, 2, 2, 2, 1, 0, 1, 0, 2, 0, 1, 0, 0, 0, 1, 0, 2, 0, 3, 0, 2, 4,\n",
       "       2, 0, 0, 0, 1, 0, 2, 2, 1, 0, 3, 1, 1, 2, 3, 1, 0], dtype=int64)"
      ]
     },
     "execution_count": 10,
     "metadata": {},
     "output_type": "execute_result"
    }
   ],
   "source": [
    "np.argmax(y_test,axis=1)"
   ]
  },
  {
   "cell_type": "markdown",
   "id": "6372b178",
   "metadata": {},
   "source": [
    "# Neural Network"
   ]
  },
  {
   "cell_type": "code",
   "execution_count": null,
   "id": "9491fc27",
   "metadata": {},
   "outputs": [],
   "source": [
    "'''os.environ['TF_ENABLE_ONEDNN_OPTS'] = '1'\n",
    "class NeuralNetwork():\n",
    "\n",
    "    def __init__(self, dim):\n",
    "        # Using seed to make sure it'll\n",
    "        # generate same weights in every run\n",
    "        random.seed(1)\n",
    "\n",
    "        # 3x1 Weight matrix\n",
    "        self.weight_matrix = 2 * random.random((dim, 1)) - 1\n",
    "\n",
    "    # tanh as activation function\n",
    "    def tanh(self, x):\n",
    "        return tanh(x)\n",
    "\n",
    "        # derivative of tanh function.\n",
    "\n",
    "    # Needed to calculate the gradients.\n",
    "    def tanh_derivative(self, x):\n",
    "        return 1.0 - tanh(x) ** 2\n",
    "\n",
    "    # forward propagation\n",
    "    def forward_propagation(self, inputs):\n",
    "        return self.tanh(dot(inputs, self.weight_matrix)), random.uniform(0, 1, size=len(inputs))\n",
    "\n",
    "    # training the neural network.\n",
    "    def train(self, train_inputs, train_outputs,\n",
    "              num_train_iterations):\n",
    "        # Number of iterations we want to\n",
    "        # perform for this set of input.\n",
    "        for iteration in range(num_train_iterations):\n",
    "            output, x = self.forward_propagation(train_inputs)\n",
    "\n",
    "            # Calculate the error in the output.\n",
    "            error = train_outputs - output\n",
    "\n",
    "            # multiply the error by input and then\n",
    "            # by gradient of tanh funtion to calculate\n",
    "            # the adjustment needs to be made in weights\n",
    "            adjustment = dot(train_inputs.T, error *\n",
    "                             self.tanh_derivative(output))\n",
    "\n",
    "            # Adjust the weight matrix\n",
    "            self.weight_matrisx += adjustment * rider.Alg()\n",
    "\n",
    "\n",
    "def classify(x_train, x_test, y_train):\n",
    "    nc = 2\n",
    "    train_outputs = np.array([y_train]).T\n",
    "    neural_network = NeuralNetwork(len(x_train[0]))\n",
    "    neural_network.train(np.array(x_train), train_outputs, 10)\n",
    "\n",
    "    # Test the neural network with a new situation.\n",
    "    x, pred = neural_network.forward_propagation(x_test)\n",
    "\n",
    "    predict = []\n",
    "    for i in range(len(pred)):\n",
    "        predict.append(np.abs(np.round(pred[i])))\n",
    "    if len(np.unique(predict)) != nc:\n",
    "        for i in range(nc): predict[i]=i\n",
    "    return predict\n",
    "\n",
    "y_pred=classify(x_train, x_test, y_train)\n",
    "\n",
    "\n",
    "measures =main_perf_metrics_calc(y_test, y_pred)\n",
    "print(measures)\n",
    "measures_table['NN'] = measures'''\n"
   ]
  },
  {
   "cell_type": "markdown",
   "id": "912b5871",
   "metadata": {},
   "source": [
    "# Re-Write Neural Network"
   ]
  },
  {
   "cell_type": "code",
   "execution_count": 11,
   "id": "ecdf8010",
   "metadata": {},
   "outputs": [
    {
     "name": "stdout",
     "output_type": "stream",
     "text": [
      "Model: \"sequential_1\"\n",
      "_________________________________________________________________\n",
      " Layer (type)                Output Shape              Param #   \n",
      "=================================================================\n",
      " dense_8 (Dense)             (None, 241)               2169      \n",
      "                                                                 \n",
      " dense_9 (Dense)             (None, 5)                 1210      \n",
      "                                                                 \n",
      "=================================================================\n",
      "Total params: 3,379\n",
      "Trainable params: 3,379\n",
      "Non-trainable params: 0\n",
      "_________________________________________________________________\n",
      "Epoch 1/10\n",
      "5/5 [==============================] - 0s 4ms/step - loss: 1.5551 - accuracy: 0.4730\n",
      "Epoch 2/10\n",
      "5/5 [==============================] - 0s 3ms/step - loss: 1.4828 - accuracy: 0.5560\n",
      "Epoch 3/10\n",
      "5/5 [==============================] - 0s 2ms/step - loss: 1.4173 - accuracy: 0.5560\n",
      "Epoch 4/10\n",
      "5/5 [==============================] - 0s 2ms/step - loss: 1.3640 - accuracy: 0.5560\n",
      "Epoch 5/10\n",
      "5/5 [==============================] - 0s 2ms/step - loss: 1.3260 - accuracy: 0.5560\n",
      "Epoch 6/10\n",
      "5/5 [==============================] - 0s 2ms/step - loss: 1.2980 - accuracy: 0.5560\n",
      "Epoch 7/10\n",
      "5/5 [==============================] - 0s 2ms/step - loss: 1.2834 - accuracy: 0.5560\n",
      "Epoch 8/10\n",
      "5/5 [==============================] - 0s 1ms/step - loss: 1.2779 - accuracy: 0.5560\n",
      "Epoch 9/10\n",
      "5/5 [==============================] - 0s 2ms/step - loss: 1.2745 - accuracy: 0.5560\n",
      "Epoch 10/10\n",
      "5/5 [==============================] - 0s 2ms/step - loss: 1.2742 - accuracy: 0.5560\n",
      "You must install pydot (`pip install pydot`) and install graphviz (see instructions at https://graphviz.gitlab.io/download/) for plot_model/model_to_dot to work.\n",
      "2/2 [==============================] - 0s 2ms/step\n",
      "2/2 [==============================] - 0s 0s/step - loss: 1.4219 - accuracy: 0.4754\n"
     ]
    },
    {
     "data": {
      "image/png": "[encoded data removed]",
      "text/plain": [
       "<Figure size 432x288 with 2 Axes>"
      ]
     },
     "metadata": {
      "needs_background": "light"
     },
     "output_type": "display_data"
    },
    {
     "name": "stdout",
     "output_type": "stream",
     "text": [
      "Accuracy, sensitivity, specificity, Precision, F1-score\n",
      "(0.5273264401772526, 0.47540983606557374, 0.5698924731182795, 0.47540983606557374, 0.47540983606557374)\n"
     ]
    }
   ],
   "source": [
    "model = tf.keras.models.Sequential()\n",
    "def Neural_Network(x_train, x_test, y_train):\n",
    "\n",
    "    model.add(Dense(x_train.shape[0], input_dim=x_train.shape[1]))\n",
    "    #model.add(Dense(classes, activation='tanh'))\n",
    "    model.add(Dense(classes,activation='softmax'))\n",
    "    model.compile(metrics=['accuracy'], optimizer=opti(), loss=tf.keras.losses.categorical_crossentropy)\n",
    "    model.summary()\n",
    "    model.fit(x_train, y_train, batch_size=50, epochs=10, verbose=1)\n",
    "    plot_model(model, to_file='model_DNFN1.jpg', show_shapes=True, dpi=400)\n",
    "    \n",
    "    return model\n",
    "\n",
    "y_pred=Neural_Network(x_train, x_test, y_train).predict(x_test)\n",
    "score=model.evaluate(x_test, y_test)\n",
    "measures =main_perf_metrics_calc(np.argmax(y_test,axis=1), np.argmax(y_pred,axis=1),classes)\n",
    "print(measures)\n",
    "measures_table['NN'] = measures"
   ]
  },
  {
   "cell_type": "markdown",
   "id": "eb7d6c93",
   "metadata": {},
   "source": [
    "# Ride NN"
   ]
  },
  {
   "cell_type": "code",
   "execution_count": 12,
   "id": "2d686b44",
   "metadata": {},
   "outputs": [
    {
     "name": "stdout",
     "output_type": "stream",
     "text": [
      "Epoch 1/10\n",
      "5/5 [==============================] - 0s 2ms/step - loss: 0.2000 - accuracy: 0.8000\n",
      "Epoch 2/10\n",
      "5/5 [==============================] - 0s 3ms/step - loss: 0.2000 - accuracy: 0.8000\n",
      "Epoch 3/10\n",
      "5/5 [==============================] - 0s 2ms/step - loss: 0.2000 - accuracy: 0.8000\n",
      "Epoch 4/10\n",
      "5/5 [==============================] - 0s 2ms/step - loss: 0.2000 - accuracy: 0.8000\n",
      "Epoch 5/10\n",
      "5/5 [==============================] - 0s 2ms/step - loss: 0.2000 - accuracy: 0.8000\n",
      "Epoch 6/10\n",
      "5/5 [==============================] - 0s 2ms/step - loss: 0.2000 - accuracy: 0.8000\n",
      "Epoch 7/10\n",
      "5/5 [==============================] - 0s 2ms/step - loss: 0.2000 - accuracy: 0.8000\n",
      "Epoch 8/10\n",
      "5/5 [==============================] - 0s 2ms/step - loss: 0.2000 - accuracy: 0.8000\n",
      "Epoch 9/10\n",
      "5/5 [==============================] - 0s 2ms/step - loss: 0.2000 - accuracy: 0.8000\n",
      "Epoch 10/10\n",
      "5/5 [==============================] - 0s 2ms/step - loss: 0.2000 - accuracy: 0.8000\n",
      "2/2 [==============================] - 0s 0s/step\n"
     ]
    },
    {
     "data": {
      "image/png": "[encoded data removed]",
      "text/plain": [
       "<Figure size 432x288 with 2 Axes>"
      ]
     },
     "metadata": {
      "needs_background": "light"
     },
     "output_type": "display_data"
    },
    {
     "name": "stdout",
     "output_type": "stream",
     "text": [
      "Accuracy, sensitivity, specificity, Precision, F1-score\n",
      "(0.5273264401772526, 0.47540983606557374, 0.5698924731182795, 0.47540983606557374, 0.47540983606557374)\n"
     ]
    }
   ],
   "source": [
    "def classify(x_train, y_train, x_test, y_test):\n",
    "\n",
    "    # Setting Training Hyperparameters\n",
    "    batch_size = 128  # original ResNet paper uses batch_size = 128 for training\n",
    "    epochs = 10\n",
    "    data_augmentation = False\n",
    "    num_classes = 1#len(np.unique(y_train))\n",
    "\n",
    "    # Data Preprocessing\n",
    "    subtract_pixel_mean = True\n",
    "    n = 3\n",
    "\n",
    "    # Select ResNet Version\n",
    "    version = 1\n",
    "\n",
    "    # Computed depth of\n",
    "    if version == 1:\n",
    "        depth = n * 6 + 2\n",
    "    elif version == 2:\n",
    "        depth = n * 9 + 2\n",
    "\n",
    "    # Model name, depth and version\n",
    "    model_type = 'ResNet % dv % d' % (depth, version)\n",
    "\n",
    "    xt = len(x_train)\n",
    "    yt = len(x_test)\n",
    "\n",
    "    #x_train = np.resize(x_train, (xt, 32, 32, 3))\n",
    "    #x_test = np.resize(x_test, (yt, 32, 32, 3))\n",
    "    # Input image dimensions.\n",
    "    input_shape = x_train.shape[1]\n",
    "\n",
    "    #y_train = np.array(y_train)\n",
    "    #y_test = np.array(y_test)\n",
    "    #y_train = y_train.astype('int')\n",
    "    # Normalize data.\n",
    "    #x_train = x_train.astype('float32') / 255\n",
    "    #x_test = x_test.astype('float32') / 255\n",
    "    #y_test = y_test.astype('int')\n",
    "\n",
    "    # Convert class vectors to binary class matrices.\n",
    "    #y_train = tf.keras.utils.to_categorical(y_train, num_classes)\n",
    "    #y_test = tf.keras.utils.to_categorical(y_test, num_classes)\n",
    "\n",
    "    # Setting LR for different number of Epochs\n",
    "    def lr_schedule(epoch):\n",
    "        lr = 0.1\n",
    "        if epoch > 180:\n",
    "            lr *= 0.5e-3\n",
    "        elif epoch > 160:\n",
    "            lr *= 1e-3\n",
    "        elif epoch > 120:\n",
    "            lr *= 1e-2\n",
    "        elif epoch > 80:\n",
    "            lr *= 1e-1\n",
    "        return lr\n",
    "\n",
    "        \n",
    "\n",
    "    #\n",
    "    def resnet_v1(input_shape, depth, num_classes=num_classes):\n",
    "        if (depth - 2) % 6 != 0:\n",
    "            raise ValueError('depth should be 6n + 2 (eg 20, 32, 44 in [a])')\n",
    "        # Start model definition.\n",
    "        num_filters = 16\n",
    "        num_res_blocks = int((depth - 2) / 6)\n",
    "\n",
    "        inputs = Input(shape=input_shape)\n",
    "        x = inputs\n",
    "\n",
    "        # Instantiate the stack of residual units\n",
    "        for stack in range(3):\n",
    "            for res_block in range(num_res_blocks):\n",
    "                strides = 1\n",
    "                if stack > 0 and res_block == 0:  # first layer but not first stack\n",
    "                    strides = 2  # downsample\n",
    "                y = x\n",
    "                if stack > 0 and res_block == 0:  # first layer but not first stack\n",
    "                    # linear projection residual shortcut connection to match\n",
    "                    # changed dims\n",
    "                    x = y\n",
    "                x = keras.layers.add([x, y])\n",
    "                x = Activation('relu')(x)\n",
    "            num_filters *= 2\n",
    "\n",
    "        # Add classifier on top.\n",
    "        # v1 does not use BN after last shortcut connection-ReLU\n",
    "        #x = AveragePooling2D(pool_size=8)(x)\n",
    "        y = Flatten( )(x)\n",
    "        outputs = Dense(num_classes,\n",
    "                        activation='sigmoid',\n",
    "                        kernel_initializer='he_normal')(y)\n",
    "\n",
    "        # Instantiate model.\n",
    "        model = Model(inputs=inputs, outputs=outputs)\n",
    "        return model\n",
    "\n",
    "    # ResNet V2 architecture\n",
    "    def resnet_v2(input_shape, depth, num_classes=num_classes):\n",
    "        if (depth - 2) % 9 != 0:\n",
    "            raise ValueError('depth should be 9n + 2 (eg 56 or 110 in [b])')\n",
    "        # Start model definition.\n",
    "        num_filters_in = 16\n",
    "        num_res_blocks = int((depth - 2) / 9)\n",
    "\n",
    "        inputs = Input(shape=input_shape)\n",
    "        # v2 performs Conv2D with BN-ReLU on input before splitting into 2 paths\n",
    "        x = inputs\n",
    "        # Instantiate the stack of residual units\n",
    "        for stage in range(3):\n",
    "            for res_block in range(num_res_blocks):\n",
    "                activation = 'relu'\n",
    "                batch_normalization = True\n",
    "                strides = 1\n",
    "                if stage == 0:\n",
    "                    num_filters_out = num_filters_in * 4\n",
    "                    if res_block == 0:  # first layer and first stage\n",
    "                        activation = None\n",
    "                        batch_normalization = False\n",
    "                else:\n",
    "                    num_filters_out = num_filters_in * 2\n",
    "                    if res_block == 0:  # first layer but not first stage\n",
    "                        strides = 2  # downsample\n",
    "\n",
    "                # bottleneck residual unit\n",
    "                y = x\n",
    "                if res_block == 0:\n",
    "                    # linear projection residual shortcut connection to match\n",
    "                    # changed dims\n",
    "                    x =y\n",
    "                x = keras.layers.add([x, y])\n",
    "\n",
    "            num_filters_in = num_filters_out\n",
    "\n",
    "        # Add classifier on top.\n",
    "        # v2 has BN-ReLU before Pooling\n",
    "        x = BatchNormalization( )(x)\n",
    "        x = Activation('relu')(x)\n",
    "        x = AveragePooling2D(pool_size=8)(x)\n",
    "        y = Flatten( )(x)\n",
    "        outputs = Dense(classes,\n",
    "                        activation='softmax',\n",
    "                        kernel_initializer='he_normal')(y)\n",
    "\n",
    "        # Instantiate model.\n",
    "        model = Model(inputs=inputs, outputs=outputs)\n",
    "        return model\n",
    "\n",
    "    # Main function\n",
    "    if version == 2:\n",
    "        model = resnet_v2(input_shape=input_shape, depth=depth)\n",
    "    else:\n",
    "        model = resnet_v1(input_shape=input_shape, depth=depth)\n",
    "\n",
    "    model.compile(loss=tf.keras.losses.MSE,\n",
    "                  optimizer=opti(),\n",
    "                  metrics=['accuracy'])\n",
    "    model.fit(x_train, y_train, batch_size=50, epochs=10, verbose=1)\n",
    "    # Prediction.\n",
    "    pred = model.predict(x_test)\n",
    "    return pred\n",
    "y_pred=classify(x_train, y_train, x_test, y_test)\n",
    "\n",
    "measures =main_perf_metrics_calc(np.argmax(y_test,axis=1), np.argmax(y_pred,axis=1),classes)\n",
    "print(measures)\n",
    "measures_table['Ride NN'] = measures\n"
   ]
  },
  {
   "cell_type": "markdown",
   "id": "5f635ffe",
   "metadata": {},
   "source": [
    "# Showing All performance Measures for All Classifier in Table"
   ]
  },
  {
   "cell_type": "code",
   "execution_count": 13,
   "id": "04cf6c2c",
   "metadata": {},
   "outputs": [
    {
     "name": "stdout",
     "output_type": "stream",
     "text": [
      "------------------------------------------------------------------------------------------\n",
      "Classifier | Accuracy %  | Sensitivity | Specificity | Precision  | F1-Score  \n",
      "DNFN       | 52.733      | 0.475       | 0.57        | 0.475      | 0.475      \n",
      "NN         | 52.733      | 0.475       | 0.57        | 0.475      | 0.475      \n",
      "Ride NN    | 52.733      | 0.475       | 0.57        | 0.475      | 0.475      \n",
      "------------------------------------------------------------------------------------------\n"
     ]
    }
   ],
   "source": [
    "def header():\n",
    "    for x in range(90):\n",
    "        print ('-',end = '')\n",
    "    print('')\n",
    "    \n",
    "header()\n",
    "print (\"{:<10} | {:<11} | {:<11} | {:<11} | {:<10} | {:<10}\".format('Classifier','Accuracy %', 'Sensitivity', 'Specificity','Precision','F1-Score'))\n",
    " \n",
    "# print each data item.\n",
    "for key, value in measures_table.items():\n",
    "    Acc,Sen,Spec,Prec,F1 = value\n",
    "#    header()\n",
    "    if key == 'GradientBoosting':\n",
    "        key ='Gradient'\n",
    "    print (\"{:<10} | {:<11} | {:<11} | {:<11} | {:<10} | {:<10} \".format(key,round(Acc*100,3),round(Sen,3),round(Spec,3),round(Prec,3),round(F1,3)))\n",
    "header()"
   ]
  },
  {
   "cell_type": "markdown",
   "id": "22076cd0",
   "metadata": {},
   "source": [
    "# Saving Results to File"
   ]
  },
  {
   "cell_type": "code",
   "execution_count": 14,
   "id": "d5257f9b",
   "metadata": {},
   "outputs": [],
   "source": [
    "# Create Folder for Results if not exist\n",
    "if not os.path.exists('Results'):\n",
    "    os.makedirs('Results')"
   ]
  },
  {
   "cell_type": "code",
   "execution_count": 15,
   "id": "37841b6f",
   "metadata": {},
   "outputs": [],
   "source": [
    "#####################################################\n",
    "                ## Using Pickle\n",
    "################################################        \n",
    "#import pickle\n",
    "# Open a file and use dump()\n",
    "#with open('results/NN.pkl', 'wb') as file:\n",
    "    # A new file will be created\n",
    "#    pickle.dump(measures_table, file)    "
   ]
  },
  {
   "cell_type": "code",
   "execution_count": 16,
   "id": "148ff18c",
   "metadata": {},
   "outputs": [],
   "source": [
    "#####################################################\n",
    "                ## Using CSV\n",
    "################################################\n",
    "# import csv\n",
    "#w = csv.writer(open(\"Results/NN.csv\", \"wb\"))\n",
    "\n",
    "# loop over dictionary keys and values\n",
    "#for key, val in measures_table.items():\n",
    "#    print(key,val)\n",
    "    # write every key and value to file\n",
    "#    w.writerow([key, val])"
   ]
  },
  {
   "cell_type": "code",
   "execution_count": 17,
   "id": "2f2948fa",
   "metadata": {},
   "outputs": [],
   "source": [
    "#####################################################\n",
    "                ## Using JSON\n",
    "################################################\n",
    "# load json module\n",
    "# python dictionary with key value pairs\n",
    "\n",
    "# create json object from dictionary\n",
    "json = json.dumps(measures_table)\n",
    "\n",
    "# open file for writing, \"w\" \n",
    "f = open(\"Results/NN.json\",\"w\")\n",
    "\n",
    "# write json object to file\n",
    "f.write(json)\n",
    "\n",
    "# close file\n",
    "f.close()"
   ]
  },
  {
   "cell_type": "code",
   "execution_count": null,
   "id": "d6ecbeb3",
   "metadata": {},
   "outputs": [],
   "source": []
  }
 ],
 "metadata": {
  "kernelspec": {
   "display_name": "Python 3 (ipykernel)",
   "language": "python",
   "name": "python3"
  },
  "language_info": {
   "codemirror_mode": {
    "name": "ipython",
    "version": 3
   },
   "file_extension": ".py",
   "mimetype": "text/x-python",
   "name": "python",
   "nbconvert_exporter": "python",
   "pygments_lexer": "ipython3",
   "version": "3.7.5"
  }
 },
 "nbformat": 4,
 "nbformat_minor": 5
}
