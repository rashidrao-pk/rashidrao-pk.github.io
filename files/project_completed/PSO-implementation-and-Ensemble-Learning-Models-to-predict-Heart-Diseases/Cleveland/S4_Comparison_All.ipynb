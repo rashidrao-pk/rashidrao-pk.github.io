{
 "cells": [
  {
   "cell_type": "markdown",
   "id": "ce6b0ba8",
   "metadata": {},
   "source": [
    "# Compare All Results"
   ]
  },
  {
   "cell_type": "code",
   "execution_count": 1,
   "id": "d92113a2",
   "metadata": {},
   "outputs": [],
   "source": [
    "import json"
   ]
  },
  {
   "cell_type": "markdown",
   "id": "66c6aae6",
   "metadata": {},
   "source": [
    "# Loading results for ML Classifiers"
   ]
  },
  {
   "cell_type": "code",
   "execution_count": 2,
   "id": "526432e6",
   "metadata": {},
   "outputs": [
    {
     "name": "stdout",
     "output_type": "stream",
     "text": [
      "Reading ML JSON file\n",
      "Starting to convert json decoding\n",
      "Decoded JSON Data From File\n",
      "Done reading json file\n"
     ]
    },
    {
     "data": {
      "text/plain": [
       "' for key, value in ML_Results.items():\\n        print(key, \":\", value)'"
      ]
     },
     "execution_count": 2,
     "metadata": {},
     "output_type": "execute_result"
    }
   ],
   "source": [
    "print(\"Reading ML JSON file\")\n",
    "with open(\"Results/ML.json\", \"r\") as read_file:\n",
    "    print(\"Starting to convert json decoding\")\n",
    "    ML_Results = json.load(read_file)\n",
    "\n",
    "    print(\"Decoded JSON Data From File\")\n",
    "    print(\"Done reading json file\")\n",
    "''' for key, value in ML_Results.items():\n",
    "        print(key, \":\", value)'''\n",
    "    "
   ]
  },
  {
   "cell_type": "markdown",
   "id": "1aa49137",
   "metadata": {},
   "source": [
    "# Loading Results for NN Classifiers"
   ]
  },
  {
   "cell_type": "code",
   "execution_count": 3,
   "id": "588fb874",
   "metadata": {},
   "outputs": [
    {
     "name": "stdout",
     "output_type": "stream",
     "text": [
      "Reading NN JSON file\n",
      "Starting to convert json decoding\n",
      "Decoded JSON Data From File\n",
      "DNFN : [0.5273264401772526, 0.47540983606557374, 0.5698924731182795, 0.47540983606557374, 0.47540983606557374]\n",
      "NN : [0.5273264401772526, 0.47540983606557374, 0.5698924731182795, 0.47540983606557374, 0.47540983606557374]\n",
      "Ride NN : [0.5273264401772526, 0.47540983606557374, 0.5698924731182795, 0.47540983606557374, 0.47540983606557374]\n",
      "Done reading json file\n"
     ]
    }
   ],
   "source": [
    "print(\"Reading NN JSON file\")\n",
    "with open(\"Results/NN.json\", \"r\") as read_file:\n",
    "    print(\"Starting to convert json decoding\")\n",
    "    NN_Results = json.load(read_file)\n",
    "\n",
    "    print(\"Decoded JSON Data From File\")\n",
    "    for key, value in NN_Results.items():\n",
    "        print(key, \":\", value)\n",
    "    print(\"Done reading json file\")\n"
   ]
  },
  {
   "cell_type": "markdown",
   "id": "6544ddbf",
   "metadata": {},
   "source": [
    "# Loading Results for Proposed Classifier"
   ]
  },
  {
   "cell_type": "code",
   "execution_count": 4,
   "id": "16f9ebce",
   "metadata": {},
   "outputs": [
    {
     "name": "stdout",
     "output_type": "stream",
     "text": [
      "Reading Ensemble_Training JSON file\n",
      "Starting to convert json decoding\n",
      "Decoded JSON Data From File\n",
      "Ensemble_Train : [0.5515695067264573, 0.5081967213114754, 0.5879120879120879, 0.5081967213114754, 0.5081967213114754]\n",
      "Done reading json file\n"
     ]
    }
   ],
   "source": [
    "print(\"Reading Ensemble_Training JSON file\")\n",
    "with open(\"Results/Proposed_Training.json\", \"r\") as read_file:\n",
    "    print(\"Starting to convert json decoding\")\n",
    "    Ensemble_Train_Results = json.load(read_file)\n",
    "\n",
    "    print(\"Decoded JSON Data From File\")\n",
    "    for key, value in Ensemble_Train_Results.items():\n",
    "        print(key, \":\", value)\n",
    "    print(\"Done reading json file\")\n",
    "Ensemble_Train_Results.update()"
   ]
  },
  {
   "cell_type": "code",
   "execution_count": 6,
   "id": "e7b9c2fd",
   "metadata": {},
   "outputs": [
    {
     "name": "stdout",
     "output_type": "stream",
     "text": [
      "------------------------------------------------------------------------------------------\n",
      "Classifier         | Accuracy %  | Sensitivity | Specificity | Precision  | F1-Score  \n",
      "Bagging            | 56.391      | 0.525       | 0.597       | 0.525      | 0.525      \n",
      "GradientBoosting   | 55.157      | 0.508       | 0.588       | 0.508      | 0.508      \n",
      "stacking           | 56.391      | 0.525       | 0.597       | 0.525      | 0.525      \n",
      "Voting             | 56.391      | 0.525       | 0.597       | 0.525      | 0.525      \n",
      "WAE                | 57.64       | 0.541       | 0.607       | 0.541      | 0.541      \n",
      "DNFN               | 52.733      | 0.475       | 0.57        | 0.475      | 0.475      \n",
      "NN                 | 52.733      | 0.475       | 0.57        | 0.475      | 0.475      \n",
      "Ride NN            | 52.733      | 0.475       | 0.57        | 0.475      | 0.475      \n",
      "Ensemble_Train     | 55.157      | 0.508       | 0.588       | 0.508      | 0.508      \n",
      "------------------------------------------------------------------------------------------\n"
     ]
    }
   ],
   "source": [
    "def Add(x, y):\n",
    "    z = x.copy()   \n",
    "    z.update(y)   \n",
    "    return z\n",
    "measures_table=Add(ML_Results,NN_Results)\n",
    "measures_table=Add(measures_table,Ensemble_Train_Results)\n",
    "def header():\n",
    "    for x in range(90):\n",
    "        print ('-',end = '')\n",
    "    print('')\n",
    "    \n",
    "header()\n",
    "print (\"{:<18} | {:<11} | {:<11} | {:<11} | {:<10} | {:<10}\".format('Classifier','Accuracy %', 'Sensitivity', 'Specificity','Precision','F1-Score'))\n",
    " \n",
    "# print each data item.\n",
    "for key, value in measures_table.items():\n",
    "    Acc,Sen,Spec,Prec,F1 = value\n",
    "    print (\"{:<18} | {:<11} | {:<11} | {:<11} | {:<10} | {:<10} \".format(key,round(Acc*100,3),round(Sen,3),round(Spec,3),round(Prec,3),round(F1,3)))\n",
    "header()"
   ]
  },
  {
   "cell_type": "code",
   "execution_count": null,
   "id": "6020ac60",
   "metadata": {},
   "outputs": [],
   "source": []
  }
 ],
 "metadata": {
  "kernelspec": {
   "display_name": "Python 3",
   "language": "python",
   "name": "python3"
  },
  "language_info": {
   "codemirror_mode": {
    "name": "ipython",
    "version": 3
   },
   "file_extension": ".py",
   "mimetype": "text/x-python",
   "name": "python",
   "nbconvert_exporter": "python",
   "pygments_lexer": "ipython3",
   "version": "3.6.5"
  }
 },
 "nbformat": 4,
 "nbformat_minor": 5
}
