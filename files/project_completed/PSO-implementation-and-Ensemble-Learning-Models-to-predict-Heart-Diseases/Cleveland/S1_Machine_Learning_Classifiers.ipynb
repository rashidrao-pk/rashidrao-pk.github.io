{
 "cells": [
  {
   "cell_type": "markdown",
   "id": "fdd08907",
   "metadata": {},
   "source": [
    "# Training Module for Machine Learning Classifiers (Ensembled)"
   ]
  },
  {
   "cell_type": "markdown",
   "id": "d32d9759",
   "metadata": {},
   "source": [
    "# Import Libraries"
   ]
  },
  {
   "cell_type": "code",
   "execution_count": 1,
   "id": "a9d362c0",
   "metadata": {},
   "outputs": [],
   "source": [
    "# Import essential libraries\n",
    "import os\n",
    "import json\n",
    "import csv\n",
    "import math\n",
    "import numpy as np\n",
    "import matplotlib.pyplot as plt\n",
    "from sklearn.preprocessing import StandardScaler\n",
    "from plib.data import get_data,minmax_norm,data_split\n",
    "from plib.feature_selection import out_features\n",
    "from plib.p_metric import main_perf_metrics_calc\n",
    "from sklearn.metrics import accuracy_score\n",
    "#BaggingClassifier\n",
    "from sklearn.ensemble import BaggingClassifier\n",
    "#GradientBoostingClassifier\n",
    "from sklearn.ensemble import GradientBoostingClassifier\n",
    "#stacking & Voting Classifiers\n",
    "from sklearn.ensemble import StackingClassifier, RandomForestClassifier,VotingClassifier  # import ensemble classifier\n",
    "from sklearn.pipeline import make_pipeline\n",
    "from sklearn.svm import LinearSVC\n",
    "#WAE\n",
    "# evaluate a weighted average ensemble for classification\n",
    "from sklearn.linear_model import LogisticRegression\n",
    "from sklearn.tree import DecisionTreeClassifier\n",
    "from sklearn.naive_bayes import GaussianNB"
   ]
  },
  {
   "cell_type": "markdown",
   "id": "f5dc91ba",
   "metadata": {},
   "source": [
    "# Read and Process Dataset"
   ]
  },
  {
   "cell_type": "code",
   "execution_count": 2,
   "id": "0190d4aa",
   "metadata": {},
   "outputs": [
    {
     "name": "stdout",
     "output_type": "stream",
     "text": [
      "Number of rows: 302;  Number of columns: 14; No of missing values 6\n",
      "Shape of X_train: (302, 13)\n",
      "Shape of y_train: (302,)\n"
     ]
    },
    {
     "data": {
      "text/html": [
       "<div>\n",
       "<style scoped>\n",
       "    .dataframe tbody tr th:only-of-type {\n",
       "        vertical-align: middle;\n",
       "    }\n",
       "\n",
       "    .dataframe tbody tr th {\n",
       "        vertical-align: top;\n",
       "    }\n",
       "\n",
       "    .dataframe thead th {\n",
       "        text-align: right;\n",
       "    }\n",
       "</style>\n",
       "<table border=\"1\" class=\"dataframe\">\n",
       "  <thead>\n",
       "    <tr style=\"text-align: right;\">\n",
       "      <th></th>\n",
       "      <th>63</th>\n",
       "      <th>1</th>\n",
       "      <th>1.1</th>\n",
       "      <th>145</th>\n",
       "      <th>233</th>\n",
       "      <th>1.2</th>\n",
       "      <th>2</th>\n",
       "      <th>150</th>\n",
       "      <th>0</th>\n",
       "      <th>2.3</th>\n",
       "      <th>3</th>\n",
       "      <th>0.2</th>\n",
       "    </tr>\n",
       "  </thead>\n",
       "  <tbody>\n",
       "    <tr>\n",
       "      <th>count</th>\n",
       "      <td>302.000000</td>\n",
       "      <td>302.000000</td>\n",
       "      <td>302.000000</td>\n",
       "      <td>302.000000</td>\n",
       "      <td>302.000000</td>\n",
       "      <td>302.000000</td>\n",
       "      <td>302.000000</td>\n",
       "      <td>302.000000</td>\n",
       "      <td>302.000000</td>\n",
       "      <td>302.000000</td>\n",
       "      <td>302.000000</td>\n",
       "      <td>302.000000</td>\n",
       "    </tr>\n",
       "    <tr>\n",
       "      <th>mean</th>\n",
       "      <td>54.410596</td>\n",
       "      <td>0.678808</td>\n",
       "      <td>3.165563</td>\n",
       "      <td>131.645695</td>\n",
       "      <td>246.738411</td>\n",
       "      <td>0.145695</td>\n",
       "      <td>0.986755</td>\n",
       "      <td>149.605960</td>\n",
       "      <td>0.327815</td>\n",
       "      <td>1.035430</td>\n",
       "      <td>1.596026</td>\n",
       "      <td>0.940397</td>\n",
       "    </tr>\n",
       "    <tr>\n",
       "      <th>std</th>\n",
       "      <td>9.040163</td>\n",
       "      <td>0.467709</td>\n",
       "      <td>0.953612</td>\n",
       "      <td>17.612202</td>\n",
       "      <td>51.856829</td>\n",
       "      <td>0.353386</td>\n",
       "      <td>0.994916</td>\n",
       "      <td>22.912959</td>\n",
       "      <td>0.470196</td>\n",
       "      <td>1.160723</td>\n",
       "      <td>0.611939</td>\n",
       "      <td>1.229384</td>\n",
       "    </tr>\n",
       "    <tr>\n",
       "      <th>min</th>\n",
       "      <td>29.000000</td>\n",
       "      <td>0.000000</td>\n",
       "      <td>1.000000</td>\n",
       "      <td>94.000000</td>\n",
       "      <td>126.000000</td>\n",
       "      <td>0.000000</td>\n",
       "      <td>0.000000</td>\n",
       "      <td>71.000000</td>\n",
       "      <td>0.000000</td>\n",
       "      <td>0.000000</td>\n",
       "      <td>1.000000</td>\n",
       "      <td>0.000000</td>\n",
       "    </tr>\n",
       "    <tr>\n",
       "      <th>25%</th>\n",
       "      <td>48.000000</td>\n",
       "      <td>0.000000</td>\n",
       "      <td>3.000000</td>\n",
       "      <td>120.000000</td>\n",
       "      <td>211.000000</td>\n",
       "      <td>0.000000</td>\n",
       "      <td>0.000000</td>\n",
       "      <td>133.250000</td>\n",
       "      <td>0.000000</td>\n",
       "      <td>0.000000</td>\n",
       "      <td>1.000000</td>\n",
       "      <td>0.000000</td>\n",
       "    </tr>\n",
       "    <tr>\n",
       "      <th>50%</th>\n",
       "      <td>55.500000</td>\n",
       "      <td>1.000000</td>\n",
       "      <td>3.000000</td>\n",
       "      <td>130.000000</td>\n",
       "      <td>241.500000</td>\n",
       "      <td>0.000000</td>\n",
       "      <td>0.500000</td>\n",
       "      <td>153.000000</td>\n",
       "      <td>0.000000</td>\n",
       "      <td>0.800000</td>\n",
       "      <td>2.000000</td>\n",
       "      <td>0.000000</td>\n",
       "    </tr>\n",
       "    <tr>\n",
       "      <th>75%</th>\n",
       "      <td>61.000000</td>\n",
       "      <td>1.000000</td>\n",
       "      <td>4.000000</td>\n",
       "      <td>140.000000</td>\n",
       "      <td>275.000000</td>\n",
       "      <td>0.000000</td>\n",
       "      <td>2.000000</td>\n",
       "      <td>166.000000</td>\n",
       "      <td>1.000000</td>\n",
       "      <td>1.600000</td>\n",
       "      <td>2.000000</td>\n",
       "      <td>2.000000</td>\n",
       "    </tr>\n",
       "    <tr>\n",
       "      <th>max</th>\n",
       "      <td>77.000000</td>\n",
       "      <td>1.000000</td>\n",
       "      <td>4.000000</td>\n",
       "      <td>200.000000</td>\n",
       "      <td>564.000000</td>\n",
       "      <td>1.000000</td>\n",
       "      <td>2.000000</td>\n",
       "      <td>202.000000</td>\n",
       "      <td>1.000000</td>\n",
       "      <td>6.200000</td>\n",
       "      <td>3.000000</td>\n",
       "      <td>4.000000</td>\n",
       "    </tr>\n",
       "  </tbody>\n",
       "</table>\n",
       "</div>"
      ],
      "text/plain": [
       "              63          1        1.1        145        233        1.2  \\\n",
       "count 302.000000 302.000000 302.000000 302.000000 302.000000 302.000000   \n",
       "mean   54.410596   0.678808   3.165563 131.645695 246.738411   0.145695   \n",
       "std     9.040163   0.467709   0.953612  17.612202  51.856829   0.353386   \n",
       "min    29.000000   0.000000   1.000000  94.000000 126.000000   0.000000   \n",
       "25%    48.000000   0.000000   3.000000 120.000000 211.000000   0.000000   \n",
       "50%    55.500000   1.000000   3.000000 130.000000 241.500000   0.000000   \n",
       "75%    61.000000   1.000000   4.000000 140.000000 275.000000   0.000000   \n",
       "max    77.000000   1.000000   4.000000 200.000000 564.000000   1.000000   \n",
       "\n",
       "               2        150          0        2.3          3        0.2  \n",
       "count 302.000000 302.000000 302.000000 302.000000 302.000000 302.000000  \n",
       "mean    0.986755 149.605960   0.327815   1.035430   1.596026   0.940397  \n",
       "std     0.994916  22.912959   0.470196   1.160723   0.611939   1.229384  \n",
       "min     0.000000  71.000000   0.000000   0.000000   1.000000   0.000000  \n",
       "25%     0.000000 133.250000   0.000000   0.000000   1.000000   0.000000  \n",
       "50%     0.500000 153.000000   0.000000   0.800000   2.000000   0.000000  \n",
       "75%     2.000000 166.000000   1.000000   1.600000   2.000000   2.000000  \n",
       "max     2.000000 202.000000   1.000000   6.200000   3.000000   4.000000  "
      ]
     },
     "execution_count": 2,
     "metadata": {},
     "output_type": "execute_result"
    }
   ],
   "source": [
    "X_train ,Y_train,train_df =get_data('./plib/dataset/Cleveland.csv')\n",
    "print(\"Shape of X_train:\", X_train.shape)\n",
    "print(\"Shape of y_train:\", Y_train.shape)\n",
    "train_df.describe()"
   ]
  },
  {
   "cell_type": "markdown",
   "id": "d350df62",
   "metadata": {},
   "source": [
    "# Data Normalization"
   ]
  },
  {
   "cell_type": "code",
   "execution_count": 3,
   "id": "3892d135",
   "metadata": {},
   "outputs": [
    {
     "name": "stdout",
     "output_type": "stream",
     "text": [
      "Shape of X_train: (302, 13)\n",
      "Shape of y_train: (302,)\n",
      "Classes:  5\n"
     ]
    }
   ],
   "source": [
    "X_train=minmax_norm(X_train)\n",
    "print(\"Shape of X_train:\", X_train.shape)\n",
    "print(\"Shape of y_train:\", Y_train.shape)\n",
    "classes=len(np.unique(Y_train))\n",
    "print(\"Classes: \",classes)"
   ]
  },
  {
   "cell_type": "markdown",
   "id": "54ecbc83",
   "metadata": {},
   "source": [
    "# Split Data for Train and Test"
   ]
  },
  {
   "cell_type": "code",
   "execution_count": 4,
   "id": "56a4f39d",
   "metadata": {},
   "outputs": [
    {
     "name": "stdout",
     "output_type": "stream",
     "text": [
      "Shape of X_train: (241, 13)\n",
      "Shape of y_train: (241,)\n",
      "Shape of X_test: (61, 13)\n",
      "Shape of y_test: (61,)\n"
     ]
    }
   ],
   "source": [
    "xtrain, xvalid, ytrain, yvalid,fold=data_split(X_train,Y_train,test_size=0.2)\n",
    "print(\"Shape of X_train:\", xtrain.shape)\n",
    "print(\"Shape of y_train:\", ytrain.shape)\n",
    "print(\"Shape of X_test:\", xvalid.shape)\n",
    "print(\"Shape of y_test:\", yvalid.shape)\n"
   ]
  },
  {
   "cell_type": "markdown",
   "id": "7f9e7732",
   "metadata": {},
   "source": [
    "# Feature Selection"
   ]
  },
  {
   "cell_type": "code",
   "execution_count": 5,
   "id": "2efd316f",
   "metadata": {},
   "outputs": [
    {
     "name": "stdout",
     "output_type": "stream",
     "text": [
      "Iteration: 1\n",
      "Best (PSO): 0.7575091046729733\n",
      "Iteration: 2\n",
      "Best (PSO): 0.7479594676189195\n",
      "Iteration: 3\n",
      "Best (PSO): 0.7479594676189195\n",
      "Run Time --- 0.5230340957641602 seconds ---\n",
      "Number of Best Features:  6\n",
      "6 8\n",
      "Seleted Feature Composition:  (241, 8) (61, 8)\n",
      "You choosed worse features too.\n",
      "Shape of X_train: (241, 8)\n",
      "Shape of y_train: (241,)\n",
      "Shape of X_test: (61, 8)\n",
      "Shape of y_test: (61,)\n"
     ]
    }
   ],
   "source": [
    "opts = {'k':5, 'fold':fold, 'N':X_train.shape[0], 'T':7, 'w':0.7, 'c1':2, 'c2':2}\n",
    "x_train, x_test, y_train, y_test,b_feat= out_features(X_train,Y_train,opts,xtrain, xvalid, ytrain, yvalid)\n",
    "print (\"Number of Best Features: \",b_feat)\n",
    "\n",
    "sel_feat_ratio=60\n",
    "w=round(x_train.shape[1]*sel_feat_ratio/100)\n",
    "print(b_feat,w)\n",
    "if w > b_feat:\n",
    "    x_train=x_train[:,0:  w]\n",
    "    x_test=x_test[:,0:w]\n",
    "    print(\"Seleted Feature Composition: \",x_train.shape,x_test.shape)\n",
    "    print('You choosed worse features too.')\n",
    "else:\n",
    "    x_train=x_train[:,0:  w]\n",
    "    x_test=x_test[:,0:w]\n",
    "    print(\"Seleted Feature Composition: \",x_train.shape,x_test.shape)\n",
    "    \n",
    "print(\"Shape of X_train:\", x_train.shape)\n",
    "print(\"Shape of y_train:\", y_train.shape)\n",
    "print(\"Shape of X_test:\", x_test.shape)\n",
    "print(\"Shape of y_test:\", y_test.shape)"
   ]
  },
  {
   "cell_type": "markdown",
   "id": "ad9d19f9",
   "metadata": {},
   "source": [
    "# Defining Performance Evaluation Functions"
   ]
  },
  {
   "cell_type": "code",
   "execution_count": 6,
   "id": "8179b094",
   "metadata": {},
   "outputs": [],
   "source": [
    "## Creating Dictionaries to Store Results\n",
    "accuracy_table = dict()\n",
    "sensitivity_table = dict()\n",
    "specificity_table= dict()\n",
    "Precision_table= dict()\n",
    "F1Score_table= dict()\n",
    "measures_table=dict()"
   ]
  },
  {
   "cell_type": "markdown",
   "id": "ce6b124a",
   "metadata": {},
   "source": [
    "# BaggingClassifier"
   ]
  },
  {
   "cell_type": "code",
   "execution_count": 7,
   "id": "f0f220a7",
   "metadata": {},
   "outputs": [
    {
     "name": "stdout",
     "output_type": "stream",
     "text": [
      "Performanc Measures --> BaggingClassifier\n",
      "[0. 0. 0. 0. 0. 1. 0. 0. 0. 1. 1. 0. 0. 0. 4. 0. 0. 0. 0. 0. 0. 0. 3. 2.\n",
      " 1. 0. 1. 0. 2. 0. 2. 1. 0. 0. 0. 0. 0. 0. 2. 0. 2. 0. 0. 3. 3. 0. 0. 0.\n",
      " 0. 0. 3. 1. 0. 0. 1. 0. 0. 4. 2. 0. 0.]\n"
     ]
    },
    {
     "data": {
      "image/png": "[encoded data removed]",
      "text/plain": [
       "<Figure size 432x288 with 2 Axes>"
      ]
     },
     "metadata": {
      "needs_background": "light"
     },
     "output_type": "display_data"
    },
    {
     "name": "stdout",
     "output_type": "stream",
     "text": [
      "Accuracy, sensitivity, specificity, Precision, F1-score\n",
      "(0.5639097744360902, 0.5245901639344263, 0.5972222222222222, 0.5245901639344263, 0.5245901639344263)\n"
     ]
    }
   ],
   "source": [
    "#BaggingClassifier\n",
    "estimator = BaggingClassifier()\n",
    "estimator.fit(x_train, y_train)\n",
    "y_pred = estimator.predict(x_test)\n",
    "ac_s = accuracy_score(y_test, y_pred)\n",
    "\n",
    "print('Performanc Measures --> BaggingClassifier')\n",
    "print(y_pred)\n",
    "measures =main_perf_metrics_calc(y_test, y_pred.round(),classes)\n",
    "print(measures)\n",
    "measures_table['Bagging'] = measures\n",
    "\n",
    "## Accuracy, sensitivity, specificity, Precision, Recall, F1-score\n",
    "accuracy_table['Bagging'] = round(measures[0] *100,2)\n",
    "sensitivity_table['Bagging'] = measures[1]\n",
    "specificity_table['Bagging'] = measures[2]\n",
    "Precision_table['Bagging'] = measures[3]\n",
    "F1Score_table['Bagging'] = measures[4]"
   ]
  },
  {
   "cell_type": "markdown",
   "id": "f1cd0e79",
   "metadata": {},
   "source": [
    "# GradientBoostingClassifier"
   ]
  },
  {
   "cell_type": "code",
   "execution_count": 8,
   "id": "97d5bea9",
   "metadata": {},
   "outputs": [
    {
     "name": "stdout",
     "output_type": "stream",
     "text": [
      "Performanc Measures --> GradientBoostingClassifier\n"
     ]
    },
    {
     "data": {
      "image/png": "[encoded data removed]",
      "text/plain": [
       "<Figure size 432x288 with 2 Axes>"
      ]
     },
     "metadata": {
      "needs_background": "light"
     },
     "output_type": "display_data"
    },
    {
     "name": "stdout",
     "output_type": "stream",
     "text": [
      "Accuracy, sensitivity, specificity, Precision, F1-score\n",
      "(0.5515695067264573, 0.5081967213114754, 0.5879120879120879, 0.5081967213114754, 0.5081967213114754)\n"
     ]
    }
   ],
   "source": [
    "#GradientBoostingClassifier\n",
    "estimator = GradientBoostingClassifier()\n",
    "estimator.fit(x_train, y_train)\n",
    "y_pred = estimator.predict(x_test)\n",
    "ac_s = accuracy_score(y_test, y_pred)\n",
    "print('Performanc Measures --> GradientBoostingClassifier')\n",
    "measures =main_perf_metrics_calc(y_test, y_pred.round(),classes)\n",
    "print(measures)\n",
    "measures_table['GradientBoosting'] = measures\n",
    "\n",
    "## Accuracy, sensitivity, specificity, Precision, Recall, F1-score\n",
    "accuracy_table['GradientBoosting'] = round(measures[0] *100,2)\n",
    "sensitivity_table['GradientBoosting'] = measures[1]\n",
    "specificity_table['GradientBoosting'] = measures[2]\n",
    "Precision_table['GradientBoosting'] = measures[3]\n",
    "F1Score_table['GradientBoosting'] = measures[4]"
   ]
  },
  {
   "cell_type": "markdown",
   "id": "ccade098",
   "metadata": {},
   "source": [
    "# Stacking"
   ]
  },
  {
   "cell_type": "code",
   "execution_count": 9,
   "id": "f535348a",
   "metadata": {},
   "outputs": [
    {
     "name": "stdout",
     "output_type": "stream",
     "text": [
      "Performanc Measures --> stacking\n"
     ]
    },
    {
     "data": {
      "image/png": "[encoded data removed]",
      "text/plain": [
       "<Figure size 432x288 with 2 Axes>"
      ]
     },
     "metadata": {
      "needs_background": "light"
     },
     "output_type": "display_data"
    },
    {
     "name": "stdout",
     "output_type": "stream",
     "text": [
      "Accuracy, sensitivity, specificity, Precision, F1-score\n",
      "(0.5639097744360902, 0.5245901639344263, 0.5972222222222222, 0.5245901639344263, 0.5245901639344263)\n"
     ]
    }
   ],
   "source": [
    "#stacking\n",
    "estimators = [('rf', RandomForestClassifier(n_estimators=10, random_state=42)),\n",
    "              ('svr', make_pipeline(StandardScaler(),\n",
    "                                    LinearSVC(random_state=42)))]\n",
    "estimator = StackingClassifier(estimators=estimators)\n",
    "estimator.fit(x_train, y_train)\n",
    "y_pred = estimator.predict(x_test)\n",
    "ac_s = accuracy_score(y_test, y_pred)\n",
    "print('Performanc Measures --> stacking')\n",
    "measures =main_perf_metrics_calc(y_test, y_pred.round(),classes)\n",
    "print(measures)\n",
    "measures_table['stacking'] = measures\n",
    "accuracy_table['stacking'] = round(measures[0] *100,2)\n",
    "sensitivity_table['stacking'] = measures[1]\n",
    "specificity_table['stacking'] = measures[2]\n",
    "Precision_table['stacking'] = measures[3]\n",
    "F1Score_table['stacking'] = measures[4]"
   ]
  },
  {
   "cell_type": "markdown",
   "id": "adcf94e2",
   "metadata": {},
   "source": [
    "# VotingClassifier"
   ]
  },
  {
   "cell_type": "code",
   "execution_count": 10,
   "id": "f0cd4903",
   "metadata": {},
   "outputs": [
    {
     "name": "stdout",
     "output_type": "stream",
     "text": [
      "Performanc Measures --> VotingClassifier\n"
     ]
    },
    {
     "data": {
      "image/png": "[encoded data removed]",
      "text/plain": [
       "<Figure size 432x288 with 2 Axes>"
      ]
     },
     "metadata": {
      "needs_background": "light"
     },
     "output_type": "display_data"
    },
    {
     "name": "stdout",
     "output_type": "stream",
     "text": [
      "Accuracy, sensitivity, specificity, Precision, F1-score\n",
      "(0.5639097744360902, 0.5245901639344263, 0.5972222222222222, 0.5245901639344263, 0.5245901639344263)\n"
     ]
    }
   ],
   "source": [
    "#VotingClassifier\n",
    "estimators = [('rf', RandomForestClassifier(n_estimators=10, random_state=42)),\n",
    "              ('svr', make_pipeline(StandardScaler(),\n",
    "                                    LinearSVC(random_state=42)))]\n",
    "estimator = VotingClassifier(estimators=estimators)\n",
    "estimator.fit(x_train, y_train)\n",
    "y_pred = estimator.predict(x_test)\n",
    "ac_s = accuracy_score(y_test, y_pred)\n",
    "\n",
    "print('Performanc Measures --> VotingClassifier')\n",
    "measures =main_perf_metrics_calc(y_test, y_pred.round(),classes)\n",
    "print(measures)\n",
    "measures_table['Voting'] = measures\n",
    "\n",
    "## Accuracy, sensitivity, specificity, Precision, Recall, F1-score\n",
    "accuracy_table['Voting'] = round(measures[0] *100,2)\n",
    "sensitivity_table['Voting'] = measures[1]\n",
    "specificity_table['Voting'] = measures[2]\n",
    "Precision_table['Voting'] = measures[3]\n",
    "F1Score_table['Voting'] = measures[4]"
   ]
  },
  {
   "cell_type": "markdown",
   "id": "cdc2b39f",
   "metadata": {},
   "source": [
    "# WAE"
   ]
  },
  {
   "cell_type": "code",
   "execution_count": 11,
   "id": "95611d3a",
   "metadata": {},
   "outputs": [
    {
     "name": "stdout",
     "output_type": "stream",
     "text": [
      "[0.47540983606557374, 0.4918032786885246, 0.45901639344262296]\n",
      "Performanc Measures --> Weighted Average Ensemble\n"
     ]
    },
    {
     "data": {
      "image/png": "[encoded data removed]",
      "text/plain": [
       "<Figure size 432x288 with 2 Axes>"
      ]
     },
     "metadata": {
      "needs_background": "light"
     },
     "output_type": "display_data"
    },
    {
     "name": "stdout",
     "output_type": "stream",
     "text": [
      "Accuracy, sensitivity, specificity, Precision, F1-score\n",
      "(0.5763993948562784, 0.5409836065573771, 0.6067415730337079, 0.5409836065573771, 0.5409836065573771)\n"
     ]
    }
   ],
   "source": [
    "#WAE\n",
    "# get a list of base models\n",
    "def get_models():\n",
    "    models = list()\n",
    "    models.append(('lr', LogisticRegression()))\n",
    "    models.append(('cart', DecisionTreeClassifier()))\n",
    "    models.append(('bayes', GaussianNB()))\n",
    "    return models\n",
    "\n",
    "\n",
    "# evaluate each base model\n",
    "def evaluate_models(models, X_train, X_val, y_train, y_val):\n",
    "    # fit and evaluate the models\n",
    "    scores = list()\n",
    "    for name, model in models:\n",
    "        # fit the model\n",
    "        model.fit(X_train, y_train)\n",
    "        # evaluate the model\n",
    "        yhat = model.predict(X_val)\n",
    "        acc = accuracy_score(y_val, yhat)\n",
    "        # store the performance\n",
    "        scores.append(acc)\n",
    "    # report model performance\n",
    "    return scores\n",
    "\n",
    "# create the base models\n",
    "models = get_models()\n",
    "# fit and evaluate each model\n",
    "scores = evaluate_models(models, x_train, x_test, y_train, y_test)\n",
    "print(scores)\n",
    "# create the ensemble\n",
    "ensemble = VotingClassifier(estimators=models, voting='soft', weights=scores)\n",
    "# fit the ensemble on the training dataset\n",
    "ensemble.fit(x_train, y_train)\n",
    "# make predictions on test set\n",
    "y_pred=ensemble.predict(x_test)\n",
    "\n",
    "print('Performanc Measures --> Weighted Average Ensemble')\n",
    "measures =main_perf_metrics_calc(y_test, y_pred.round(),classes)\n",
    "print(measures)\n",
    "\n",
    "measures_table['WAE'] = measures\n",
    "\n",
    "\n",
    "accuracy_table['WAE'] = round(measures[0] *100,2)\n",
    "sensitivity_table['WAE'] = measures[1]\n",
    "specificity_table['WAE'] = measures[2]\n",
    "Precision_table['WAE'] = measures[3]\n",
    "F1Score_table['WAE'] = measures[4]"
   ]
  },
  {
   "cell_type": "markdown",
   "id": "fe821b0f",
   "metadata": {},
   "source": [
    "# Plotting Accuracy for all Classifiers\n"
   ]
  },
  {
   "cell_type": "code",
   "execution_count": 12,
   "id": "087b2e1e",
   "metadata": {},
   "outputs": [
    {
     "data": {
      "text/plain": [
       "([0, 1, 2, 3, 4],\n",
       " [Text(0, 0, ''),\n",
       "  Text(0, 0, ''),\n",
       "  Text(0, 0, ''),\n",
       "  Text(0, 0, ''),\n",
       "  Text(0, 0, '')])"
      ]
     },
     "execution_count": 12,
     "metadata": {},
     "output_type": "execute_result"
    },
    {
     "data": {
      "image/png": "[encoded data removed]",
      "text/plain": [
       "<Figure size 576x504 with 1 Axes>"
      ]
     },
     "metadata": {
      "needs_background": "light"
     },
     "output_type": "display_data"
    }
   ],
   "source": [
    "plt.figure(figsize=(8,7))\n",
    "# Change color of each bar\n",
    "plt.bar(list(accuracy_table.keys()),list(accuracy_table.values()), color=['firebrick', 'green', 'blue', 'black', 'red','orange','gray'])\n",
    "\n",
    "def addtext(x,y):\n",
    "    for i in range(len(x)):\n",
    "        plt.text(i,1.0016*y[i],y[i],ha = 'center',rotation=0)\n",
    "    \n",
    "max_value_dct_time = math.floor(max(accuracy_table.values()))\n",
    "min_value_dct_time = math.floor(min(accuracy_table.values()))\n",
    "                       \n",
    "addtext(list(accuracy_table.keys()),list(accuracy_table.values()))\n",
    "\n",
    "plt.title('Testing Accuracy for All Classifiers')\n",
    "plt.ylim(min_value_dct_time-1,max_value_dct_time+1)\n",
    "plt.ylabel('Accuracy %')\n",
    "\n",
    "# plt.yticks((91, 92, 93, 94, 95, 96, 97, 98, 99, 100))\n",
    "plt.xticks(rotation=45)"
   ]
  },
  {
   "cell_type": "markdown",
   "id": "e44efe0f",
   "metadata": {},
   "source": [
    "# Showing All Results in a Single Plot\n"
   ]
  },
  {
   "cell_type": "code",
   "execution_count": 13,
   "id": "c8f033ad",
   "metadata": {},
   "outputs": [
    {
     "name": "stdout",
     "output_type": "stream",
     "text": [
      "[0 1 2 3 4]\n"
     ]
    },
    {
     "data": {
      "image/png": "[encoded data removed]",
      "text/plain": [
       "<Figure size 576x504 with 1 Axes>"
      ]
     },
     "metadata": {
      "needs_background": "light"
     },
     "output_type": "display_data"
    }
   ],
   "source": [
    "plt.figure(figsize=(8,7))\n",
    "\n",
    "x_axis = np.arange(len(accuracy_table))\n",
    "\n",
    "# Change color of each bar\n",
    "#plt.bar(x_axis -0.2,list(accuracy_table.values()),\n",
    "#           label = 'Accuracy',width=0.4)\n",
    "\n",
    "plt.bar(x_axis-0.4,list(sensitivity_table.values()),\n",
    "           label = 'Sensitivity',width=0.15)\n",
    "\n",
    "plt.bar(x_axis-0.2,list(specificity_table.values()),\n",
    "           label = 'Specificity',width=0.15)\n",
    "\n",
    "plt.bar(x_axis,list(Precision_table.values()),\n",
    "           label = 'Precision',width=0.15)\n",
    "\n",
    "plt.bar(x_axis+0.4,list(F1Score_table.values()),\n",
    "           label = 'F1 Score',width=0.15)\n",
    "\n",
    "print(x_axis)\n",
    "\n",
    "def addtext1(x,y):\n",
    "    for i in range(len(x)):\n",
    "        plt.text(i,1.010*y[i],y[i],rotation=90)\n",
    "\n",
    "def addtext2(x,y):\n",
    "    for i in range(len(x)):\n",
    "        plt.text(i,1.010*y[i],y[i],ha = 'left',rotation=0)\n",
    "\n",
    "plt.ylabel('Sensitivity, Specificity, Precision, Recall, F1-Score')\n",
    "plt.title('All Performance Measures for all Classifiers')\n",
    "# plt.ylim(min_value_dct-2,max_value_dct+2)\n",
    "plt.xticks(x_axis, list(accuracy_table.keys()))\n",
    "#addtext1(list(sensitivity_table.keys()),list(sensitivity_table.values()))\n",
    "\n",
    "plt.yticks((0, 0.1, 0.2, 0.3, 0.4, 0.5, 0.6,0.7, 0.8, 0.9, 1.0))\n",
    "plt.xticks(rotation=45)\n",
    "plt.legend()\n",
    "plt.show()\n"
   ]
  },
  {
   "cell_type": "markdown",
   "id": "4631da87",
   "metadata": {},
   "source": [
    "# Showing  Complete Table"
   ]
  },
  {
   "cell_type": "code",
   "execution_count": 14,
   "id": "6d08b55c",
   "metadata": {},
   "outputs": [
    {
     "name": "stdout",
     "output_type": "stream",
     "text": [
      "------------------------------------------------------------------------------------------\n",
      "Classifier | Accuracy %  | Sensitivity | Specificity | Precision  | F1-Score  \n",
      "Bagging    | 56.391      | 0.525       | 0.597       | 0.525      | 0.525      \n",
      "Gradient   | 55.157      | 0.508       | 0.588       | 0.508      | 0.508      \n",
      "stacking   | 56.391      | 0.525       | 0.597       | 0.525      | 0.525      \n",
      "Voting     | 56.391      | 0.525       | 0.597       | 0.525      | 0.525      \n",
      "WAE        | 57.64       | 0.541       | 0.607       | 0.541      | 0.541      \n",
      "------------------------------------------------------------------------------------------\n"
     ]
    }
   ],
   "source": [
    "def header():\n",
    "    for x in range(90):\n",
    "        print ('-',end = '')\n",
    "    print('')\n",
    "    \n",
    "header()\n",
    "print (\"{:<10} | {:<11} | {:<11} | {:<11} | {:<10} | {:<10}\".format('Classifier','Accuracy %', 'Sensitivity', 'Specificity','Precision','F1-Score'))\n",
    " \n",
    "# print each data item.\n",
    "for key, value in measures_table.items():\n",
    "    Acc,Sen,Spec,Prec,F1 = value\n",
    "#    header()\n",
    "    if key == 'GradientBoosting':\n",
    "        key ='Gradient'\n",
    "    print (\"{:<10} | {:<11} | {:<11} | {:<11} | {:<10} | {:<10} \".format(key,round(Acc*100,3),round(Sen,3),round(Spec,3),round(Prec,3),round(F1,3)))\n",
    "header()"
   ]
  },
  {
   "cell_type": "markdown",
   "id": "9d7856fe",
   "metadata": {},
   "source": [
    "# Saving Results to File"
   ]
  },
  {
   "cell_type": "code",
   "execution_count": 15,
   "id": "a07c403a",
   "metadata": {},
   "outputs": [],
   "source": [
    "# Create Folder for Results if not exist\n",
    "if not os.path.exists('Results'):\n",
    "    os.makedirs('Results')"
   ]
  },
  {
   "cell_type": "code",
   "execution_count": 16,
   "id": "567b8280",
   "metadata": {},
   "outputs": [],
   "source": [
    "#####################################################\n",
    "                ## Using Pickle\n",
    "################################################        \n",
    "#import pickle\n",
    "# Open a file and use dump()\n",
    "#with open('results/ML.pkl', 'wb') as file:\n",
    "    # A new file will be created\n",
    "#    pickle.dump(measures_table, file)    "
   ]
  },
  {
   "cell_type": "code",
   "execution_count": 17,
   "id": "a2f30c09",
   "metadata": {},
   "outputs": [],
   "source": [
    "#####################################################\n",
    "                ## Using CSV\n",
    "################################################\n",
    "# import csv\n",
    "#w = csv.writer(open(\"Results/output.csv\", \"wb\"))\n",
    "\n",
    "# loop over dictionary keys and values\n",
    "#for key, val in measures_table.items():\n",
    "#    print(key,val)\n",
    "    # write every key and value to file\n",
    "#    w.writerow([key, val])"
   ]
  },
  {
   "cell_type": "code",
   "execution_count": 18,
   "id": "d8437a96",
   "metadata": {},
   "outputs": [],
   "source": [
    "#####################################################\n",
    "                ## Using JSON\n",
    "################################################\n",
    "# load json module\n",
    "\n",
    "# python dictionary with key value pairs\n",
    "\n",
    "# create json object from dictionary\n",
    "json = json.dumps(measures_table)\n",
    "\n",
    "# open file for writing, \"w\" \n",
    "f = open(\"Results/ML.json\",\"w\")\n",
    "\n",
    "# write json object to file\n",
    "f.write(json)\n",
    "\n",
    "# close file\n",
    "f.close()"
   ]
  },
  {
   "cell_type": "code",
   "execution_count": null,
   "id": "0d9c9404",
   "metadata": {},
   "outputs": [],
   "source": []
  }
 ],
 "metadata": {
  "kernelspec": {
   "display_name": "Python 3",
   "language": "python",
   "name": "python3"
  },
  "language_info": {
   "codemirror_mode": {
    "name": "ipython",
    "version": 3
   },
   "file_extension": ".py",
   "mimetype": "text/x-python",
   "name": "python",
   "nbconvert_exporter": "python",
   "pygments_lexer": "ipython3",
   "version": "3.6.5"
  }
 },
 "nbformat": 4,
 "nbformat_minor": 5
}
